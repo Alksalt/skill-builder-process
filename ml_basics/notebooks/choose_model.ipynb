{
 "cells": [
  {
   "cell_type": "code",
   "execution_count": 68,
   "id": "447939e8",
   "metadata": {},
   "outputs": [],
   "source": [
    "import pandas as pd\n",
    "import numpy as np\n",
    "import seaborn as sns\n",
    "import plotly.express as px\n",
    "from IPython.display import display\n",
    "import os\n",
    "from sklearn.model_selection import train_test_split\n",
    "from sklearn.preprocessing import StandardScaler, LabelEncoder\n",
    "from sklearn.metrics import accuracy_score, classification_report, confusion_matrix\n",
    "\n",
    "import matplotlib.pyplot as plt\n"
   ]
  },
  {
   "cell_type": "markdown",
   "id": "d508653b",
   "metadata": {},
   "source": [
    "# ETL + EDA pipeline\n",
    "This section adds a configurable, defensive ETL + EDA pipeline. Edit the next cell (config) only; then run cells top-to-bottom in this section."
   ]
  },
  {
   "cell_type": "code",
   "execution_count": 69,
   "id": "f520d63f",
   "metadata": {},
   "outputs": [
    {
     "name": "stdout",
     "output_type": "stream",
     "text": [
      "Edit config above if needed (paths/types); then run all cells below).\n"
     ]
    }
   ],
   "source": [
    "# Config: edit these variables, then run all cells below\n",
    "DATA_PATH = '../data/rossmann/train.csv'   # path to CSV/Parquet/Feather\n",
    "FILE_TYPE = 'csv'                           # one of: 'csv', 'parquet', 'feather'\n",
    "TARGET_COL = None                            # e.g., 'Sales' or None\n",
    "DATETIME_COLS = ['Date']                     # columns to parse as datetime\n",
    "PRIMARY_KEY = None                           # e.g., 'Id' or None\n",
    "CATEGORICAL_HINTS = ['Store', 'StateHoliday']# extra columns to force to category\n",
    "MISSING_STRATEGY = 0                         # 0: numeric->0, categorical->'Unknown' (datetimes unchanged)\n",
    "READ_KW = {\"low_memory\": False}             # kwargs passed to pandas read_*\n",
    "print('Edit config above if needed (paths/types); then run all cells below).')"
   ]
  },
  {
   "cell_type": "code",
   "execution_count": 70,
   "id": "92e5f5ea",
   "metadata": {},
   "outputs": [
    {
     "name": "stdout",
     "output_type": "stream",
     "text": [
      "Path: ../data/rossmann/train.csv | type: csv | loaded: True\n",
      "Shape: (1017209, 9)\n"
     ]
    },
    {
     "data": {
      "application/vnd.microsoft.datawrangler.viewer.v0+json": {
       "columns": [
        {
         "name": "index",
         "rawType": "int64",
         "type": "integer"
        },
        {
         "name": "Store",
         "rawType": "int64",
         "type": "integer"
        },
        {
         "name": "DayOfWeek",
         "rawType": "int64",
         "type": "integer"
        },
        {
         "name": "Date",
         "rawType": "object",
         "type": "string"
        },
        {
         "name": "Sales",
         "rawType": "int64",
         "type": "integer"
        },
        {
         "name": "Customers",
         "rawType": "int64",
         "type": "integer"
        },
        {
         "name": "Open",
         "rawType": "int64",
         "type": "integer"
        },
        {
         "name": "Promo",
         "rawType": "int64",
         "type": "integer"
        },
        {
         "name": "StateHoliday",
         "rawType": "object",
         "type": "string"
        },
        {
         "name": "SchoolHoliday",
         "rawType": "int64",
         "type": "integer"
        }
       ],
       "ref": "71aed7f9-93e4-436b-bc81-848ff983efdc",
       "rows": [
        [
         "0",
         "1",
         "5",
         "2015-07-31",
         "5263",
         "555",
         "1",
         "1",
         "0",
         "1"
        ],
        [
         "1",
         "2",
         "5",
         "2015-07-31",
         "6064",
         "625",
         "1",
         "1",
         "0",
         "1"
        ],
        [
         "2",
         "3",
         "5",
         "2015-07-31",
         "8314",
         "821",
         "1",
         "1",
         "0",
         "1"
        ]
       ],
       "shape": {
        "columns": 9,
        "rows": 3
       }
      },
      "text/html": [
       "<div>\n",
       "<style scoped>\n",
       "    .dataframe tbody tr th:only-of-type {\n",
       "        vertical-align: middle;\n",
       "    }\n",
       "\n",
       "    .dataframe tbody tr th {\n",
       "        vertical-align: top;\n",
       "    }\n",
       "\n",
       "    .dataframe thead th {\n",
       "        text-align: right;\n",
       "    }\n",
       "</style>\n",
       "<table border=\"1\" class=\"dataframe\">\n",
       "  <thead>\n",
       "    <tr style=\"text-align: right;\">\n",
       "      <th></th>\n",
       "      <th>Store</th>\n",
       "      <th>DayOfWeek</th>\n",
       "      <th>Date</th>\n",
       "      <th>Sales</th>\n",
       "      <th>Customers</th>\n",
       "      <th>Open</th>\n",
       "      <th>Promo</th>\n",
       "      <th>StateHoliday</th>\n",
       "      <th>SchoolHoliday</th>\n",
       "    </tr>\n",
       "  </thead>\n",
       "  <tbody>\n",
       "    <tr>\n",
       "      <th>0</th>\n",
       "      <td>1</td>\n",
       "      <td>5</td>\n",
       "      <td>2015-07-31</td>\n",
       "      <td>5263</td>\n",
       "      <td>555</td>\n",
       "      <td>1</td>\n",
       "      <td>1</td>\n",
       "      <td>0</td>\n",
       "      <td>1</td>\n",
       "    </tr>\n",
       "    <tr>\n",
       "      <th>1</th>\n",
       "      <td>2</td>\n",
       "      <td>5</td>\n",
       "      <td>2015-07-31</td>\n",
       "      <td>6064</td>\n",
       "      <td>625</td>\n",
       "      <td>1</td>\n",
       "      <td>1</td>\n",
       "      <td>0</td>\n",
       "      <td>1</td>\n",
       "    </tr>\n",
       "    <tr>\n",
       "      <th>2</th>\n",
       "      <td>3</td>\n",
       "      <td>5</td>\n",
       "      <td>2015-07-31</td>\n",
       "      <td>8314</td>\n",
       "      <td>821</td>\n",
       "      <td>1</td>\n",
       "      <td>1</td>\n",
       "      <td>0</td>\n",
       "      <td>1</td>\n",
       "    </tr>\n",
       "  </tbody>\n",
       "</table>\n",
       "</div>"
      ],
      "text/plain": [
       "   Store  DayOfWeek        Date  Sales  Customers  Open  Promo StateHoliday  \\\n",
       "0      1          5  2015-07-31   5263        555     1      1            0   \n",
       "1      2          5  2015-07-31   6064        625     1      1            0   \n",
       "2      3          5  2015-07-31   8314        821     1      1            0   \n",
       "\n",
       "   SchoolHoliday  \n",
       "0              1  \n",
       "1              1  \n",
       "2              1  "
      ]
     },
     "metadata": {},
     "output_type": "display_data"
    },
    {
     "name": "stdout",
     "output_type": "stream",
     "text": [
      "TL;DR: Loaded data and previewed first rows.\n"
     ]
    }
   ],
   "source": [
    "# Extract\n",
    "df = None\n",
    "warns = []\n",
    "try:\n",
    "    if FILE_TYPE.lower() == 'csv':\n",
    "        df = pd.read_csv(DATA_PATH, **READ_KW)\n",
    "    elif FILE_TYPE.lower() == 'parquet':\n",
    "        df = pd.read_parquet(DATA_PATH)\n",
    "    elif FILE_TYPE.lower() == 'feather':\n",
    "        df = pd.read_feather(DATA_PATH)\n",
    "    else:\n",
    "        warns.append(f\"Unknown FILE_TYPE: {FILE_TYPE}\")\n",
    "        df = pd.read_csv(DATA_PATH, **READ_KW)  # fallback\n",
    "except Exception as e:\n",
    "    warns.append(f'Load failed: {e}')\n",
    "print(f'Path: {DATA_PATH} | type: {FILE_TYPE} | loaded: {isinstance(df, pd.DataFrame)}')\n",
    "if df is not None:\n",
    "    print('Shape:', df.shape)\n",
    "    display(df.head(3))\n",
    "if warns:\n",
    "    print('Warnings:', '; '.join(warns))\n",
    "print('TL;DR: Loaded data and previewed first rows.')"
   ]
  },
  {
   "cell_type": "code",
   "execution_count": 71,
   "id": "e6f12a94",
   "metadata": {},
   "outputs": [
    {
     "name": "stdout",
     "output_type": "stream",
     "text": [
      "Loaded store.csv from ../data/rossmann/store.csv, shape=(1115, 10)\n"
     ]
    },
    {
     "data": {
      "application/vnd.microsoft.datawrangler.viewer.v0+json": {
       "columns": [
        {
         "name": "index",
         "rawType": "int64",
         "type": "integer"
        },
        {
         "name": "Store",
         "rawType": "int64",
         "type": "integer"
        },
        {
         "name": "StoreType",
         "rawType": "object",
         "type": "string"
        },
        {
         "name": "Assortment",
         "rawType": "object",
         "type": "string"
        },
        {
         "name": "CompetitionDistance",
         "rawType": "float64",
         "type": "float"
        },
        {
         "name": "CompetitionOpenSinceMonth",
         "rawType": "float64",
         "type": "float"
        },
        {
         "name": "CompetitionOpenSinceYear",
         "rawType": "float64",
         "type": "float"
        },
        {
         "name": "Promo2",
         "rawType": "int64",
         "type": "integer"
        },
        {
         "name": "Promo2SinceWeek",
         "rawType": "float64",
         "type": "float"
        },
        {
         "name": "Promo2SinceYear",
         "rawType": "float64",
         "type": "float"
        },
        {
         "name": "PromoInterval",
         "rawType": "object",
         "type": "unknown"
        }
       ],
       "ref": "e1e726fa-c876-4204-84e7-fd1f71371690",
       "rows": [
        [
         "0",
         "1",
         "c",
         "a",
         "1270.0",
         "9.0",
         "2008.0",
         "0",
         null,
         null,
         null
        ],
        [
         "1",
         "2",
         "a",
         "a",
         "570.0",
         "11.0",
         "2007.0",
         "1",
         "13.0",
         "2010.0",
         "Jan,Apr,Jul,Oct"
        ],
        [
         "2",
         "3",
         "a",
         "a",
         "14130.0",
         "12.0",
         "2006.0",
         "1",
         "14.0",
         "2011.0",
         "Jan,Apr,Jul,Oct"
        ]
       ],
       "shape": {
        "columns": 10,
        "rows": 3
       }
      },
      "text/html": [
       "<div>\n",
       "<style scoped>\n",
       "    .dataframe tbody tr th:only-of-type {\n",
       "        vertical-align: middle;\n",
       "    }\n",
       "\n",
       "    .dataframe tbody tr th {\n",
       "        vertical-align: top;\n",
       "    }\n",
       "\n",
       "    .dataframe thead th {\n",
       "        text-align: right;\n",
       "    }\n",
       "</style>\n",
       "<table border=\"1\" class=\"dataframe\">\n",
       "  <thead>\n",
       "    <tr style=\"text-align: right;\">\n",
       "      <th></th>\n",
       "      <th>Store</th>\n",
       "      <th>StoreType</th>\n",
       "      <th>Assortment</th>\n",
       "      <th>CompetitionDistance</th>\n",
       "      <th>CompetitionOpenSinceMonth</th>\n",
       "      <th>CompetitionOpenSinceYear</th>\n",
       "      <th>Promo2</th>\n",
       "      <th>Promo2SinceWeek</th>\n",
       "      <th>Promo2SinceYear</th>\n",
       "      <th>PromoInterval</th>\n",
       "    </tr>\n",
       "  </thead>\n",
       "  <tbody>\n",
       "    <tr>\n",
       "      <th>0</th>\n",
       "      <td>1</td>\n",
       "      <td>c</td>\n",
       "      <td>a</td>\n",
       "      <td>1270.0</td>\n",
       "      <td>9.0</td>\n",
       "      <td>2008.0</td>\n",
       "      <td>0</td>\n",
       "      <td>NaN</td>\n",
       "      <td>NaN</td>\n",
       "      <td>NaN</td>\n",
       "    </tr>\n",
       "    <tr>\n",
       "      <th>1</th>\n",
       "      <td>2</td>\n",
       "      <td>a</td>\n",
       "      <td>a</td>\n",
       "      <td>570.0</td>\n",
       "      <td>11.0</td>\n",
       "      <td>2007.0</td>\n",
       "      <td>1</td>\n",
       "      <td>13.0</td>\n",
       "      <td>2010.0</td>\n",
       "      <td>Jan,Apr,Jul,Oct</td>\n",
       "    </tr>\n",
       "    <tr>\n",
       "      <th>2</th>\n",
       "      <td>3</td>\n",
       "      <td>a</td>\n",
       "      <td>a</td>\n",
       "      <td>14130.0</td>\n",
       "      <td>12.0</td>\n",
       "      <td>2006.0</td>\n",
       "      <td>1</td>\n",
       "      <td>14.0</td>\n",
       "      <td>2011.0</td>\n",
       "      <td>Jan,Apr,Jul,Oct</td>\n",
       "    </tr>\n",
       "  </tbody>\n",
       "</table>\n",
       "</div>"
      ],
      "text/plain": [
       "   Store StoreType Assortment  CompetitionDistance  CompetitionOpenSinceMonth  \\\n",
       "0      1         c          a               1270.0                        9.0   \n",
       "1      2         a          a                570.0                       11.0   \n",
       "2      3         a          a              14130.0                       12.0   \n",
       "\n",
       "   CompetitionOpenSinceYear  Promo2  Promo2SinceWeek  Promo2SinceYear  \\\n",
       "0                    2008.0       0              NaN              NaN   \n",
       "1                    2007.0       1             13.0           2010.0   \n",
       "2                    2006.0       1             14.0           2011.0   \n",
       "\n",
       "     PromoInterval  \n",
       "0              NaN  \n",
       "1  Jan,Apr,Jul,Oct  \n",
       "2  Jan,Apr,Jul,Oct  "
      ]
     },
     "metadata": {},
     "output_type": "display_data"
    },
    {
     "name": "stdout",
     "output_type": "stream",
     "text": [
      "Left join completed on 'Store': (1017209, 9) -> (1017209, 18)\n"
     ]
    },
    {
     "data": {
      "application/vnd.microsoft.datawrangler.viewer.v0+json": {
       "columns": [
        {
         "name": "index",
         "rawType": "int64",
         "type": "integer"
        },
        {
         "name": "Store",
         "rawType": "int64",
         "type": "integer"
        },
        {
         "name": "DayOfWeek",
         "rawType": "int64",
         "type": "integer"
        },
        {
         "name": "Date",
         "rawType": "object",
         "type": "string"
        },
        {
         "name": "Sales",
         "rawType": "int64",
         "type": "integer"
        },
        {
         "name": "Customers",
         "rawType": "int64",
         "type": "integer"
        },
        {
         "name": "Open",
         "rawType": "int64",
         "type": "integer"
        },
        {
         "name": "Promo",
         "rawType": "int64",
         "type": "integer"
        },
        {
         "name": "StateHoliday",
         "rawType": "object",
         "type": "string"
        },
        {
         "name": "SchoolHoliday",
         "rawType": "int64",
         "type": "integer"
        },
        {
         "name": "StoreType",
         "rawType": "category",
         "type": "unknown"
        },
        {
         "name": "Assortment",
         "rawType": "category",
         "type": "unknown"
        },
        {
         "name": "CompetitionDistance",
         "rawType": "float64",
         "type": "float"
        },
        {
         "name": "CompetitionOpenSinceMonth",
         "rawType": "float64",
         "type": "float"
        },
        {
         "name": "CompetitionOpenSinceYear",
         "rawType": "float64",
         "type": "float"
        },
        {
         "name": "Promo2",
         "rawType": "int64",
         "type": "integer"
        },
        {
         "name": "Promo2SinceWeek",
         "rawType": "float64",
         "type": "float"
        },
        {
         "name": "Promo2SinceYear",
         "rawType": "float64",
         "type": "float"
        },
        {
         "name": "PromoInterval",
         "rawType": "category",
         "type": "unknown"
        }
       ],
       "ref": "fc42476b-1fb4-48c0-977f-5fe9d0db5e74",
       "rows": [
        [
         "0",
         "1",
         "5",
         "2015-07-31",
         "5263",
         "555",
         "1",
         "1",
         "0",
         "1",
         "c",
         "a",
         "1270.0",
         "9.0",
         "2008.0",
         "0",
         null,
         null,
         null
        ],
        [
         "1",
         "2",
         "5",
         "2015-07-31",
         "6064",
         "625",
         "1",
         "1",
         "0",
         "1",
         "a",
         "a",
         "570.0",
         "11.0",
         "2007.0",
         "1",
         "13.0",
         "2010.0",
         "Jan,Apr,Jul,Oct"
        ],
        [
         "2",
         "3",
         "5",
         "2015-07-31",
         "8314",
         "821",
         "1",
         "1",
         "0",
         "1",
         "a",
         "a",
         "14130.0",
         "12.0",
         "2006.0",
         "1",
         "14.0",
         "2011.0",
         "Jan,Apr,Jul,Oct"
        ]
       ],
       "shape": {
        "columns": 18,
        "rows": 3
       }
      },
      "text/html": [
       "<div>\n",
       "<style scoped>\n",
       "    .dataframe tbody tr th:only-of-type {\n",
       "        vertical-align: middle;\n",
       "    }\n",
       "\n",
       "    .dataframe tbody tr th {\n",
       "        vertical-align: top;\n",
       "    }\n",
       "\n",
       "    .dataframe thead th {\n",
       "        text-align: right;\n",
       "    }\n",
       "</style>\n",
       "<table border=\"1\" class=\"dataframe\">\n",
       "  <thead>\n",
       "    <tr style=\"text-align: right;\">\n",
       "      <th></th>\n",
       "      <th>Store</th>\n",
       "      <th>DayOfWeek</th>\n",
       "      <th>Date</th>\n",
       "      <th>Sales</th>\n",
       "      <th>Customers</th>\n",
       "      <th>Open</th>\n",
       "      <th>Promo</th>\n",
       "      <th>StateHoliday</th>\n",
       "      <th>SchoolHoliday</th>\n",
       "      <th>StoreType</th>\n",
       "      <th>Assortment</th>\n",
       "      <th>CompetitionDistance</th>\n",
       "      <th>CompetitionOpenSinceMonth</th>\n",
       "      <th>CompetitionOpenSinceYear</th>\n",
       "      <th>Promo2</th>\n",
       "      <th>Promo2SinceWeek</th>\n",
       "      <th>Promo2SinceYear</th>\n",
       "      <th>PromoInterval</th>\n",
       "    </tr>\n",
       "  </thead>\n",
       "  <tbody>\n",
       "    <tr>\n",
       "      <th>0</th>\n",
       "      <td>1</td>\n",
       "      <td>5</td>\n",
       "      <td>2015-07-31</td>\n",
       "      <td>5263</td>\n",
       "      <td>555</td>\n",
       "      <td>1</td>\n",
       "      <td>1</td>\n",
       "      <td>0</td>\n",
       "      <td>1</td>\n",
       "      <td>c</td>\n",
       "      <td>a</td>\n",
       "      <td>1270.0</td>\n",
       "      <td>9.0</td>\n",
       "      <td>2008.0</td>\n",
       "      <td>0</td>\n",
       "      <td>NaN</td>\n",
       "      <td>NaN</td>\n",
       "      <td>NaN</td>\n",
       "    </tr>\n",
       "    <tr>\n",
       "      <th>1</th>\n",
       "      <td>2</td>\n",
       "      <td>5</td>\n",
       "      <td>2015-07-31</td>\n",
       "      <td>6064</td>\n",
       "      <td>625</td>\n",
       "      <td>1</td>\n",
       "      <td>1</td>\n",
       "      <td>0</td>\n",
       "      <td>1</td>\n",
       "      <td>a</td>\n",
       "      <td>a</td>\n",
       "      <td>570.0</td>\n",
       "      <td>11.0</td>\n",
       "      <td>2007.0</td>\n",
       "      <td>1</td>\n",
       "      <td>13.0</td>\n",
       "      <td>2010.0</td>\n",
       "      <td>Jan,Apr,Jul,Oct</td>\n",
       "    </tr>\n",
       "    <tr>\n",
       "      <th>2</th>\n",
       "      <td>3</td>\n",
       "      <td>5</td>\n",
       "      <td>2015-07-31</td>\n",
       "      <td>8314</td>\n",
       "      <td>821</td>\n",
       "      <td>1</td>\n",
       "      <td>1</td>\n",
       "      <td>0</td>\n",
       "      <td>1</td>\n",
       "      <td>a</td>\n",
       "      <td>a</td>\n",
       "      <td>14130.0</td>\n",
       "      <td>12.0</td>\n",
       "      <td>2006.0</td>\n",
       "      <td>1</td>\n",
       "      <td>14.0</td>\n",
       "      <td>2011.0</td>\n",
       "      <td>Jan,Apr,Jul,Oct</td>\n",
       "    </tr>\n",
       "  </tbody>\n",
       "</table>\n",
       "</div>"
      ],
      "text/plain": [
       "   Store  DayOfWeek        Date  Sales  Customers  Open  Promo StateHoliday  \\\n",
       "0      1          5  2015-07-31   5263        555     1      1            0   \n",
       "1      2          5  2015-07-31   6064        625     1      1            0   \n",
       "2      3          5  2015-07-31   8314        821     1      1            0   \n",
       "\n",
       "   SchoolHoliday StoreType Assortment  CompetitionDistance  \\\n",
       "0              1         c          a               1270.0   \n",
       "1              1         a          a                570.0   \n",
       "2              1         a          a              14130.0   \n",
       "\n",
       "   CompetitionOpenSinceMonth  CompetitionOpenSinceYear  Promo2  \\\n",
       "0                        9.0                    2008.0       0   \n",
       "1                       11.0                    2007.0       1   \n",
       "2                       12.0                    2006.0       1   \n",
       "\n",
       "   Promo2SinceWeek  Promo2SinceYear    PromoInterval  \n",
       "0              NaN              NaN              NaN  \n",
       "1             13.0           2010.0  Jan,Apr,Jul,Oct  \n",
       "2             14.0           2011.0  Jan,Apr,Jul,Oct  "
      ]
     },
     "metadata": {},
     "output_type": "display_data"
    },
    {
     "name": "stdout",
     "output_type": "stream",
     "text": [
      "TL;DR: Loaded store.csv and left-joined to df (if available).\n"
     ]
    }
   ],
   "source": [
    "# Load store.csv and left-join into main df on 'Store'\n",
    "import os\n",
    "store_path = os.path.join(os.path.dirname(DATA_PATH), 'store.csv')\n",
    "store_df = None\n",
    "try:\n",
    "    if os.path.exists(store_path):\n",
    "        store_df = pd.read_csv(store_path, low_memory=False)\n",
    "        print(f\"Loaded store.csv from {store_path}, shape={store_df.shape}\")\n",
    "        display(store_df.head(3))\n",
    "    else:\n",
    "        print(f\"Warning: store.csv not found at {store_path}; skipping join.\")\n",
    "except Exception as e:\n",
    "    print(f\"Failed to load store.csv: {e}\")\n",
    "if (store_df is not None) and (df is not None):\n",
    "    # Optional: cast low-cardinality object cols to category\n",
    "    for col in store_df.select_dtypes(include='object').columns:\n",
    "        try:\n",
    "            if store_df[col].nunique(dropna=True) <= 20:\n",
    "                store_df[col] = store_df[col].astype('category')\n",
    "        except Exception as e:\n",
    "            print(f\"Warning: could not cast {col}: {e}\")\n",
    "    if ('Store' in df.columns) and ('Store' in store_df.columns):\n",
    "        before_shape = df.shape\n",
    "        df = df.merge(store_df, on='Store', how='left')\n",
    "        print(f\"Left join completed on 'Store': {before_shape} -> {df.shape}\")\n",
    "        display(df.head(3))\n",
    "    else:\n",
    "        print(\"Warning: 'Store' key missing in one of the tables; skipped join.\")\n",
    "print('TL;DR: Loaded store.csv and left-joined to df (if available).')"
   ]
  },
  {
   "cell_type": "code",
   "execution_count": 72,
   "id": "11f8e21a",
   "metadata": {},
   "outputs": [
    {
     "data": {
      "application/vnd.microsoft.datawrangler.viewer.v0+json": {
       "columns": [
        {
         "name": "index",
         "rawType": "int64",
         "type": "integer"
        },
        {
         "name": "column",
         "rawType": "object",
         "type": "string"
        },
        {
         "name": "dtype",
         "rawType": "object",
         "type": "string"
        },
        {
         "name": "non_null",
         "rawType": "int64",
         "type": "integer"
        },
        {
         "name": "nulls",
         "rawType": "int64",
         "type": "integer"
        },
        {
         "name": "distinct_count",
         "rawType": "int64",
         "type": "integer"
        },
        {
         "name": "example_values",
         "rawType": "object",
         "type": "unknown"
        }
       ],
       "ref": "f9c75188-e42d-463d-873c-65ce85ffaecc",
       "rows": [
        [
         "0",
         "Store",
         "int64",
         "1017209",
         "0",
         "1115",
         "['1', '2', '3']"
        ],
        [
         "1",
         "DayOfWeek",
         "int64",
         "1017209",
         "0",
         "7",
         "['5', '5', '5']"
        ],
        [
         "2",
         "Date",
         "object",
         "1017209",
         "0",
         "942",
         "['2015-07-31', '2015-07-31', '2015-07-31']"
        ],
        [
         "3",
         "Sales",
         "int64",
         "1017209",
         "0",
         "21734",
         "['5263', '6064', '8314']"
        ],
        [
         "4",
         "Customers",
         "int64",
         "1017209",
         "0",
         "4086",
         "['555', '625', '821']"
        ],
        [
         "5",
         "Open",
         "int64",
         "1017209",
         "0",
         "2",
         "['1', '1', '1']"
        ],
        [
         "6",
         "Promo",
         "int64",
         "1017209",
         "0",
         "2",
         "['1', '1', '1']"
        ],
        [
         "7",
         "StateHoliday",
         "object",
         "1017209",
         "0",
         "4",
         "['0', '0', '0']"
        ],
        [
         "8",
         "SchoolHoliday",
         "int64",
         "1017209",
         "0",
         "2",
         "['1', '1', '1']"
        ],
        [
         "9",
         "StoreType",
         "category",
         "1017209",
         "0",
         "4",
         "['c', 'a', 'a']"
        ],
        [
         "10",
         "Assortment",
         "category",
         "1017209",
         "0",
         "3",
         "['a', 'a', 'a']"
        ],
        [
         "11",
         "CompetitionDistance",
         "float64",
         "1014567",
         "2642",
         "654",
         "['1270.0', '570.0', '14130.0']"
        ],
        [
         "12",
         "CompetitionOpenSinceMonth",
         "float64",
         "693861",
         "323348",
         "12",
         "['9.0', '11.0', '12.0']"
        ],
        [
         "13",
         "CompetitionOpenSinceYear",
         "float64",
         "693861",
         "323348",
         "23",
         "['2008.0', '2007.0', '2006.0']"
        ],
        [
         "14",
         "Promo2",
         "int64",
         "1017209",
         "0",
         "2",
         "['0', '1', '1']"
        ],
        [
         "15",
         "Promo2SinceWeek",
         "float64",
         "509178",
         "508031",
         "24",
         "['13.0', '14.0', '1.0']"
        ],
        [
         "16",
         "Promo2SinceYear",
         "float64",
         "509178",
         "508031",
         "7",
         "['2010.0', '2011.0', '2012.0']"
        ],
        [
         "17",
         "PromoInterval",
         "category",
         "509178",
         "508031",
         "3",
         "['Jan,Apr,Jul,Oct', 'Jan,Apr,Jul,Oct', 'Jan,Apr,Jul,Oct']"
        ]
       ],
       "shape": {
        "columns": 6,
        "rows": 18
       }
      },
      "text/html": [
       "<div>\n",
       "<style scoped>\n",
       "    .dataframe tbody tr th:only-of-type {\n",
       "        vertical-align: middle;\n",
       "    }\n",
       "\n",
       "    .dataframe tbody tr th {\n",
       "        vertical-align: top;\n",
       "    }\n",
       "\n",
       "    .dataframe thead th {\n",
       "        text-align: right;\n",
       "    }\n",
       "</style>\n",
       "<table border=\"1\" class=\"dataframe\">\n",
       "  <thead>\n",
       "    <tr style=\"text-align: right;\">\n",
       "      <th></th>\n",
       "      <th>column</th>\n",
       "      <th>dtype</th>\n",
       "      <th>non_null</th>\n",
       "      <th>nulls</th>\n",
       "      <th>distinct_count</th>\n",
       "      <th>example_values</th>\n",
       "    </tr>\n",
       "  </thead>\n",
       "  <tbody>\n",
       "    <tr>\n",
       "      <th>0</th>\n",
       "      <td>Store</td>\n",
       "      <td>int64</td>\n",
       "      <td>1017209</td>\n",
       "      <td>0</td>\n",
       "      <td>1115</td>\n",
       "      <td>[1, 2, 3]</td>\n",
       "    </tr>\n",
       "    <tr>\n",
       "      <th>1</th>\n",
       "      <td>DayOfWeek</td>\n",
       "      <td>int64</td>\n",
       "      <td>1017209</td>\n",
       "      <td>0</td>\n",
       "      <td>7</td>\n",
       "      <td>[5, 5, 5]</td>\n",
       "    </tr>\n",
       "    <tr>\n",
       "      <th>2</th>\n",
       "      <td>Date</td>\n",
       "      <td>object</td>\n",
       "      <td>1017209</td>\n",
       "      <td>0</td>\n",
       "      <td>942</td>\n",
       "      <td>[2015-07-31, 2015-07-31, 2015-07-31]</td>\n",
       "    </tr>\n",
       "    <tr>\n",
       "      <th>3</th>\n",
       "      <td>Sales</td>\n",
       "      <td>int64</td>\n",
       "      <td>1017209</td>\n",
       "      <td>0</td>\n",
       "      <td>21734</td>\n",
       "      <td>[5263, 6064, 8314]</td>\n",
       "    </tr>\n",
       "    <tr>\n",
       "      <th>4</th>\n",
       "      <td>Customers</td>\n",
       "      <td>int64</td>\n",
       "      <td>1017209</td>\n",
       "      <td>0</td>\n",
       "      <td>4086</td>\n",
       "      <td>[555, 625, 821]</td>\n",
       "    </tr>\n",
       "    <tr>\n",
       "      <th>5</th>\n",
       "      <td>Open</td>\n",
       "      <td>int64</td>\n",
       "      <td>1017209</td>\n",
       "      <td>0</td>\n",
       "      <td>2</td>\n",
       "      <td>[1, 1, 1]</td>\n",
       "    </tr>\n",
       "    <tr>\n",
       "      <th>6</th>\n",
       "      <td>Promo</td>\n",
       "      <td>int64</td>\n",
       "      <td>1017209</td>\n",
       "      <td>0</td>\n",
       "      <td>2</td>\n",
       "      <td>[1, 1, 1]</td>\n",
       "    </tr>\n",
       "    <tr>\n",
       "      <th>7</th>\n",
       "      <td>StateHoliday</td>\n",
       "      <td>object</td>\n",
       "      <td>1017209</td>\n",
       "      <td>0</td>\n",
       "      <td>4</td>\n",
       "      <td>[0, 0, 0]</td>\n",
       "    </tr>\n",
       "    <tr>\n",
       "      <th>8</th>\n",
       "      <td>SchoolHoliday</td>\n",
       "      <td>int64</td>\n",
       "      <td>1017209</td>\n",
       "      <td>0</td>\n",
       "      <td>2</td>\n",
       "      <td>[1, 1, 1]</td>\n",
       "    </tr>\n",
       "    <tr>\n",
       "      <th>9</th>\n",
       "      <td>StoreType</td>\n",
       "      <td>category</td>\n",
       "      <td>1017209</td>\n",
       "      <td>0</td>\n",
       "      <td>4</td>\n",
       "      <td>[c, a, a]</td>\n",
       "    </tr>\n",
       "    <tr>\n",
       "      <th>10</th>\n",
       "      <td>Assortment</td>\n",
       "      <td>category</td>\n",
       "      <td>1017209</td>\n",
       "      <td>0</td>\n",
       "      <td>3</td>\n",
       "      <td>[a, a, a]</td>\n",
       "    </tr>\n",
       "    <tr>\n",
       "      <th>11</th>\n",
       "      <td>CompetitionDistance</td>\n",
       "      <td>float64</td>\n",
       "      <td>1014567</td>\n",
       "      <td>2642</td>\n",
       "      <td>654</td>\n",
       "      <td>[1270.0, 570.0, 14130.0]</td>\n",
       "    </tr>\n",
       "    <tr>\n",
       "      <th>12</th>\n",
       "      <td>CompetitionOpenSinceMonth</td>\n",
       "      <td>float64</td>\n",
       "      <td>693861</td>\n",
       "      <td>323348</td>\n",
       "      <td>12</td>\n",
       "      <td>[9.0, 11.0, 12.0]</td>\n",
       "    </tr>\n",
       "    <tr>\n",
       "      <th>13</th>\n",
       "      <td>CompetitionOpenSinceYear</td>\n",
       "      <td>float64</td>\n",
       "      <td>693861</td>\n",
       "      <td>323348</td>\n",
       "      <td>23</td>\n",
       "      <td>[2008.0, 2007.0, 2006.0]</td>\n",
       "    </tr>\n",
       "    <tr>\n",
       "      <th>14</th>\n",
       "      <td>Promo2</td>\n",
       "      <td>int64</td>\n",
       "      <td>1017209</td>\n",
       "      <td>0</td>\n",
       "      <td>2</td>\n",
       "      <td>[0, 1, 1]</td>\n",
       "    </tr>\n",
       "    <tr>\n",
       "      <th>15</th>\n",
       "      <td>Promo2SinceWeek</td>\n",
       "      <td>float64</td>\n",
       "      <td>509178</td>\n",
       "      <td>508031</td>\n",
       "      <td>24</td>\n",
       "      <td>[13.0, 14.0, 1.0]</td>\n",
       "    </tr>\n",
       "    <tr>\n",
       "      <th>16</th>\n",
       "      <td>Promo2SinceYear</td>\n",
       "      <td>float64</td>\n",
       "      <td>509178</td>\n",
       "      <td>508031</td>\n",
       "      <td>7</td>\n",
       "      <td>[2010.0, 2011.0, 2012.0]</td>\n",
       "    </tr>\n",
       "    <tr>\n",
       "      <th>17</th>\n",
       "      <td>PromoInterval</td>\n",
       "      <td>category</td>\n",
       "      <td>509178</td>\n",
       "      <td>508031</td>\n",
       "      <td>3</td>\n",
       "      <td>[Jan,Apr,Jul,Oct, Jan,Apr,Jul,Oct, Jan,Apr,Jul...</td>\n",
       "    </tr>\n",
       "  </tbody>\n",
       "</table>\n",
       "</div>"
      ],
      "text/plain": [
       "                       column     dtype  non_null   nulls  distinct_count  \\\n",
       "0                       Store     int64   1017209       0            1115   \n",
       "1                   DayOfWeek     int64   1017209       0               7   \n",
       "2                        Date    object   1017209       0             942   \n",
       "3                       Sales     int64   1017209       0           21734   \n",
       "4                   Customers     int64   1017209       0            4086   \n",
       "5                        Open     int64   1017209       0               2   \n",
       "6                       Promo     int64   1017209       0               2   \n",
       "7                StateHoliday    object   1017209       0               4   \n",
       "8               SchoolHoliday     int64   1017209       0               2   \n",
       "9                   StoreType  category   1017209       0               4   \n",
       "10                 Assortment  category   1017209       0               3   \n",
       "11        CompetitionDistance   float64   1014567    2642             654   \n",
       "12  CompetitionOpenSinceMonth   float64    693861  323348              12   \n",
       "13   CompetitionOpenSinceYear   float64    693861  323348              23   \n",
       "14                     Promo2     int64   1017209       0               2   \n",
       "15            Promo2SinceWeek   float64    509178  508031              24   \n",
       "16            Promo2SinceYear   float64    509178  508031               7   \n",
       "17              PromoInterval  category    509178  508031               3   \n",
       "\n",
       "                                       example_values  \n",
       "0                                           [1, 2, 3]  \n",
       "1                                           [5, 5, 5]  \n",
       "2                [2015-07-31, 2015-07-31, 2015-07-31]  \n",
       "3                                  [5263, 6064, 8314]  \n",
       "4                                     [555, 625, 821]  \n",
       "5                                           [1, 1, 1]  \n",
       "6                                           [1, 1, 1]  \n",
       "7                                           [0, 0, 0]  \n",
       "8                                           [1, 1, 1]  \n",
       "9                                           [c, a, a]  \n",
       "10                                          [a, a, a]  \n",
       "11                           [1270.0, 570.0, 14130.0]  \n",
       "12                                  [9.0, 11.0, 12.0]  \n",
       "13                           [2008.0, 2007.0, 2006.0]  \n",
       "14                                          [0, 1, 1]  \n",
       "15                                  [13.0, 14.0, 1.0]  \n",
       "16                           [2010.0, 2011.0, 2012.0]  \n",
       "17  [Jan,Apr,Jul,Oct, Jan,Apr,Jul,Oct, Jan,Apr,Jul...  "
      ]
     },
     "metadata": {},
     "output_type": "display_data"
    },
    {
     "name": "stdout",
     "output_type": "stream",
     "text": [
      "TL;DR: Built schema table with basic stats.\n"
     ]
    }
   ],
   "source": [
    "# Schema profile\n",
    "if df is None:\n",
    "    print('Warning: df is None; cannot profile.')\n",
    "else:\n",
    "    profile_rows = []\n",
    "    for col in df.columns:\n",
    "        s = df[col]\n",
    "        non_null = s.notna().sum()\n",
    "        nulls = s.isna().sum()\n",
    "        distinct = s.nunique(dropna=True)\n",
    "        ex_vals = s.dropna().astype(str).head(3).tolist()\n",
    "        profile_rows.append({\n",
    "            'column': col,\n",
    "            'dtype': str(s.dtype),\n",
    "            'non_null': int(non_null),\n",
    "            'nulls': int(nulls),\n",
    "            'distinct_count': int(distinct),\n",
    "            'example_values': ex_vals,\n",
    "        })\n",
    "    schema_df = pd.DataFrame(profile_rows)\n",
    "    display(schema_df)\n",
    "print('TL;DR: Built schema table with basic stats.')"
   ]
  },
  {
   "cell_type": "code",
   "execution_count": 73,
   "id": "eb75ac86",
   "metadata": {},
   "outputs": [
    {
     "data": {
      "application/vnd.microsoft.datawrangler.viewer.v0+json": {
       "columns": [
        {
         "name": "index",
         "rawType": "object",
         "type": "string"
        },
        {
         "name": "missing",
         "rawType": "int64",
         "type": "integer"
        },
        {
         "name": "missing_%",
         "rawType": "float64",
         "type": "float"
        }
       ],
       "ref": "00bc4e3b-72eb-4cc7-a527-f8dacbf84472",
       "rows": [
        [
         "PromoInterval",
         "508031",
         "49.94362023930186"
        ],
        [
         "Promo2SinceYear",
         "508031",
         "49.94362023930186"
        ],
        [
         "Promo2SinceWeek",
         "508031",
         "49.94362023930186"
        ],
        [
         "CompetitionOpenSinceYear",
         "323348",
         "31.787764363075826"
        ],
        [
         "CompetitionOpenSinceMonth",
         "323348",
         "31.787764363075826"
        ],
        [
         "CompetitionDistance",
         "2642",
         "0.25973030124586"
        ],
        [
         "DayOfWeek",
         "0",
         "0.0"
        ],
        [
         "Promo2",
         "0",
         "0.0"
        ],
        [
         "Assortment",
         "0",
         "0.0"
        ],
        [
         "Store",
         "0",
         "0.0"
        ],
        [
         "SchoolHoliday",
         "0",
         "0.0"
        ],
        [
         "StateHoliday",
         "0",
         "0.0"
        ],
        [
         "Promo",
         "0",
         "0.0"
        ],
        [
         "Open",
         "0",
         "0.0"
        ],
        [
         "Customers",
         "0",
         "0.0"
        ],
        [
         "Sales",
         "0",
         "0.0"
        ],
        [
         "Date",
         "0",
         "0.0"
        ],
        [
         "StoreType",
         "0",
         "0.0"
        ]
       ],
       "shape": {
        "columns": 2,
        "rows": 18
       }
      },
      "text/html": [
       "<div>\n",
       "<style scoped>\n",
       "    .dataframe tbody tr th:only-of-type {\n",
       "        vertical-align: middle;\n",
       "    }\n",
       "\n",
       "    .dataframe tbody tr th {\n",
       "        vertical-align: top;\n",
       "    }\n",
       "\n",
       "    .dataframe thead th {\n",
       "        text-align: right;\n",
       "    }\n",
       "</style>\n",
       "<table border=\"1\" class=\"dataframe\">\n",
       "  <thead>\n",
       "    <tr style=\"text-align: right;\">\n",
       "      <th></th>\n",
       "      <th>missing</th>\n",
       "      <th>missing_%</th>\n",
       "    </tr>\n",
       "  </thead>\n",
       "  <tbody>\n",
       "    <tr>\n",
       "      <th>PromoInterval</th>\n",
       "      <td>508031</td>\n",
       "      <td>49.943620</td>\n",
       "    </tr>\n",
       "    <tr>\n",
       "      <th>Promo2SinceYear</th>\n",
       "      <td>508031</td>\n",
       "      <td>49.943620</td>\n",
       "    </tr>\n",
       "    <tr>\n",
       "      <th>Promo2SinceWeek</th>\n",
       "      <td>508031</td>\n",
       "      <td>49.943620</td>\n",
       "    </tr>\n",
       "    <tr>\n",
       "      <th>CompetitionOpenSinceYear</th>\n",
       "      <td>323348</td>\n",
       "      <td>31.787764</td>\n",
       "    </tr>\n",
       "    <tr>\n",
       "      <th>CompetitionOpenSinceMonth</th>\n",
       "      <td>323348</td>\n",
       "      <td>31.787764</td>\n",
       "    </tr>\n",
       "    <tr>\n",
       "      <th>CompetitionDistance</th>\n",
       "      <td>2642</td>\n",
       "      <td>0.259730</td>\n",
       "    </tr>\n",
       "    <tr>\n",
       "      <th>DayOfWeek</th>\n",
       "      <td>0</td>\n",
       "      <td>0.000000</td>\n",
       "    </tr>\n",
       "    <tr>\n",
       "      <th>Promo2</th>\n",
       "      <td>0</td>\n",
       "      <td>0.000000</td>\n",
       "    </tr>\n",
       "    <tr>\n",
       "      <th>Assortment</th>\n",
       "      <td>0</td>\n",
       "      <td>0.000000</td>\n",
       "    </tr>\n",
       "    <tr>\n",
       "      <th>Store</th>\n",
       "      <td>0</td>\n",
       "      <td>0.000000</td>\n",
       "    </tr>\n",
       "    <tr>\n",
       "      <th>SchoolHoliday</th>\n",
       "      <td>0</td>\n",
       "      <td>0.000000</td>\n",
       "    </tr>\n",
       "    <tr>\n",
       "      <th>StateHoliday</th>\n",
       "      <td>0</td>\n",
       "      <td>0.000000</td>\n",
       "    </tr>\n",
       "    <tr>\n",
       "      <th>Promo</th>\n",
       "      <td>0</td>\n",
       "      <td>0.000000</td>\n",
       "    </tr>\n",
       "    <tr>\n",
       "      <th>Open</th>\n",
       "      <td>0</td>\n",
       "      <td>0.000000</td>\n",
       "    </tr>\n",
       "    <tr>\n",
       "      <th>Customers</th>\n",
       "      <td>0</td>\n",
       "      <td>0.000000</td>\n",
       "    </tr>\n",
       "    <tr>\n",
       "      <th>Sales</th>\n",
       "      <td>0</td>\n",
       "      <td>0.000000</td>\n",
       "    </tr>\n",
       "    <tr>\n",
       "      <th>Date</th>\n",
       "      <td>0</td>\n",
       "      <td>0.000000</td>\n",
       "    </tr>\n",
       "    <tr>\n",
       "      <th>StoreType</th>\n",
       "      <td>0</td>\n",
       "      <td>0.000000</td>\n",
       "    </tr>\n",
       "  </tbody>\n",
       "</table>\n",
       "</div>"
      ],
      "text/plain": [
       "                           missing  missing_%\n",
       "PromoInterval               508031  49.943620\n",
       "Promo2SinceYear             508031  49.943620\n",
       "Promo2SinceWeek             508031  49.943620\n",
       "CompetitionOpenSinceYear    323348  31.787764\n",
       "CompetitionOpenSinceMonth   323348  31.787764\n",
       "CompetitionDistance           2642   0.259730\n",
       "DayOfWeek                        0   0.000000\n",
       "Promo2                           0   0.000000\n",
       "Assortment                       0   0.000000\n",
       "Store                            0   0.000000\n",
       "SchoolHoliday                    0   0.000000\n",
       "StateHoliday                     0   0.000000\n",
       "Promo                            0   0.000000\n",
       "Open                             0   0.000000\n",
       "Customers                        0   0.000000\n",
       "Sales                            0   0.000000\n",
       "Date                             0   0.000000\n",
       "StoreType                        0   0.000000"
      ]
     },
     "metadata": {},
     "output_type": "display_data"
    },
    {
     "name": "stdout",
     "output_type": "stream",
     "text": [
      "TL;DR: Listed missing counts and rates per column.\n"
     ]
    }
   ],
   "source": [
    "# Missing values summary\n",
    "if df is None:\n",
    "    print('Warning: df is None; cannot compute missingness.')\n",
    "else:\n",
    "    miss_cnt = df.isna().sum().rename('missing')\n",
    "    miss_rate = (df.isna().mean()*100).rename('missing_%')\n",
    "    missing_df = pd.concat([miss_cnt, miss_rate], axis=1).sort_values('missing_%', ascending=False)\n",
    "    display(missing_df)\n",
    "print('TL;DR: Listed missing counts and rates per column.')"
   ]
  },
  {
   "cell_type": "code",
   "execution_count": 74,
   "id": "b9335d74",
   "metadata": {},
   "outputs": [
    {
     "data": {
      "application/vnd.microsoft.datawrangler.viewer.v0+json": {
       "columns": [
        {
         "name": "index",
         "rawType": "int64",
         "type": "integer"
        },
        {
         "name": "column",
         "rawType": "object",
         "type": "string"
        },
        {
         "name": "before",
         "rawType": "object",
         "type": "string"
        },
        {
         "name": "after",
         "rawType": "object",
         "type": "string"
        }
       ],
       "ref": "738abb72-b107-4c8c-8b81-311cec76d96f",
       "rows": [
        [
         "0",
         "Store",
         "int64",
         "category"
        ],
        [
         "1",
         "DayOfWeek",
         "int64",
         "category"
        ],
        [
         "2",
         "Date",
         "object",
         "datetime64[ns]"
        ],
        [
         "3",
         "Open",
         "int64",
         "category"
        ],
        [
         "4",
         "Promo",
         "int64",
         "category"
        ],
        [
         "5",
         "StateHoliday",
         "object",
         "category"
        ],
        [
         "6",
         "SchoolHoliday",
         "int64",
         "category"
        ],
        [
         "7",
         "Promo2",
         "int64",
         "category"
        ],
        [
         "8",
         "Promo2SinceYear",
         "float64",
         "category"
        ]
       ],
       "shape": {
        "columns": 3,
        "rows": 9
       }
      },
      "text/html": [
       "<div>\n",
       "<style scoped>\n",
       "    .dataframe tbody tr th:only-of-type {\n",
       "        vertical-align: middle;\n",
       "    }\n",
       "\n",
       "    .dataframe tbody tr th {\n",
       "        vertical-align: top;\n",
       "    }\n",
       "\n",
       "    .dataframe thead th {\n",
       "        text-align: right;\n",
       "    }\n",
       "</style>\n",
       "<table border=\"1\" class=\"dataframe\">\n",
       "  <thead>\n",
       "    <tr style=\"text-align: right;\">\n",
       "      <th></th>\n",
       "      <th>column</th>\n",
       "      <th>before</th>\n",
       "      <th>after</th>\n",
       "    </tr>\n",
       "  </thead>\n",
       "  <tbody>\n",
       "    <tr>\n",
       "      <th>0</th>\n",
       "      <td>Store</td>\n",
       "      <td>int64</td>\n",
       "      <td>category</td>\n",
       "    </tr>\n",
       "    <tr>\n",
       "      <th>1</th>\n",
       "      <td>DayOfWeek</td>\n",
       "      <td>int64</td>\n",
       "      <td>category</td>\n",
       "    </tr>\n",
       "    <tr>\n",
       "      <th>2</th>\n",
       "      <td>Date</td>\n",
       "      <td>object</td>\n",
       "      <td>datetime64[ns]</td>\n",
       "    </tr>\n",
       "    <tr>\n",
       "      <th>3</th>\n",
       "      <td>Open</td>\n",
       "      <td>int64</td>\n",
       "      <td>category</td>\n",
       "    </tr>\n",
       "    <tr>\n",
       "      <th>4</th>\n",
       "      <td>Promo</td>\n",
       "      <td>int64</td>\n",
       "      <td>category</td>\n",
       "    </tr>\n",
       "    <tr>\n",
       "      <th>5</th>\n",
       "      <td>StateHoliday</td>\n",
       "      <td>object</td>\n",
       "      <td>category</td>\n",
       "    </tr>\n",
       "    <tr>\n",
       "      <th>6</th>\n",
       "      <td>SchoolHoliday</td>\n",
       "      <td>int64</td>\n",
       "      <td>category</td>\n",
       "    </tr>\n",
       "    <tr>\n",
       "      <th>7</th>\n",
       "      <td>Promo2</td>\n",
       "      <td>int64</td>\n",
       "      <td>category</td>\n",
       "    </tr>\n",
       "    <tr>\n",
       "      <th>8</th>\n",
       "      <td>Promo2SinceYear</td>\n",
       "      <td>float64</td>\n",
       "      <td>category</td>\n",
       "    </tr>\n",
       "  </tbody>\n",
       "</table>\n",
       "</div>"
      ],
      "text/plain": [
       "            column   before           after\n",
       "0            Store    int64        category\n",
       "1        DayOfWeek    int64        category\n",
       "2             Date   object  datetime64[ns]\n",
       "3             Open    int64        category\n",
       "4            Promo    int64        category\n",
       "5     StateHoliday   object        category\n",
       "6    SchoolHoliday    int64        category\n",
       "7           Promo2    int64        category\n",
       "8  Promo2SinceYear  float64        category"
      ]
     },
     "metadata": {},
     "output_type": "display_data"
    },
    {
     "name": "stdout",
     "output_type": "stream",
     "text": [
      "TL;DR: Parsed datetimes and cast likely categoricals; listed dtype changes.\n"
     ]
    }
   ],
   "source": [
    "# Transform: dtypes (datetime & categorical) with summary\n",
    "if df is None:\n",
    "    print('Warning: df is None; cannot transform dtypes.')\n",
    "else:\n",
    "    before_dtypes = df.dtypes.astype(str).to_dict()\n",
    "    # Parse datetime columns defensively\n",
    "    parsed_cols = []\n",
    "    for c in DATETIME_COLS or []:\n",
    "        if c in df.columns:\n",
    "            df[c] = pd.to_datetime(df[c], errors='coerce')\n",
    "            parsed_cols.append(c)\n",
    "        else:\n",
    "            print(f'Warning: DATETIME_COL not found: {c}')\n",
    "    # Likely categoricals: object cols or hints (and small-cardinality numerics)\n",
    "    n = len(df)\n",
    "    cat_candidates = set(df.select_dtypes(include=['object']).columns)\n",
    "    for c in (CATEGORICAL_HINTS or []):\n",
    "        if c in df.columns:\n",
    "            cat_candidates.add(c)\n",
    "        else:\n",
    "            print(f'Warning: CATEGORICAL_HINT not found: {c}')\n",
    "    # also consider low-cardinality numeric (<=10 unique) not target\n",
    "    for c in df.columns:\n",
    "        if c == TARGET_COL:\n",
    "            continue\n",
    "        if pd.api.types.is_numeric_dtype(df[c]) and df[c].nunique(dropna=True) <= 10:\n",
    "            cat_candidates.add(c)\n",
    "    # Apply category dtype (skip datetime)\n",
    "    applied = []\n",
    "    for c in sorted(cat_candidates):\n",
    "        if c in df.columns and not pd.api.types.is_datetime64_any_dtype(df[c]):\n",
    "            try:\n",
    "                df[c] = df[c].astype('category')\n",
    "                applied.append(c)\n",
    "            except Exception as e:\n",
    "                print(f'Warning: could not cast {c} to category: {e}')\n",
    "    after_dtypes = df.dtypes.astype(str).to_dict()\n",
    "    # Summarize changes\n",
    "    changes = []\n",
    "    for k in df.columns:\n",
    "        b = before_dtypes.get(k)\n",
    "        a = after_dtypes.get(k)\n",
    "        if b != a:\n",
    "            changes.append((k, b, a))\n",
    "    if changes:\n",
    "        change_df = pd.DataFrame(changes, columns=['column','before','after'])\n",
    "        display(change_df)\n",
    "    else:\n",
    "        print('No dtype changes applied.')\n",
    "print('TL;DR: Parsed datetimes and cast likely categoricals; listed dtype changes.')"
   ]
  },
  {
   "cell_type": "code",
   "execution_count": 75,
   "id": "9852a007",
   "metadata": {},
   "outputs": [
    {
     "name": "stdout",
     "output_type": "stream",
     "text": [
      "Total missing values before: 2173431\n",
      "Total missing values after: 0\n",
      "Filled 2173431 missing values.\n",
      "TL;DR: Applied missing-values strategy (0: num->0, obj/cat->'Unknown').\n",
      "Total missing values after: 0\n",
      "Filled 2173431 missing values.\n",
      "TL;DR: Applied missing-values strategy (0: num->0, obj/cat->'Unknown').\n"
     ]
    }
   ],
   "source": [
    "# Handle missing values according to MISSING_STRATEGY\n",
    "if df is None:\n",
    "    print('Warning: df is None; cannot handle missing values.')\n",
    "else:\n",
    "    # Snapshot missingness before\n",
    "    miss_before = df.isna().sum().sum()\n",
    "    print(f'Total missing values before: {miss_before}')\n",
    "    if MISSING_STRATEGY == 0:\n",
    "        # Numeric -> 0, Object -> \"Unknown\", Categorical -> add 'Unknown' category then fill; Datetime -> unchanged\n",
    "        num_cols_mv = list(df.select_dtypes(include=[np.number]).columns)\n",
    "        obj_cols_mv = list(df.select_dtypes(include=['object']).columns)\n",
    "        cat_cols_mv = list(df.select_dtypes(include=['category']).columns)\n",
    "        # Fill numeric with 0\n",
    "        if num_cols_mv:\n",
    "            df[num_cols_mv] = df[num_cols_mv].fillna(0)\n",
    "        # Fill object with 'Unknown'\n",
    "        for c in obj_cols_mv:\n",
    "            df[c] = df[c].fillna('Unknown')\n",
    "        # Fill categorical with 'Unknown' (ensure category exists)\n",
    "        for c in cat_cols_mv:\n",
    "            try:\n",
    "                if 'Unknown' not in df[c].cat.categories:\n",
    "                    df[c] = df[c].cat.add_categories(['Unknown'])\n",
    "                df[c] = df[c].fillna('Unknown')\n",
    "            except Exception as e:\n",
    "                print(f\"Warning: could not fill categorical column {c}: {e}\")\n",
    "    else:\n",
    "        print(f'Warning: MISSING_STRATEGY={MISSING_STRATEGY} not implemented; no changes made.')\n",
    "    miss_after = df.isna().sum().sum()\n",
    "    print(f'Total missing values after: {miss_after}')\n",
    "    fixed = int(miss_before - miss_after)\n",
    "    if fixed > 0:\n",
    "        print(f'Filled {fixed} missing values.')\n",
    "    else:\n",
    "        print('No missing values were filled.')\n",
    "print(\"TL;DR: Applied missing-values strategy (0: num->0, obj/cat->'Unknown').\")"
   ]
  },
  {
   "cell_type": "code",
   "execution_count": 76,
   "id": "b720793a",
   "metadata": {},
   "outputs": [
    {
     "name": "stdout",
     "output_type": "stream",
     "text": [
      "Potential full-row duplicate rate: 0.00% (not dropped)\n",
      "TL;DR: Reported and handled duplicates depending on PRIMARY_KEY.\n"
     ]
    }
   ],
   "source": [
    "# Deduplication\n",
    "\n",
    "if df is None:\n",
    "    print('Warning: df is None; cannot deduplicate.')\n",
    "else:\n",
    "    if PRIMARY_KEY and PRIMARY_KEY in df.columns:\n",
    "        dup_mask = df.duplicated(subset=[PRIMARY_KEY], keep='first')\n",
    "        dup_count = int(dup_mask.sum())\n",
    "        print(f'Duplicate {PRIMARY_KEY} values: {dup_count}')\n",
    "        if dup_count > 0:\n",
    "            df = df[~dup_mask].copy()\n",
    "            print(f'Dropped {dup_count} duplicate rows based on {PRIMARY_KEY}.')\n",
    "    else:\n",
    "        full_dup_rate = float(df.duplicated(keep='first').mean())\n",
    "        print(f'Potential full-row duplicate rate: {full_dup_rate:.2%} (not dropped)')\n",
    "print('TL;DR: Reported and handled duplicates depending on PRIMARY_KEY.')"
   ]
  },
  {
   "cell_type": "code",
   "execution_count": 77,
   "id": "aebccfb5",
   "metadata": {},
   "outputs": [
    {
     "name": "stderr",
     "output_type": "stream",
     "text": [
      "/var/folders/fj/8n7rcf2d6wjffyl_fphfsnl00000gn/T/ipykernel_6838/3996453334.py:15: DeprecationWarning: is_categorical_dtype is deprecated and will be removed in a future version. Use isinstance(dtype, pd.CategoricalDtype) instead\n",
      "  df[c] = s.astype('category' if pd.api.types.is_categorical_dtype(df[c]) else df[c].dtype)\n",
      "/var/folders/fj/8n7rcf2d6wjffyl_fphfsnl00000gn/T/ipykernel_6838/3996453334.py:15: DeprecationWarning: is_categorical_dtype is deprecated and will be removed in a future version. Use isinstance(dtype, pd.CategoricalDtype) instead\n",
      "  df[c] = s.astype('category' if pd.api.types.is_categorical_dtype(df[c]) else df[c].dtype)\n",
      "/var/folders/fj/8n7rcf2d6wjffyl_fphfsnl00000gn/T/ipykernel_6838/3996453334.py:15: DeprecationWarning: is_categorical_dtype is deprecated and will be removed in a future version. Use isinstance(dtype, pd.CategoricalDtype) instead\n",
      "  df[c] = s.astype('category' if pd.api.types.is_categorical_dtype(df[c]) else df[c].dtype)\n",
      "/var/folders/fj/8n7rcf2d6wjffyl_fphfsnl00000gn/T/ipykernel_6838/3996453334.py:15: DeprecationWarning: is_categorical_dtype is deprecated and will be removed in a future version. Use isinstance(dtype, pd.CategoricalDtype) instead\n",
      "  df[c] = s.astype('category' if pd.api.types.is_categorical_dtype(df[c]) else df[c].dtype)\n",
      "/var/folders/fj/8n7rcf2d6wjffyl_fphfsnl00000gn/T/ipykernel_6838/3996453334.py:15: DeprecationWarning: is_categorical_dtype is deprecated and will be removed in a future version. Use isinstance(dtype, pd.CategoricalDtype) instead\n",
      "  df[c] = s.astype('category' if pd.api.types.is_categorical_dtype(df[c]) else df[c].dtype)\n",
      "/var/folders/fj/8n7rcf2d6wjffyl_fphfsnl00000gn/T/ipykernel_6838/3996453334.py:15: DeprecationWarning: is_categorical_dtype is deprecated and will be removed in a future version. Use isinstance(dtype, pd.CategoricalDtype) instead\n",
      "  df[c] = s.astype('category' if pd.api.types.is_categorical_dtype(df[c]) else df[c].dtype)\n",
      "/var/folders/fj/8n7rcf2d6wjffyl_fphfsnl00000gn/T/ipykernel_6838/3996453334.py:15: DeprecationWarning: is_categorical_dtype is deprecated and will be removed in a future version. Use isinstance(dtype, pd.CategoricalDtype) instead\n",
      "  df[c] = s.astype('category' if pd.api.types.is_categorical_dtype(df[c]) else df[c].dtype)\n",
      "/var/folders/fj/8n7rcf2d6wjffyl_fphfsnl00000gn/T/ipykernel_6838/3996453334.py:15: DeprecationWarning: is_categorical_dtype is deprecated and will be removed in a future version. Use isinstance(dtype, pd.CategoricalDtype) instead\n",
      "  df[c] = s.astype('category' if pd.api.types.is_categorical_dtype(df[c]) else df[c].dtype)\n",
      "/var/folders/fj/8n7rcf2d6wjffyl_fphfsnl00000gn/T/ipykernel_6838/3996453334.py:15: DeprecationWarning: is_categorical_dtype is deprecated and will be removed in a future version. Use isinstance(dtype, pd.CategoricalDtype) instead\n",
      "  df[c] = s.astype('category' if pd.api.types.is_categorical_dtype(df[c]) else df[c].dtype)\n",
      "/var/folders/fj/8n7rcf2d6wjffyl_fphfsnl00000gn/T/ipykernel_6838/3996453334.py:15: DeprecationWarning: is_categorical_dtype is deprecated and will be removed in a future version. Use isinstance(dtype, pd.CategoricalDtype) instead\n",
      "  df[c] = s.astype('category' if pd.api.types.is_categorical_dtype(df[c]) else df[c].dtype)\n",
      "/var/folders/fj/8n7rcf2d6wjffyl_fphfsnl00000gn/T/ipykernel_6838/3996453334.py:15: DeprecationWarning: is_categorical_dtype is deprecated and will be removed in a future version. Use isinstance(dtype, pd.CategoricalDtype) instead\n",
      "  df[c] = s.astype('category' if pd.api.types.is_categorical_dtype(df[c]) else df[c].dtype)\n",
      "/var/folders/fj/8n7rcf2d6wjffyl_fphfsnl00000gn/T/ipykernel_6838/3996453334.py:15: DeprecationWarning: is_categorical_dtype is deprecated and will be removed in a future version. Use isinstance(dtype, pd.CategoricalDtype) instead\n",
      "  df[c] = s.astype('category' if pd.api.types.is_categorical_dtype(df[c]) else df[c].dtype)\n",
      "/var/folders/fj/8n7rcf2d6wjffyl_fphfsnl00000gn/T/ipykernel_6838/3996453334.py:15: DeprecationWarning: is_categorical_dtype is deprecated and will be removed in a future version. Use isinstance(dtype, pd.CategoricalDtype) instead\n",
      "  df[c] = s.astype('category' if pd.api.types.is_categorical_dtype(df[c]) else df[c].dtype)\n",
      "/var/folders/fj/8n7rcf2d6wjffyl_fphfsnl00000gn/T/ipykernel_6838/3996453334.py:15: DeprecationWarning: is_categorical_dtype is deprecated and will be removed in a future version. Use isinstance(dtype, pd.CategoricalDtype) instead\n",
      "  df[c] = s.astype('category' if pd.api.types.is_categorical_dtype(df[c]) else df[c].dtype)\n",
      "/var/folders/fj/8n7rcf2d6wjffyl_fphfsnl00000gn/T/ipykernel_6838/3996453334.py:15: DeprecationWarning: is_categorical_dtype is deprecated and will be removed in a future version. Use isinstance(dtype, pd.CategoricalDtype) instead\n",
      "  df[c] = s.astype('category' if pd.api.types.is_categorical_dtype(df[c]) else df[c].dtype)\n",
      "/var/folders/fj/8n7rcf2d6wjffyl_fphfsnl00000gn/T/ipykernel_6838/3996453334.py:15: DeprecationWarning: is_categorical_dtype is deprecated and will be removed in a future version. Use isinstance(dtype, pd.CategoricalDtype) instead\n",
      "  df[c] = s.astype('category' if pd.api.types.is_categorical_dtype(df[c]) else df[c].dtype)\n",
      "/var/folders/fj/8n7rcf2d6wjffyl_fphfsnl00000gn/T/ipykernel_6838/3996453334.py:15: DeprecationWarning: is_categorical_dtype is deprecated and will be removed in a future version. Use isinstance(dtype, pd.CategoricalDtype) instead\n",
      "  df[c] = s.astype('category' if pd.api.types.is_categorical_dtype(df[c]) else df[c].dtype)\n",
      "/var/folders/fj/8n7rcf2d6wjffyl_fphfsnl00000gn/T/ipykernel_6838/3996453334.py:15: DeprecationWarning: is_categorical_dtype is deprecated and will be removed in a future version. Use isinstance(dtype, pd.CategoricalDtype) instead\n",
      "  df[c] = s.astype('category' if pd.api.types.is_categorical_dtype(df[c]) else df[c].dtype)\n",
      "/var/folders/fj/8n7rcf2d6wjffyl_fphfsnl00000gn/T/ipykernel_6838/3996453334.py:15: DeprecationWarning: is_categorical_dtype is deprecated and will be removed in a future version. Use isinstance(dtype, pd.CategoricalDtype) instead\n",
      "  df[c] = s.astype('category' if pd.api.types.is_categorical_dtype(df[c]) else df[c].dtype)\n"
     ]
    },
    {
     "name": "stdout",
     "output_type": "stream",
     "text": [
      "No constant/empty columns found.\n",
      "Remaining shape: (1017209, 18)\n",
      "TL;DR: Cleaned text fields and removed constant columns (if any).\n"
     ]
    },
    {
     "name": "stderr",
     "output_type": "stream",
     "text": [
      "/var/folders/fj/8n7rcf2d6wjffyl_fphfsnl00000gn/T/ipykernel_6838/3996453334.py:15: DeprecationWarning: is_categorical_dtype is deprecated and will be removed in a future version. Use isinstance(dtype, pd.CategoricalDtype) instead\n",
      "  df[c] = s.astype('category' if pd.api.types.is_categorical_dtype(df[c]) else df[c].dtype)\n"
     ]
    }
   ],
   "source": [
    "# Basic cleaning: strings and constant/empty columns\n",
    "\n",
    "LOWERCASE_STRINGS = False  # toggle if you want lower-case\n",
    "REMOVE_CONSTANT_COLS = True\n",
    "if df is None:\n",
    "    print('Warning: df is None; cannot clean.')\n",
    "else:\n",
    "    # Trim and normalize whitespace on object/category columns\n",
    "    text_cols = list(df.select_dtypes(include=['object','category']).columns)\n",
    "    for c in text_cols:\n",
    "        try:\n",
    "            s = df[c].astype(str).str.strip().str.replace(r'\\s+', ' ', regex=True)\n",
    "            if LOWERCASE_STRINGS:\n",
    "                s = s.str.lower()\n",
    "            df[c] = s.astype('category' if pd.api.types.is_categorical_dtype(df[c]) else df[c].dtype)\n",
    "        except Exception as e:\n",
    "            print(f'Warning: text clean failed for {c}: {e}')\n",
    "    # Constant/empty columns\n",
    "    const_cols = []\n",
    "    for c in df.columns:\n",
    "        if df[c].nunique(dropna=True) <= 1:\n",
    "            const_cols.append(c)\n",
    "    if const_cols:\n",
    "        print('Constant/empty columns:', const_cols)\n",
    "        if REMOVE_CONSTANT_COLS:\n",
    "            df = df.drop(columns=const_cols)\n",
    "            print(f'Removed {len(const_cols)} constant/empty columns.')\n",
    "    else:\n",
    "        print('No constant/empty columns found.')\n",
    "    print('Remaining shape:', df.shape)\n",
    "print('TL;DR: Cleaned text fields and removed constant columns (if any).')"
   ]
  },
  {
   "cell_type": "code",
   "execution_count": 78,
   "id": "29c69baa",
   "metadata": {},
   "outputs": [
    {
     "data": {
      "application/vnd.microsoft.datawrangler.viewer.v0+json": {
       "columns": [
        {
         "name": "index",
         "rawType": "object",
         "type": "string"
        },
        {
         "name": "count",
         "rawType": "float64",
         "type": "float"
        },
        {
         "name": "mean",
         "rawType": "float64",
         "type": "float"
        },
        {
         "name": "std",
         "rawType": "float64",
         "type": "float"
        },
        {
         "name": "min",
         "rawType": "float64",
         "type": "float"
        },
        {
         "name": "25%",
         "rawType": "float64",
         "type": "float"
        },
        {
         "name": "50%",
         "rawType": "float64",
         "type": "float"
        },
        {
         "name": "75%",
         "rawType": "float64",
         "type": "float"
        },
        {
         "name": "max",
         "rawType": "float64",
         "type": "float"
        }
       ],
       "ref": "e3cb8ce9-46e8-4a40-8dfb-4a4df231cc7c",
       "rows": [
        [
         "Sales",
         "1017209.0",
         "5773.818972305593",
         "3849.926175241448",
         "0.0",
         "3727.0",
         "5744.0",
         "7856.0",
         "41551.0"
        ],
        [
         "Customers",
         "1017209.0",
         "633.1459464082602",
         "464.41173388730044",
         "0.0",
         "405.0",
         "609.0",
         "837.0",
         "7388.0"
        ],
        [
         "CompetitionDistance",
         "1017209.0",
         "5415.982074480269",
         "7710.252707774006",
         "0.0",
         "700.0",
         "2320.0",
         "6880.0",
         "75860.0"
        ],
        [
         "CompetitionOpenSinceMonth",
         "1017209.0",
         "4.926878350466817",
         "4.283543166408624",
         "0.0",
         "0.0",
         "4.0",
         "9.0",
         "12.0"
        ],
        [
         "CompetitionOpenSinceYear",
         "1017209.0",
         "1370.1725112538327",
         "935.3634476261378",
         "0.0",
         "0.0",
         "2006.0",
         "2011.0",
         "2015.0"
        ],
        [
         "Promo2SinceWeek",
         "1017209.0",
         "11.647665327381098",
         "15.323928205050557",
         "0.0",
         "0.0",
         "1.0",
         "22.0",
         "50.0"
        ]
       ],
       "shape": {
        "columns": 8,
        "rows": 6
       }
      },
      "text/html": [
       "<div>\n",
       "<style scoped>\n",
       "    .dataframe tbody tr th:only-of-type {\n",
       "        vertical-align: middle;\n",
       "    }\n",
       "\n",
       "    .dataframe tbody tr th {\n",
       "        vertical-align: top;\n",
       "    }\n",
       "\n",
       "    .dataframe thead th {\n",
       "        text-align: right;\n",
       "    }\n",
       "</style>\n",
       "<table border=\"1\" class=\"dataframe\">\n",
       "  <thead>\n",
       "    <tr style=\"text-align: right;\">\n",
       "      <th></th>\n",
       "      <th>count</th>\n",
       "      <th>mean</th>\n",
       "      <th>std</th>\n",
       "      <th>min</th>\n",
       "      <th>25%</th>\n",
       "      <th>50%</th>\n",
       "      <th>75%</th>\n",
       "      <th>max</th>\n",
       "    </tr>\n",
       "  </thead>\n",
       "  <tbody>\n",
       "    <tr>\n",
       "      <th>Sales</th>\n",
       "      <td>1017209.0</td>\n",
       "      <td>5773.818972</td>\n",
       "      <td>3849.926175</td>\n",
       "      <td>0.0</td>\n",
       "      <td>3727.0</td>\n",
       "      <td>5744.0</td>\n",
       "      <td>7856.0</td>\n",
       "      <td>41551.0</td>\n",
       "    </tr>\n",
       "    <tr>\n",
       "      <th>Customers</th>\n",
       "      <td>1017209.0</td>\n",
       "      <td>633.145946</td>\n",
       "      <td>464.411734</td>\n",
       "      <td>0.0</td>\n",
       "      <td>405.0</td>\n",
       "      <td>609.0</td>\n",
       "      <td>837.0</td>\n",
       "      <td>7388.0</td>\n",
       "    </tr>\n",
       "    <tr>\n",
       "      <th>CompetitionDistance</th>\n",
       "      <td>1017209.0</td>\n",
       "      <td>5415.982074</td>\n",
       "      <td>7710.252708</td>\n",
       "      <td>0.0</td>\n",
       "      <td>700.0</td>\n",
       "      <td>2320.0</td>\n",
       "      <td>6880.0</td>\n",
       "      <td>75860.0</td>\n",
       "    </tr>\n",
       "    <tr>\n",
       "      <th>CompetitionOpenSinceMonth</th>\n",
       "      <td>1017209.0</td>\n",
       "      <td>4.926878</td>\n",
       "      <td>4.283543</td>\n",
       "      <td>0.0</td>\n",
       "      <td>0.0</td>\n",
       "      <td>4.0</td>\n",
       "      <td>9.0</td>\n",
       "      <td>12.0</td>\n",
       "    </tr>\n",
       "    <tr>\n",
       "      <th>CompetitionOpenSinceYear</th>\n",
       "      <td>1017209.0</td>\n",
       "      <td>1370.172511</td>\n",
       "      <td>935.363448</td>\n",
       "      <td>0.0</td>\n",
       "      <td>0.0</td>\n",
       "      <td>2006.0</td>\n",
       "      <td>2011.0</td>\n",
       "      <td>2015.0</td>\n",
       "    </tr>\n",
       "    <tr>\n",
       "      <th>Promo2SinceWeek</th>\n",
       "      <td>1017209.0</td>\n",
       "      <td>11.647665</td>\n",
       "      <td>15.323928</td>\n",
       "      <td>0.0</td>\n",
       "      <td>0.0</td>\n",
       "      <td>1.0</td>\n",
       "      <td>22.0</td>\n",
       "      <td>50.0</td>\n",
       "    </tr>\n",
       "  </tbody>\n",
       "</table>\n",
       "</div>"
      ],
      "text/plain": [
       "                               count         mean          std  min     25%  \\\n",
       "Sales                      1017209.0  5773.818972  3849.926175  0.0  3727.0   \n",
       "Customers                  1017209.0   633.145946   464.411734  0.0   405.0   \n",
       "CompetitionDistance        1017209.0  5415.982074  7710.252708  0.0   700.0   \n",
       "CompetitionOpenSinceMonth  1017209.0     4.926878     4.283543  0.0     0.0   \n",
       "CompetitionOpenSinceYear   1017209.0  1370.172511   935.363448  0.0     0.0   \n",
       "Promo2SinceWeek            1017209.0    11.647665    15.323928  0.0     0.0   \n",
       "\n",
       "                              50%     75%      max  \n",
       "Sales                      5744.0  7856.0  41551.0  \n",
       "Customers                   609.0   837.0   7388.0  \n",
       "CompetitionDistance        2320.0  6880.0  75860.0  \n",
       "CompetitionOpenSinceMonth     4.0     9.0     12.0  \n",
       "CompetitionOpenSinceYear   2006.0  2011.0   2015.0  \n",
       "Promo2SinceWeek               1.0    22.0     50.0  "
      ]
     },
     "metadata": {},
     "output_type": "display_data"
    },
    {
     "data": {
      "application/vnd.microsoft.datawrangler.viewer.v0+json": {
       "columns": [
        {
         "name": "index",
         "rawType": "object",
         "type": "string"
        },
        {
         "name": "mean",
         "rawType": "float64",
         "type": "float"
        },
        {
         "name": "50%",
         "rawType": "float64",
         "type": "float"
        },
        {
         "name": "min",
         "rawType": "float64",
         "type": "float"
        },
        {
         "name": "max",
         "rawType": "float64",
         "type": "float"
        }
       ],
       "ref": "45d72532-e508-4a79-8063-df8da834a762",
       "rows": [
        [
         "Sales",
         "5773.818972305593",
         "5744.0",
         "0.0",
         "41551.0"
        ],
        [
         "Customers",
         "633.1459464082602",
         "609.0",
         "0.0",
         "7388.0"
        ],
        [
         "CompetitionDistance",
         "5415.982074480269",
         "2320.0",
         "0.0",
         "75860.0"
        ],
        [
         "CompetitionOpenSinceMonth",
         "4.926878350466817",
         "4.0",
         "0.0",
         "12.0"
        ],
        [
         "CompetitionOpenSinceYear",
         "1370.1725112538327",
         "2006.0",
         "0.0",
         "2015.0"
        ]
       ],
       "shape": {
        "columns": 4,
        "rows": 5
       }
      },
      "text/html": [
       "<div>\n",
       "<style scoped>\n",
       "    .dataframe tbody tr th:only-of-type {\n",
       "        vertical-align: middle;\n",
       "    }\n",
       "\n",
       "    .dataframe tbody tr th {\n",
       "        vertical-align: top;\n",
       "    }\n",
       "\n",
       "    .dataframe thead th {\n",
       "        text-align: right;\n",
       "    }\n",
       "</style>\n",
       "<table border=\"1\" class=\"dataframe\">\n",
       "  <thead>\n",
       "    <tr style=\"text-align: right;\">\n",
       "      <th></th>\n",
       "      <th>mean</th>\n",
       "      <th>50%</th>\n",
       "      <th>min</th>\n",
       "      <th>max</th>\n",
       "    </tr>\n",
       "  </thead>\n",
       "  <tbody>\n",
       "    <tr>\n",
       "      <th>Sales</th>\n",
       "      <td>5773.818972</td>\n",
       "      <td>5744.0</td>\n",
       "      <td>0.0</td>\n",
       "      <td>41551.0</td>\n",
       "    </tr>\n",
       "    <tr>\n",
       "      <th>Customers</th>\n",
       "      <td>633.145946</td>\n",
       "      <td>609.0</td>\n",
       "      <td>0.0</td>\n",
       "      <td>7388.0</td>\n",
       "    </tr>\n",
       "    <tr>\n",
       "      <th>CompetitionDistance</th>\n",
       "      <td>5415.982074</td>\n",
       "      <td>2320.0</td>\n",
       "      <td>0.0</td>\n",
       "      <td>75860.0</td>\n",
       "    </tr>\n",
       "    <tr>\n",
       "      <th>CompetitionOpenSinceMonth</th>\n",
       "      <td>4.926878</td>\n",
       "      <td>4.0</td>\n",
       "      <td>0.0</td>\n",
       "      <td>12.0</td>\n",
       "    </tr>\n",
       "    <tr>\n",
       "      <th>CompetitionOpenSinceYear</th>\n",
       "      <td>1370.172511</td>\n",
       "      <td>2006.0</td>\n",
       "      <td>0.0</td>\n",
       "      <td>2015.0</td>\n",
       "    </tr>\n",
       "  </tbody>\n",
       "</table>\n",
       "</div>"
      ],
      "text/plain": [
       "                                  mean     50%  min      max\n",
       "Sales                      5773.818972  5744.0  0.0  41551.0\n",
       "Customers                   633.145946   609.0  0.0   7388.0\n",
       "CompetitionDistance        5415.982074  2320.0  0.0  75860.0\n",
       "CompetitionOpenSinceMonth     4.926878     4.0  0.0     12.0\n",
       "CompetitionOpenSinceYear   1370.172511  2006.0  0.0   2015.0"
      ]
     },
     "metadata": {},
     "output_type": "display_data"
    },
    {
     "name": "stdout",
     "output_type": "stream",
     "text": [
      "TL;DR: Shown numeric describe with basic hints.\n"
     ]
    }
   ],
   "source": [
    "# EDA: numeric summary\n",
    "\n",
    "num_cols = list(df.select_dtypes(include=[np.number]).columns) if df is not None else []\n",
    "if not num_cols:\n",
    "    print('Warning: No numeric columns found.')\n",
    "else:\n",
    "    desc = df[num_cols].describe().T\n",
    "    display(desc)\n",
    "    # Note simple skew and range hints\n",
    "    hints = desc[['mean','50%','min','max']].copy() if {'mean','50%','min','max'}.issubset(desc.columns) else None\n",
    "    if hints is not None:\n",
    "        display(hints.head())\n",
    "print('TL;DR: Shown numeric describe with basic hints.')"
   ]
  },
  {
   "cell_type": "code",
   "execution_count": 79,
   "id": "185a5378",
   "metadata": {},
   "outputs": [
    {
     "name": "stdout",
     "output_type": "stream",
     "text": [
      "Column: Store\n"
     ]
    },
    {
     "data": {
      "application/vnd.microsoft.datawrangler.viewer.v0+json": {
       "columns": [
        {
         "name": "Store",
         "rawType": "category",
         "type": "unknown"
        },
        {
         "name": "count",
         "rawType": "int64",
         "type": "integer"
        },
        {
         "name": "share_%",
         "rawType": "float64",
         "type": "float"
        }
       ],
       "ref": "527783c7-b824-4285-aad1-6a7d7cd58d0b",
       "rows": [
        [
         "1",
         "942",
         "0.09"
        ],
        [
         "643",
         "942",
         "0.09"
        ],
        [
         "627",
         "942",
         "0.09"
        ],
        [
         "628",
         "942",
         "0.09"
        ],
        [
         "63",
         "942",
         "0.09"
        ]
       ],
       "shape": {
        "columns": 2,
        "rows": 5
       }
      },
      "text/html": [
       "<div>\n",
       "<style scoped>\n",
       "    .dataframe tbody tr th:only-of-type {\n",
       "        vertical-align: middle;\n",
       "    }\n",
       "\n",
       "    .dataframe tbody tr th {\n",
       "        vertical-align: top;\n",
       "    }\n",
       "\n",
       "    .dataframe thead th {\n",
       "        text-align: right;\n",
       "    }\n",
       "</style>\n",
       "<table border=\"1\" class=\"dataframe\">\n",
       "  <thead>\n",
       "    <tr style=\"text-align: right;\">\n",
       "      <th></th>\n",
       "      <th>count</th>\n",
       "      <th>share_%</th>\n",
       "    </tr>\n",
       "    <tr>\n",
       "      <th>Store</th>\n",
       "      <th></th>\n",
       "      <th></th>\n",
       "    </tr>\n",
       "  </thead>\n",
       "  <tbody>\n",
       "    <tr>\n",
       "      <th>1</th>\n",
       "      <td>942</td>\n",
       "      <td>0.09</td>\n",
       "    </tr>\n",
       "    <tr>\n",
       "      <th>643</th>\n",
       "      <td>942</td>\n",
       "      <td>0.09</td>\n",
       "    </tr>\n",
       "    <tr>\n",
       "      <th>627</th>\n",
       "      <td>942</td>\n",
       "      <td>0.09</td>\n",
       "    </tr>\n",
       "    <tr>\n",
       "      <th>628</th>\n",
       "      <td>942</td>\n",
       "      <td>0.09</td>\n",
       "    </tr>\n",
       "    <tr>\n",
       "      <th>63</th>\n",
       "      <td>942</td>\n",
       "      <td>0.09</td>\n",
       "    </tr>\n",
       "  </tbody>\n",
       "</table>\n",
       "</div>"
      ],
      "text/plain": [
       "       count  share_%\n",
       "Store                \n",
       "1        942     0.09\n",
       "643      942     0.09\n",
       "627      942     0.09\n",
       "628      942     0.09\n",
       "63       942     0.09"
      ]
     },
     "metadata": {},
     "output_type": "display_data"
    },
    {
     "name": "stdout",
     "output_type": "stream",
     "text": [
      "Column: DayOfWeek\n"
     ]
    },
    {
     "data": {
      "application/vnd.microsoft.datawrangler.viewer.v0+json": {
       "columns": [
        {
         "name": "DayOfWeek",
         "rawType": "category",
         "type": "unknown"
        },
        {
         "name": "count",
         "rawType": "int64",
         "type": "integer"
        },
        {
         "name": "share_%",
         "rawType": "float64",
         "type": "float"
        }
       ],
       "ref": "381d3b2a-f1c8-4ecc-936a-a3acb3eed479",
       "rows": [
        [
         "4",
         "145845",
         "14.34"
        ],
        [
         "5",
         "145845",
         "14.34"
        ],
        [
         "3",
         "145665",
         "14.32"
        ],
        [
         "2",
         "145664",
         "14.32"
        ],
        [
         "1",
         "144730",
         "14.23"
        ]
       ],
       "shape": {
        "columns": 2,
        "rows": 5
       }
      },
      "text/html": [
       "<div>\n",
       "<style scoped>\n",
       "    .dataframe tbody tr th:only-of-type {\n",
       "        vertical-align: middle;\n",
       "    }\n",
       "\n",
       "    .dataframe tbody tr th {\n",
       "        vertical-align: top;\n",
       "    }\n",
       "\n",
       "    .dataframe thead th {\n",
       "        text-align: right;\n",
       "    }\n",
       "</style>\n",
       "<table border=\"1\" class=\"dataframe\">\n",
       "  <thead>\n",
       "    <tr style=\"text-align: right;\">\n",
       "      <th></th>\n",
       "      <th>count</th>\n",
       "      <th>share_%</th>\n",
       "    </tr>\n",
       "    <tr>\n",
       "      <th>DayOfWeek</th>\n",
       "      <th></th>\n",
       "      <th></th>\n",
       "    </tr>\n",
       "  </thead>\n",
       "  <tbody>\n",
       "    <tr>\n",
       "      <th>4</th>\n",
       "      <td>145845</td>\n",
       "      <td>14.34</td>\n",
       "    </tr>\n",
       "    <tr>\n",
       "      <th>5</th>\n",
       "      <td>145845</td>\n",
       "      <td>14.34</td>\n",
       "    </tr>\n",
       "    <tr>\n",
       "      <th>3</th>\n",
       "      <td>145665</td>\n",
       "      <td>14.32</td>\n",
       "    </tr>\n",
       "    <tr>\n",
       "      <th>2</th>\n",
       "      <td>145664</td>\n",
       "      <td>14.32</td>\n",
       "    </tr>\n",
       "    <tr>\n",
       "      <th>1</th>\n",
       "      <td>144730</td>\n",
       "      <td>14.23</td>\n",
       "    </tr>\n",
       "  </tbody>\n",
       "</table>\n",
       "</div>"
      ],
      "text/plain": [
       "            count  share_%\n",
       "DayOfWeek                 \n",
       "4          145845    14.34\n",
       "5          145845    14.34\n",
       "3          145665    14.32\n",
       "2          145664    14.32\n",
       "1          144730    14.23"
      ]
     },
     "metadata": {},
     "output_type": "display_data"
    },
    {
     "name": "stdout",
     "output_type": "stream",
     "text": [
      "Column: Open\n"
     ]
    },
    {
     "data": {
      "application/vnd.microsoft.datawrangler.viewer.v0+json": {
       "columns": [
        {
         "name": "Open",
         "rawType": "category",
         "type": "unknown"
        },
        {
         "name": "count",
         "rawType": "int64",
         "type": "integer"
        },
        {
         "name": "share_%",
         "rawType": "float64",
         "type": "float"
        }
       ],
       "ref": "b702ccdd-8412-4eb8-81dd-cf2930a7b624",
       "rows": [
        [
         "1",
         "844392",
         "83.01"
        ],
        [
         "0",
         "172817",
         "16.99"
        ]
       ],
       "shape": {
        "columns": 2,
        "rows": 2
       }
      },
      "text/html": [
       "<div>\n",
       "<style scoped>\n",
       "    .dataframe tbody tr th:only-of-type {\n",
       "        vertical-align: middle;\n",
       "    }\n",
       "\n",
       "    .dataframe tbody tr th {\n",
       "        vertical-align: top;\n",
       "    }\n",
       "\n",
       "    .dataframe thead th {\n",
       "        text-align: right;\n",
       "    }\n",
       "</style>\n",
       "<table border=\"1\" class=\"dataframe\">\n",
       "  <thead>\n",
       "    <tr style=\"text-align: right;\">\n",
       "      <th></th>\n",
       "      <th>count</th>\n",
       "      <th>share_%</th>\n",
       "    </tr>\n",
       "    <tr>\n",
       "      <th>Open</th>\n",
       "      <th></th>\n",
       "      <th></th>\n",
       "    </tr>\n",
       "  </thead>\n",
       "  <tbody>\n",
       "    <tr>\n",
       "      <th>1</th>\n",
       "      <td>844392</td>\n",
       "      <td>83.01</td>\n",
       "    </tr>\n",
       "    <tr>\n",
       "      <th>0</th>\n",
       "      <td>172817</td>\n",
       "      <td>16.99</td>\n",
       "    </tr>\n",
       "  </tbody>\n",
       "</table>\n",
       "</div>"
      ],
      "text/plain": [
       "       count  share_%\n",
       "Open                 \n",
       "1     844392    83.01\n",
       "0     172817    16.99"
      ]
     },
     "metadata": {},
     "output_type": "display_data"
    },
    {
     "name": "stdout",
     "output_type": "stream",
     "text": [
      "Column: Promo\n"
     ]
    },
    {
     "data": {
      "application/vnd.microsoft.datawrangler.viewer.v0+json": {
       "columns": [
        {
         "name": "Promo",
         "rawType": "category",
         "type": "unknown"
        },
        {
         "name": "count",
         "rawType": "int64",
         "type": "integer"
        },
        {
         "name": "share_%",
         "rawType": "float64",
         "type": "float"
        }
       ],
       "ref": "7c402970-11c1-4d91-840d-79f211408a91",
       "rows": [
        [
         "0",
         "629129",
         "61.85"
        ],
        [
         "1",
         "388080",
         "38.15"
        ]
       ],
       "shape": {
        "columns": 2,
        "rows": 2
       }
      },
      "text/html": [
       "<div>\n",
       "<style scoped>\n",
       "    .dataframe tbody tr th:only-of-type {\n",
       "        vertical-align: middle;\n",
       "    }\n",
       "\n",
       "    .dataframe tbody tr th {\n",
       "        vertical-align: top;\n",
       "    }\n",
       "\n",
       "    .dataframe thead th {\n",
       "        text-align: right;\n",
       "    }\n",
       "</style>\n",
       "<table border=\"1\" class=\"dataframe\">\n",
       "  <thead>\n",
       "    <tr style=\"text-align: right;\">\n",
       "      <th></th>\n",
       "      <th>count</th>\n",
       "      <th>share_%</th>\n",
       "    </tr>\n",
       "    <tr>\n",
       "      <th>Promo</th>\n",
       "      <th></th>\n",
       "      <th></th>\n",
       "    </tr>\n",
       "  </thead>\n",
       "  <tbody>\n",
       "    <tr>\n",
       "      <th>0</th>\n",
       "      <td>629129</td>\n",
       "      <td>61.85</td>\n",
       "    </tr>\n",
       "    <tr>\n",
       "      <th>1</th>\n",
       "      <td>388080</td>\n",
       "      <td>38.15</td>\n",
       "    </tr>\n",
       "  </tbody>\n",
       "</table>\n",
       "</div>"
      ],
      "text/plain": [
       "        count  share_%\n",
       "Promo                 \n",
       "0      629129    61.85\n",
       "1      388080    38.15"
      ]
     },
     "metadata": {},
     "output_type": "display_data"
    },
    {
     "name": "stdout",
     "output_type": "stream",
     "text": [
      "Column: StateHoliday\n"
     ]
    },
    {
     "data": {
      "application/vnd.microsoft.datawrangler.viewer.v0+json": {
       "columns": [
        {
         "name": "StateHoliday",
         "rawType": "category",
         "type": "unknown"
        },
        {
         "name": "count",
         "rawType": "int64",
         "type": "integer"
        },
        {
         "name": "share_%",
         "rawType": "float64",
         "type": "float"
        }
       ],
       "ref": "8896a0c4-4f60-4a3e-ac8e-fb5cf7432523",
       "rows": [
        [
         "0",
         "986159",
         "96.95"
        ],
        [
         "a",
         "20260",
         "1.99"
        ],
        [
         "b",
         "6690",
         "0.66"
        ],
        [
         "c",
         "4100",
         "0.4"
        ]
       ],
       "shape": {
        "columns": 2,
        "rows": 4
       }
      },
      "text/html": [
       "<div>\n",
       "<style scoped>\n",
       "    .dataframe tbody tr th:only-of-type {\n",
       "        vertical-align: middle;\n",
       "    }\n",
       "\n",
       "    .dataframe tbody tr th {\n",
       "        vertical-align: top;\n",
       "    }\n",
       "\n",
       "    .dataframe thead th {\n",
       "        text-align: right;\n",
       "    }\n",
       "</style>\n",
       "<table border=\"1\" class=\"dataframe\">\n",
       "  <thead>\n",
       "    <tr style=\"text-align: right;\">\n",
       "      <th></th>\n",
       "      <th>count</th>\n",
       "      <th>share_%</th>\n",
       "    </tr>\n",
       "    <tr>\n",
       "      <th>StateHoliday</th>\n",
       "      <th></th>\n",
       "      <th></th>\n",
       "    </tr>\n",
       "  </thead>\n",
       "  <tbody>\n",
       "    <tr>\n",
       "      <th>0</th>\n",
       "      <td>986159</td>\n",
       "      <td>96.95</td>\n",
       "    </tr>\n",
       "    <tr>\n",
       "      <th>a</th>\n",
       "      <td>20260</td>\n",
       "      <td>1.99</td>\n",
       "    </tr>\n",
       "    <tr>\n",
       "      <th>b</th>\n",
       "      <td>6690</td>\n",
       "      <td>0.66</td>\n",
       "    </tr>\n",
       "    <tr>\n",
       "      <th>c</th>\n",
       "      <td>4100</td>\n",
       "      <td>0.40</td>\n",
       "    </tr>\n",
       "  </tbody>\n",
       "</table>\n",
       "</div>"
      ],
      "text/plain": [
       "               count  share_%\n",
       "StateHoliday                 \n",
       "0             986159    96.95\n",
       "a              20260     1.99\n",
       "b               6690     0.66\n",
       "c               4100     0.40"
      ]
     },
     "metadata": {},
     "output_type": "display_data"
    },
    {
     "name": "stdout",
     "output_type": "stream",
     "text": [
      "TL;DR: Displayed top categories for a few categorical columns.\n"
     ]
    }
   ],
   "source": [
    "# EDA: categorical glimpse (top 5 of up to 5 categorical columns)\n",
    "\n",
    "cat_cols = list(df.select_dtypes(include=['object','category']).columns) if df is not None else []\n",
    "if not cat_cols:\n",
    "    print('Warning: No categorical columns found.')\n",
    "else:\n",
    "    show_cols = cat_cols[:5]\n",
    "    for c in show_cols:\n",
    "        vc = df[c].value_counts(dropna=False).head(5)\n",
    "        share = (vc / len(df) * 100).round(2)\n",
    "        out = pd.DataFrame({'count': vc, 'share_%': share})\n",
    "        print(f'Column: {c}')\n",
    "        display(out)\n",
    "print('TL;DR: Displayed top categories for a few categorical columns.')"
   ]
  },
  {
   "cell_type": "code",
   "execution_count": 80,
   "id": "b3e90fed",
   "metadata": {},
   "outputs": [
    {
     "data": {
      "image/png": "[encoded data removed]",
      "text/plain": [
       "<Figure size 640x480 with 1 Axes>"
      ]
     },
     "metadata": {},
     "output_type": "display_data"
    },
    {
     "data": {
      "image/png": "[encoded data removed]",
      "text/plain": [
       "<Figure size 640x480 with 1 Axes>"
      ]
     },
     "metadata": {},
     "output_type": "display_data"
    },
    {
     "data": {
      "image/png": "[encoded data removed]",
      "text/plain": [
       "<Figure size 640x480 with 1 Axes>"
      ]
     },
     "metadata": {},
     "output_type": "display_data"
    },
    {
     "data": {
      "image/png": "[encoded data removed]",
      "text/plain": [
       "<Figure size 640x480 with 1 Axes>"
      ]
     },
     "metadata": {},
     "output_type": "display_data"
    },
    {
     "data": {
      "image/png": "[encoded data removed]",
      "text/plain": [
       "<Figure size 640x480 with 1 Axes>"
      ]
     },
     "metadata": {},
     "output_type": "display_data"
    },
    {
     "data": {
      "image/png": "[encoded data removed]",
      "text/plain": [
       "<Figure size 640x480 with 1 Axes>"
      ]
     },
     "metadata": {},
     "output_type": "display_data"
    },
    {
     "name": "stdout",
     "output_type": "stream",
     "text": [
      "TL;DR: Plotted histograms for numeric features.\n"
     ]
    }
   ],
   "source": [
    "# EDA: distributions (histograms)\n",
    "\n",
    "if not num_cols:\n",
    "    print('Warning: No numeric columns for histograms.')\n",
    "else:\n",
    "    for c in num_cols:\n",
    "        plt.figure()\n",
    "        df[c].dropna().hist(bins=30, edgecolor='black')\n",
    "        plt.title(f'Histogram: {c}')\n",
    "        plt.xlabel(c)\n",
    "        plt.ylabel('Frequency')\n",
    "        plt.show()\n",
    "print('TL;DR: Plotted histograms for numeric features.')"
   ]
  },
  {
   "cell_type": "code",
   "execution_count": 81,
   "id": "bf5b87e0",
   "metadata": {},
   "outputs": [
    {
     "data": {
      "image/png": "[encoded data removed]",
      "text/plain": [
       "<Figure size 640x480 with 1 Axes>"
      ]
     },
     "metadata": {},
     "output_type": "display_data"
    },
    {
     "data": {
      "image/png": "[encoded data removed]",
      "text/plain": [
       "<Figure size 640x480 with 1 Axes>"
      ]
     },
     "metadata": {},
     "output_type": "display_data"
    },
    {
     "data": {
      "image/png": "[encoded data removed]",
      "text/plain": [
       "<Figure size 640x480 with 1 Axes>"
      ]
     },
     "metadata": {},
     "output_type": "display_data"
    },
    {
     "data": {
      "image/png": "[encoded data removed]",
      "text/plain": [
       "<Figure size 640x480 with 1 Axes>"
      ]
     },
     "metadata": {},
     "output_type": "display_data"
    },
    {
     "data": {
      "image/png": "[encoded data removed]",
      "text/plain": [
       "<Figure size 640x480 with 1 Axes>"
      ]
     },
     "metadata": {},
     "output_type": "display_data"
    },
    {
     "data": {
      "image/png": "[encoded data removed]",
      "text/plain": [
       "<Figure size 640x480 with 1 Axes>"
      ]
     },
     "metadata": {},
     "output_type": "display_data"
    },
    {
     "name": "stdout",
     "output_type": "stream",
     "text": [
      "TL;DR: Boxplots highlight spread and potential outliers.\n"
     ]
    }
   ],
   "source": [
    "# EDA: boxplots\n",
    "\n",
    "if not num_cols:\n",
    "    print('Warning: No numeric columns for boxplots.')\n",
    "else:\n",
    "    for c in num_cols:\n",
    "        plt.figure()\n",
    "        plt.boxplot(df[c].dropna(), vert=True)\n",
    "        plt.title(f'Boxplot: {c}')\n",
    "        plt.ylabel(c)\n",
    "        plt.show()\n",
    "print('TL;DR: Boxplots highlight spread and potential outliers.')"
   ]
  },
  {
   "cell_type": "code",
   "execution_count": 82,
   "id": "56598545",
   "metadata": {},
   "outputs": [
    {
     "data": {
      "application/vnd.microsoft.datawrangler.viewer.v0+json": {
       "columns": [
        {
         "name": "index",
         "rawType": "object",
         "type": "string"
        },
        {
         "name": "Sales",
         "rawType": "float64",
         "type": "float"
        },
        {
         "name": "Customers",
         "rawType": "float64",
         "type": "float"
        },
        {
         "name": "CompetitionDistance",
         "rawType": "float64",
         "type": "float"
        },
        {
         "name": "CompetitionOpenSinceMonth",
         "rawType": "float64",
         "type": "float"
        },
        {
         "name": "CompetitionOpenSinceYear",
         "rawType": "float64",
         "type": "float"
        },
        {
         "name": "Promo2SinceWeek",
         "rawType": "float64",
         "type": "float"
        }
       ],
       "ref": "dce2dc0c-94c6-46c3-8d55-9f30d901f4e1",
       "rows": [
        [
         "Sales",
         "1.0",
         "0.8947107733016733",
         "-0.018609276350095506",
         "-0.012431371221636695",
         "0.0027491816348471703",
         "-0.044143169036451546"
        ],
        [
         "Customers",
         "0.8947107733016733",
         "1.0",
         "-0.1020217872939845",
         "-0.01518830654404793",
         "0.0004893070731269287",
         "-0.09832309567576812"
        ],
        [
         "CompetitionDistance",
         "-0.018609276350095506",
         "-0.1020217872939845",
         "1.0",
         "-0.03227431378888248",
         "-0.00021232134160198632",
         "-0.122348405461696"
        ],
        [
         "CompetitionOpenSinceMonth",
         "-0.012431371221636695",
         "-0.01518830654404793",
         "-0.03227431378888248",
         "1.0",
         "0.7849677902386675",
         "-0.10854574156063043"
        ],
        [
         "CompetitionOpenSinceYear",
         "0.0027491816348471703",
         "0.0004893070731269287",
         "-0.00021232134160198632",
         "0.7849677902386675",
         "1.0",
         "-0.12437785347060322"
        ],
        [
         "Promo2SinceWeek",
         "-0.044143169036451546",
         "-0.09832309567576812",
         "-0.122348405461696",
         "-0.10854574156063043",
         "-0.12437785347060322",
         "1.0"
        ]
       ],
       "shape": {
        "columns": 6,
        "rows": 6
       }
      },
      "text/html": [
       "<div>\n",
       "<style scoped>\n",
       "    .dataframe tbody tr th:only-of-type {\n",
       "        vertical-align: middle;\n",
       "    }\n",
       "\n",
       "    .dataframe tbody tr th {\n",
       "        vertical-align: top;\n",
       "    }\n",
       "\n",
       "    .dataframe thead th {\n",
       "        text-align: right;\n",
       "    }\n",
       "</style>\n",
       "<table border=\"1\" class=\"dataframe\">\n",
       "  <thead>\n",
       "    <tr style=\"text-align: right;\">\n",
       "      <th></th>\n",
       "      <th>Sales</th>\n",
       "      <th>Customers</th>\n",
       "      <th>CompetitionDistance</th>\n",
       "      <th>CompetitionOpenSinceMonth</th>\n",
       "      <th>CompetitionOpenSinceYear</th>\n",
       "      <th>Promo2SinceWeek</th>\n",
       "    </tr>\n",
       "  </thead>\n",
       "  <tbody>\n",
       "    <tr>\n",
       "      <th>Sales</th>\n",
       "      <td>1.000000</td>\n",
       "      <td>0.894711</td>\n",
       "      <td>-0.018609</td>\n",
       "      <td>-0.012431</td>\n",
       "      <td>0.002749</td>\n",
       "      <td>-0.044143</td>\n",
       "    </tr>\n",
       "    <tr>\n",
       "      <th>Customers</th>\n",
       "      <td>0.894711</td>\n",
       "      <td>1.000000</td>\n",
       "      <td>-0.102022</td>\n",
       "      <td>-0.015188</td>\n",
       "      <td>0.000489</td>\n",
       "      <td>-0.098323</td>\n",
       "    </tr>\n",
       "    <tr>\n",
       "      <th>CompetitionDistance</th>\n",
       "      <td>-0.018609</td>\n",
       "      <td>-0.102022</td>\n",
       "      <td>1.000000</td>\n",
       "      <td>-0.032274</td>\n",
       "      <td>-0.000212</td>\n",
       "      <td>-0.122348</td>\n",
       "    </tr>\n",
       "    <tr>\n",
       "      <th>CompetitionOpenSinceMonth</th>\n",
       "      <td>-0.012431</td>\n",
       "      <td>-0.015188</td>\n",
       "      <td>-0.032274</td>\n",
       "      <td>1.000000</td>\n",
       "      <td>0.784968</td>\n",
       "      <td>-0.108546</td>\n",
       "    </tr>\n",
       "    <tr>\n",
       "      <th>CompetitionOpenSinceYear</th>\n",
       "      <td>0.002749</td>\n",
       "      <td>0.000489</td>\n",
       "      <td>-0.000212</td>\n",
       "      <td>0.784968</td>\n",
       "      <td>1.000000</td>\n",
       "      <td>-0.124378</td>\n",
       "    </tr>\n",
       "    <tr>\n",
       "      <th>Promo2SinceWeek</th>\n",
       "      <td>-0.044143</td>\n",
       "      <td>-0.098323</td>\n",
       "      <td>-0.122348</td>\n",
       "      <td>-0.108546</td>\n",
       "      <td>-0.124378</td>\n",
       "      <td>1.000000</td>\n",
       "    </tr>\n",
       "  </tbody>\n",
       "</table>\n",
       "</div>"
      ],
      "text/plain": [
       "                              Sales  Customers  CompetitionDistance  \\\n",
       "Sales                      1.000000   0.894711            -0.018609   \n",
       "Customers                  0.894711   1.000000            -0.102022   \n",
       "CompetitionDistance       -0.018609  -0.102022             1.000000   \n",
       "CompetitionOpenSinceMonth -0.012431  -0.015188            -0.032274   \n",
       "CompetitionOpenSinceYear   0.002749   0.000489            -0.000212   \n",
       "Promo2SinceWeek           -0.044143  -0.098323            -0.122348   \n",
       "\n",
       "                           CompetitionOpenSinceMonth  \\\n",
       "Sales                                      -0.012431   \n",
       "Customers                                  -0.015188   \n",
       "CompetitionDistance                        -0.032274   \n",
       "CompetitionOpenSinceMonth                   1.000000   \n",
       "CompetitionOpenSinceYear                    0.784968   \n",
       "Promo2SinceWeek                            -0.108546   \n",
       "\n",
       "                           CompetitionOpenSinceYear  Promo2SinceWeek  \n",
       "Sales                                      0.002749        -0.044143  \n",
       "Customers                                  0.000489        -0.098323  \n",
       "CompetitionDistance                       -0.000212        -0.122348  \n",
       "CompetitionOpenSinceMonth                  0.784968        -0.108546  \n",
       "CompetitionOpenSinceYear                   1.000000        -0.124378  \n",
       "Promo2SinceWeek                           -0.124378         1.000000  "
      ]
     },
     "metadata": {},
     "output_type": "display_data"
    },
    {
     "data": {
      "image/png": "[encoded data removed]",
      "text/plain": [
       "<Figure size 500x500 with 2 Axes>"
      ]
     },
     "metadata": {},
     "output_type": "display_data"
    },
    {
     "name": "stdout",
     "output_type": "stream",
     "text": [
      "TL;DR: Shown correlation matrix and heatmap for numeric features.\n"
     ]
    }
   ],
   "source": [
    "# EDA: correlation matrix (numeric only)\n",
    "\n",
    "if not num_cols or len(num_cols) < 2:\n",
    "    print('Warning: Not enough numeric columns for correlation.')\n",
    "else:\n",
    "    corr = df[num_cols].corr(numeric_only=True)\n",
    "    display(corr)\n",
    "    plt.figure(figsize=(min(10, 0.5*len(num_cols)+2), min(8, 0.5*len(num_cols)+2)))\n",
    "    im = plt.imshow(corr.values, cmap='viridis')\n",
    "    plt.colorbar(im)\n",
    "    plt.xticks(ticks=range(len(num_cols)), labels=num_cols, rotation=90)\n",
    "    plt.yticks(ticks=range(len(num_cols)), labels=num_cols)\n",
    "    plt.title('Correlation (numeric)')\n",
    "    plt.tight_layout()\n",
    "    plt.show()\n",
    "print('TL;DR: Shown correlation matrix and heatmap for numeric features.')"
   ]
  },
  {
   "cell_type": "code",
   "execution_count": 83,
   "id": "bb7e6e4e",
   "metadata": {},
   "outputs": [
    {
     "name": "stdout",
     "output_type": "stream",
     "text": [
      "Warning: TARGET_COL not set or not found; skipping target-aware EDA.\n",
      "TL;DR: Target-aware summary shown depending on target type.\n"
     ]
    }
   ],
   "source": [
    "# EDA: target-aware analysis\n",
    "\n",
    "if TARGET_COL and (TARGET_COL in df.columns):\n",
    "    if pd.api.types.is_numeric_dtype(df[TARGET_COL]):\n",
    "        # correlation of target with numeric features\n",
    "        feats = [c for c in num_cols if c != TARGET_COL]\n",
    "        if feats:\n",
    "            tgt_corr = df[feats + [TARGET_COL]].corr()[TARGET_COL].drop(TARGET_COL).sort_values(ascending=False)\n",
    "            display(tgt_corr.to_frame('corr_with_target'))\n",
    "            print('Top 5 by absolute corr:')\n",
    "            display(tgt_corr.abs().sort_values(ascending=False).head(5).to_frame('abs_corr'))\n",
    "        else:\n",
    "            print('Warning: No numeric features besides target for correlation.')\n",
    "    else:\n",
    "        # class distribution and numeric means per class\n",
    "        vc = df[TARGET_COL].value_counts(dropna=False)\n",
    "        share = (vc/len(df)*100).round(2)\n",
    "        display(pd.DataFrame({'count': vc, 'share_%': share}))\n",
    "        if num_cols:\n",
    "            means = df.groupby(TARGET_COL)[num_cols].mean().T.sort_index()\n",
    "            display(means.head(5))\n",
    "        else:\n",
    "            print('Warning: No numeric columns to summarize by class.')\n",
    "else:\n",
    "    print('Warning: TARGET_COL not set or not found; skipping target-aware EDA.')\n",
    "print('TL;DR: Target-aware summary shown depending on target type.')"
   ]
  },
  {
   "cell_type": "code",
   "execution_count": 84,
   "id": "c8d624ab",
   "metadata": {},
   "outputs": [
    {
     "data": {
      "application/vnd.microsoft.datawrangler.viewer.v0+json": {
       "columns": [
        {
         "name": "index",
         "rawType": "int64",
         "type": "integer"
        },
        {
         "name": "column",
         "rawType": "object",
         "type": "string"
        },
        {
         "name": "outlier_count",
         "rawType": "int64",
         "type": "integer"
        }
       ],
       "ref": "e202f06e-0d20-41ea-8606-0110e2591fde",
       "rows": [
        [
         "2",
         "CompetitionDistance",
         "99160"
        ],
        [
         "1",
         "Customers",
         "38095"
        ],
        [
         "0",
         "Sales",
         "26694"
        ],
        [
         "3",
         "CompetitionOpenSinceMonth",
         "0"
        ],
        [
         "4",
         "CompetitionOpenSinceYear",
         "0"
        ],
        [
         "5",
         "Promo2SinceWeek",
         "0"
        ]
       ],
       "shape": {
        "columns": 2,
        "rows": 6
       }
      },
      "text/html": [
       "<div>\n",
       "<style scoped>\n",
       "    .dataframe tbody tr th:only-of-type {\n",
       "        vertical-align: middle;\n",
       "    }\n",
       "\n",
       "    .dataframe tbody tr th {\n",
       "        vertical-align: top;\n",
       "    }\n",
       "\n",
       "    .dataframe thead th {\n",
       "        text-align: right;\n",
       "    }\n",
       "</style>\n",
       "<table border=\"1\" class=\"dataframe\">\n",
       "  <thead>\n",
       "    <tr style=\"text-align: right;\">\n",
       "      <th></th>\n",
       "      <th>column</th>\n",
       "      <th>outlier_count</th>\n",
       "    </tr>\n",
       "  </thead>\n",
       "  <tbody>\n",
       "    <tr>\n",
       "      <th>2</th>\n",
       "      <td>CompetitionDistance</td>\n",
       "      <td>99160</td>\n",
       "    </tr>\n",
       "    <tr>\n",
       "      <th>1</th>\n",
       "      <td>Customers</td>\n",
       "      <td>38095</td>\n",
       "    </tr>\n",
       "    <tr>\n",
       "      <th>0</th>\n",
       "      <td>Sales</td>\n",
       "      <td>26694</td>\n",
       "    </tr>\n",
       "    <tr>\n",
       "      <th>3</th>\n",
       "      <td>CompetitionOpenSinceMonth</td>\n",
       "      <td>0</td>\n",
       "    </tr>\n",
       "    <tr>\n",
       "      <th>4</th>\n",
       "      <td>CompetitionOpenSinceYear</td>\n",
       "      <td>0</td>\n",
       "    </tr>\n",
       "    <tr>\n",
       "      <th>5</th>\n",
       "      <td>Promo2SinceWeek</td>\n",
       "      <td>0</td>\n",
       "    </tr>\n",
       "  </tbody>\n",
       "</table>\n",
       "</div>"
      ],
      "text/plain": [
       "                      column  outlier_count\n",
       "2        CompetitionDistance          99160\n",
       "1                  Customers          38095\n",
       "0                      Sales          26694\n",
       "3  CompetitionOpenSinceMonth              0\n",
       "4   CompetitionOpenSinceYear              0\n",
       "5            Promo2SinceWeek              0"
      ]
     },
     "metadata": {},
     "output_type": "display_data"
    },
    {
     "name": "stdout",
     "output_type": "stream",
     "text": [
      "TL;DR: Counted IQR outliers per numeric column.\n"
     ]
    }
   ],
   "source": [
    "# EDA: outliers via IQR per numeric column\n",
    "\n",
    "if not num_cols:\n",
    "    print('Warning: No numeric columns for outlier check.')\n",
    "else:\n",
    "    rows = []\n",
    "    for c in num_cols:\n",
    "        s = df[c].dropna()\n",
    "        if s.empty:\n",
    "            rows.append({'column': c, 'outlier_count': 0})\n",
    "            continue\n",
    "        q1 = s.quantile(0.25)\n",
    "        q3 = s.quantile(0.75)\n",
    "        iqr = q3 - q1\n",
    "        lower = q1 - 1.5*iqr\n",
    "        upper = q3 + 1.5*iqr\n",
    "        cnt = int(((s < lower) | (s > upper)).sum())\n",
    "        rows.append({'column': c, 'outlier_count': cnt})\n",
    "    out_df = pd.DataFrame(rows).sort_values('outlier_count', ascending=False)\n",
    "    display(out_df)\n",
    "print('TL;DR: Counted IQR outliers per numeric column.')"
   ]
  },
  {
   "cell_type": "code",
   "execution_count": 85,
   "id": "5d1598f2",
   "metadata": {},
   "outputs": [
    {
     "data": {
      "image/png": "[encoded data removed]",
      "text/plain": [
       "<Figure size 640x480 with 1 Axes>"
      ]
     },
     "metadata": {},
     "output_type": "display_data"
    },
    {
     "name": "stdout",
     "output_type": "stream",
     "text": [
      "TL;DR: Plotted simple time trend if datetime & numeric columns available.\n"
     ]
    }
   ],
   "source": [
    "# EDA: datetime trend (first numeric vs first datetime)\n",
    "\n",
    "dt_cols_parsed = [c for c in (DATETIME_COLS or []) if c in df.columns and pd.api.types.is_datetime64_any_dtype(df[c])] if df is not None else []\n",
    "if dt_cols_parsed and num_cols:\n",
    "    dcol = dt_cols_parsed[0]\n",
    "    ncol = num_cols[0] if num_cols[0] != TARGET_COL else (num_cols[1] if len(num_cols)>1 else None)\n",
    "    if ncol:\n",
    "        ts = df[[dcol, ncol]].dropna()\n",
    "        ts = ts.sort_values(dcol)\n",
    "        plt.figure()\n",
    "        plt.plot(ts[dcol], ts[ncol])\n",
    "        plt.title(f'{ncol} over time by {dcol}')\n",
    "        plt.xlabel(dcol)\n",
    "        plt.ylabel(ncol)\n",
    "        plt.xticks(rotation=45)\n",
    "        plt.tight_layout()\n",
    "        plt.show()\n",
    "    else:\n",
    "        print('Warning: Not enough numeric columns to plot time trend.')\n",
    "else:\n",
    "    print('Warning: No parsed datetime columns or numeric columns for time trend.')\n",
    "print('TL;DR: Plotted simple time trend if datetime & numeric columns available.')"
   ]
  },
  {
   "cell_type": "code",
   "execution_count": 86,
   "id": "fbc26a02",
   "metadata": {},
   "outputs": [
    {
     "name": "stdout",
     "output_type": "stream",
     "text": [
      "Saved files:\n",
      "  parquet: ../data/etl_outputs/clean_data.parquet\n",
      "  sample_csv: ../data/etl_outputs/clean_data_sample.csv\n",
      "  numeric_summary: ../data/etl_outputs/numeric_summary.csv\n",
      "  missing_summary: ../data/etl_outputs/missing_summary.csv\n",
      "Rows saved (parquet target if available, else CSV sample): 1017209\n",
      "TL;DR: Persisted cleaned data and summaries to ../data/etl_outputs.\n"
     ]
    }
   ],
   "source": [
    "# Load / outputs: save cleaned data and summaries\n",
    "import os\n",
    "paths = {}\n",
    "if df is None:\n",
    "    print('Warning: df is None; nothing to save.')\n",
    "else:\n",
    "    os.makedirs('../data/etl_outputs', exist_ok=True)\n",
    "    # Save full cleaned parquet\n",
    "    p_parquet = '../data/etl_outputs/clean_data.parquet'\n",
    "    try:\n",
    "        df.to_parquet(p_parquet, index=False)\n",
    "        paths['parquet'] = p_parquet\n",
    "    except Exception as e:\n",
    "        print(f'Warning: parquet save failed: {e}')\n",
    "    # Save sample CSV (first 10k rows)\n",
    "    p_sample = '../data/etl_outputs/clean_data_sample.csv'\n",
    "    df.head(10_000).to_csv(p_sample, index=False)\n",
    "    paths['sample_csv'] = p_sample\n",
    "    # Save numeric summary\n",
    "    if 'num_cols' in globals() and num_cols:\n",
    "        p_num = '../data/etl_outputs/numeric_summary.csv'\n",
    "        df[num_cols].describe().T.to_csv(p_num)\n",
    "        paths['numeric_summary'] = p_num\n",
    "    # Save missing summary\n",
    "    if 'missing_df' in globals():\n",
    "        p_miss = '../data/etl_outputs/missing_summary.csv'\n",
    "        missing_df.to_csv(p_miss)\n",
    "        paths['missing_summary'] = p_miss\n",
    "    print('Saved files:')\n",
    "    for k,v in paths.items():\n",
    "        print(f'  {k}: {v}')\n",
    "    print('Rows saved (parquet target if available, else CSV sample):', len(df))\n",
    "print('TL;DR: Persisted cleaned data and summaries to ../data/etl_outputs.')"
   ]
  },
  {
   "cell_type": "code",
   "execution_count": 87,
   "id": "ac4aabe6",
   "metadata": {},
   "outputs": [
    {
     "name": "stdout",
     "output_type": "stream",
     "text": [
      "Open value_counts before:\n",
      "Open\n",
      "0    172817\n",
      "1    844392\n",
      "Name: count, dtype: int64\n",
      "Dropped rows where Open != 1: 172817\n",
      "Open value_counts after:\n",
      "Open\n",
      "1    844392\n",
      "Name: count, dtype: int64\n",
      "TL;DR: Coerced Open to numeric and kept rows with Open == 1.\n",
      "Dropped rows where Open != 1: 172817\n",
      "Open value_counts after:\n",
      "Open\n",
      "1    844392\n",
      "Name: count, dtype: int64\n",
      "TL;DR: Coerced Open to numeric and kept rows with Open == 1.\n"
     ]
    }
   ],
   "source": [
    "# Ensure 'Open' is numeric and filter to Open == 1\n",
    "if 'Open' not in df.columns:\n",
    "    print(\"Warning: 'Open' column not found; skipping filter.\")\n",
    "else:\n",
    "    print('Open value_counts before:')\n",
    "    print(df['Open'].value_counts(dropna=False).sort_index())\n",
    "    # Coerce to numeric to handle strings like '0'/'1'\n",
    "    coerced = pd.to_numeric(df['Open'], errors='coerce')\n",
    "    newly_nan = int(coerced.isna().sum() - df['Open'].isna().sum())\n",
    "    if newly_nan > 0:\n",
    "        print(f'Warning: {newly_nan} values became NaN during numeric coercion.')\n",
    "    df['Open'] = coerced\n",
    "    before_len = len(df)\n",
    "    df = df[df['Open'] == 1].copy()\n",
    "    dropped = before_len - len(df)\n",
    "    print(f'Dropped rows where Open != 1: {dropped}')\n",
    "    print('Open value_counts after:')\n",
    "    print(df['Open'].value_counts(dropna=False).sort_index())\n",
    "print('TL;DR: Coerced Open to numeric and kept rows with Open == 1.')"
   ]
  },
  {
   "cell_type": "code",
   "execution_count": 88,
   "id": "e7a974c9",
   "metadata": {},
   "outputs": [
    {
     "name": "stdout",
     "output_type": "stream",
     "text": [
      "Unique values in Open: [1]\n",
      "Counts:\n",
      "Open\n",
      "1    844392\n",
      "Name: count, dtype: int64\n",
      "No zeros remain in Open.\n",
      "TL;DR: Checked Open values post-filter.\n"
     ]
    }
   ],
   "source": [
    "# Verify 'Open' filtering result\n",
    "if 'Open' in df.columns:\n",
    "    print('Unique values in Open:', sorted(df['Open'].dropna().unique().tolist()))\n",
    "    print('Counts:')\n",
    "    print(df['Open'].value_counts(dropna=False).sort_index())\n",
    "    if (df['Open'] == 0).any():\n",
    "        print('Warning: Zero values still present in Open after filtering.')\n",
    "    else:\n",
    "        print('No zeros remain in Open.')\n",
    "else:\n",
    "    print(\"Warning: 'Open' column not found.\")\n",
    "print('TL;DR: Checked Open values post-filter.')"
   ]
  },
  {
   "cell_type": "code",
   "execution_count": 89,
   "id": "d31a8aba",
   "metadata": {},
   "outputs": [
    {
     "data": {
      "application/vnd.microsoft.datawrangler.viewer.v0+json": {
       "columns": [
        {
         "name": "index",
         "rawType": "int64",
         "type": "integer"
        },
        {
         "name": "Store",
         "rawType": "category",
         "type": "unknown"
        },
        {
         "name": "DayOfWeek",
         "rawType": "category",
         "type": "unknown"
        },
        {
         "name": "Date",
         "rawType": "datetime64[ns]",
         "type": "datetime"
        },
        {
         "name": "Sales",
         "rawType": "int64",
         "type": "integer"
        },
        {
         "name": "Customers",
         "rawType": "int64",
         "type": "integer"
        },
        {
         "name": "Open",
         "rawType": "int64",
         "type": "integer"
        },
        {
         "name": "Promo",
         "rawType": "category",
         "type": "unknown"
        },
        {
         "name": "StateHoliday",
         "rawType": "category",
         "type": "unknown"
        },
        {
         "name": "SchoolHoliday",
         "rawType": "category",
         "type": "unknown"
        },
        {
         "name": "StoreType",
         "rawType": "category",
         "type": "unknown"
        },
        {
         "name": "Assortment",
         "rawType": "category",
         "type": "unknown"
        },
        {
         "name": "CompetitionDistance",
         "rawType": "float64",
         "type": "float"
        },
        {
         "name": "CompetitionOpenSinceMonth",
         "rawType": "float64",
         "type": "float"
        },
        {
         "name": "CompetitionOpenSinceYear",
         "rawType": "float64",
         "type": "float"
        },
        {
         "name": "Promo2",
         "rawType": "category",
         "type": "unknown"
        },
        {
         "name": "Promo2SinceWeek",
         "rawType": "float64",
         "type": "float"
        },
        {
         "name": "Promo2SinceYear",
         "rawType": "category",
         "type": "unknown"
        },
        {
         "name": "PromoInterval",
         "rawType": "category",
         "type": "unknown"
        }
       ],
       "ref": "3f2a3647-5b54-4cf9-9ca2-a27ba2c8a4e2",
       "rows": [
        [
         "606916",
         "27",
         "5",
         "2014-01-03 00:00:00",
         "8297",
         "1093",
         "1",
         "0",
         "0",
         "1",
         "a",
         "a",
         "60.0",
         "1.0",
         "2005.0",
         "1",
         "5.0",
         "2011.0",
         "Jan,Apr,Jul,Oct"
        ],
        [
         "485850",
         "496",
         "2",
         "2014-04-22 00:00:00",
         "6407",
         "769",
         "1",
         "0",
         "0",
         "1",
         "d",
         "c",
         "2780.0",
         "6.0",
         "2015.0",
         "0",
         "0.0",
         "Unknown",
         "Unknown"
        ],
        [
         "536306",
         "777",
         "6",
         "2014-03-08 00:00:00",
         "3941",
         "363",
         "1",
         "0",
         "0",
         "0",
         "d",
         "c",
         "8250.0",
         "10.0",
         "2004.0",
         "1",
         "10.0",
         "2013.0",
         "Mar,Jun,Sept,Dec"
        ],
        [
         "308050",
         "735",
         "4",
         "2014-10-16 00:00:00",
         "4041",
         "469",
         "1",
         "0",
         "0",
         "0",
         "d",
         "c",
         "1920.0",
         "4.0",
         "2005.0",
         "0",
         "0.0",
         "Unknown",
         "Unknown"
        ],
        [
         "257357",
         "483",
         "2",
         "2014-12-09 00:00:00",
         "6466",
         "878",
         "1",
         "0",
         "0",
         "0",
         "a",
         "c",
         "2310.0",
         "9.0",
         "2011.0",
         "1",
         "13.0",
         "2010.0",
         "Jan,Apr,Jul,Oct"
        ]
       ],
       "shape": {
        "columns": 18,
        "rows": 5
       }
      },
      "text/html": [
       "<div>\n",
       "<style scoped>\n",
       "    .dataframe tbody tr th:only-of-type {\n",
       "        vertical-align: middle;\n",
       "    }\n",
       "\n",
       "    .dataframe tbody tr th {\n",
       "        vertical-align: top;\n",
       "    }\n",
       "\n",
       "    .dataframe thead th {\n",
       "        text-align: right;\n",
       "    }\n",
       "</style>\n",
       "<table border=\"1\" class=\"dataframe\">\n",
       "  <thead>\n",
       "    <tr style=\"text-align: right;\">\n",
       "      <th></th>\n",
       "      <th>Store</th>\n",
       "      <th>DayOfWeek</th>\n",
       "      <th>Date</th>\n",
       "      <th>Sales</th>\n",
       "      <th>Customers</th>\n",
       "      <th>Open</th>\n",
       "      <th>Promo</th>\n",
       "      <th>StateHoliday</th>\n",
       "      <th>SchoolHoliday</th>\n",
       "      <th>StoreType</th>\n",
       "      <th>Assortment</th>\n",
       "      <th>CompetitionDistance</th>\n",
       "      <th>CompetitionOpenSinceMonth</th>\n",
       "      <th>CompetitionOpenSinceYear</th>\n",
       "      <th>Promo2</th>\n",
       "      <th>Promo2SinceWeek</th>\n",
       "      <th>Promo2SinceYear</th>\n",
       "      <th>PromoInterval</th>\n",
       "    </tr>\n",
       "  </thead>\n",
       "  <tbody>\n",
       "    <tr>\n",
       "      <th>606916</th>\n",
       "      <td>27</td>\n",
       "      <td>5</td>\n",
       "      <td>2014-01-03</td>\n",
       "      <td>8297</td>\n",
       "      <td>1093</td>\n",
       "      <td>1</td>\n",
       "      <td>0</td>\n",
       "      <td>0</td>\n",
       "      <td>1</td>\n",
       "      <td>a</td>\n",
       "      <td>a</td>\n",
       "      <td>60.0</td>\n",
       "      <td>1.0</td>\n",
       "      <td>2005.0</td>\n",
       "      <td>1</td>\n",
       "      <td>5.0</td>\n",
       "      <td>2011.0</td>\n",
       "      <td>Jan,Apr,Jul,Oct</td>\n",
       "    </tr>\n",
       "    <tr>\n",
       "      <th>485850</th>\n",
       "      <td>496</td>\n",
       "      <td>2</td>\n",
       "      <td>2014-04-22</td>\n",
       "      <td>6407</td>\n",
       "      <td>769</td>\n",
       "      <td>1</td>\n",
       "      <td>0</td>\n",
       "      <td>0</td>\n",
       "      <td>1</td>\n",
       "      <td>d</td>\n",
       "      <td>c</td>\n",
       "      <td>2780.0</td>\n",
       "      <td>6.0</td>\n",
       "      <td>2015.0</td>\n",
       "      <td>0</td>\n",
       "      <td>0.0</td>\n",
       "      <td>Unknown</td>\n",
       "      <td>Unknown</td>\n",
       "    </tr>\n",
       "    <tr>\n",
       "      <th>536306</th>\n",
       "      <td>777</td>\n",
       "      <td>6</td>\n",
       "      <td>2014-03-08</td>\n",
       "      <td>3941</td>\n",
       "      <td>363</td>\n",
       "      <td>1</td>\n",
       "      <td>0</td>\n",
       "      <td>0</td>\n",
       "      <td>0</td>\n",
       "      <td>d</td>\n",
       "      <td>c</td>\n",
       "      <td>8250.0</td>\n",
       "      <td>10.0</td>\n",
       "      <td>2004.0</td>\n",
       "      <td>1</td>\n",
       "      <td>10.0</td>\n",
       "      <td>2013.0</td>\n",
       "      <td>Mar,Jun,Sept,Dec</td>\n",
       "    </tr>\n",
       "    <tr>\n",
       "      <th>308050</th>\n",
       "      <td>735</td>\n",
       "      <td>4</td>\n",
       "      <td>2014-10-16</td>\n",
       "      <td>4041</td>\n",
       "      <td>469</td>\n",
       "      <td>1</td>\n",
       "      <td>0</td>\n",
       "      <td>0</td>\n",
       "      <td>0</td>\n",
       "      <td>d</td>\n",
       "      <td>c</td>\n",
       "      <td>1920.0</td>\n",
       "      <td>4.0</td>\n",
       "      <td>2005.0</td>\n",
       "      <td>0</td>\n",
       "      <td>0.0</td>\n",
       "      <td>Unknown</td>\n",
       "      <td>Unknown</td>\n",
       "    </tr>\n",
       "    <tr>\n",
       "      <th>257357</th>\n",
       "      <td>483</td>\n",
       "      <td>2</td>\n",
       "      <td>2014-12-09</td>\n",
       "      <td>6466</td>\n",
       "      <td>878</td>\n",
       "      <td>1</td>\n",
       "      <td>0</td>\n",
       "      <td>0</td>\n",
       "      <td>0</td>\n",
       "      <td>a</td>\n",
       "      <td>c</td>\n",
       "      <td>2310.0</td>\n",
       "      <td>9.0</td>\n",
       "      <td>2011.0</td>\n",
       "      <td>1</td>\n",
       "      <td>13.0</td>\n",
       "      <td>2010.0</td>\n",
       "      <td>Jan,Apr,Jul,Oct</td>\n",
       "    </tr>\n",
       "  </tbody>\n",
       "</table>\n",
       "</div>"
      ],
      "text/plain": [
       "       Store DayOfWeek       Date  Sales  Customers  Open Promo StateHoliday  \\\n",
       "606916    27         5 2014-01-03   8297       1093     1     0            0   \n",
       "485850   496         2 2014-04-22   6407        769     1     0            0   \n",
       "536306   777         6 2014-03-08   3941        363     1     0            0   \n",
       "308050   735         4 2014-10-16   4041        469     1     0            0   \n",
       "257357   483         2 2014-12-09   6466        878     1     0            0   \n",
       "\n",
       "       SchoolHoliday StoreType Assortment  CompetitionDistance  \\\n",
       "606916             1         a          a                 60.0   \n",
       "485850             1         d          c               2780.0   \n",
       "536306             0         d          c               8250.0   \n",
       "308050             0         d          c               1920.0   \n",
       "257357             0         a          c               2310.0   \n",
       "\n",
       "        CompetitionOpenSinceMonth  CompetitionOpenSinceYear Promo2  \\\n",
       "606916                        1.0                    2005.0      1   \n",
       "485850                        6.0                    2015.0      0   \n",
       "536306                       10.0                    2004.0      1   \n",
       "308050                        4.0                    2005.0      0   \n",
       "257357                        9.0                    2011.0      1   \n",
       "\n",
       "        Promo2SinceWeek Promo2SinceYear     PromoInterval  \n",
       "606916              5.0          2011.0   Jan,Apr,Jul,Oct  \n",
       "485850              0.0         Unknown           Unknown  \n",
       "536306             10.0          2013.0  Mar,Jun,Sept,Dec  \n",
       "308050              0.0         Unknown           Unknown  \n",
       "257357             13.0          2010.0   Jan,Apr,Jul,Oct  "
      ]
     },
     "execution_count": 89,
     "metadata": {},
     "output_type": "execute_result"
    }
   ],
   "source": [
    "df.sample(5)"
   ]
  },
  {
   "cell_type": "code",
   "execution_count": 90,
   "id": "cd52f189",
   "metadata": {},
   "outputs": [
    {
     "data": {
      "text/plain": [
       "<Axes: xlabel='Sales', ylabel='Count'>"
      ]
     },
     "execution_count": 90,
     "metadata": {},
     "output_type": "execute_result"
    },
    {
     "data": {
      "image/png": "[encoded data removed]",
      "text/plain": [
       "<Figure size 640x480 with 1 Axes>"
      ]
     },
     "metadata": {},
     "output_type": "display_data"
    }
   ],
   "source": [
    "sns.histplot(df, x='Sales')"
   ]
  },
  {
   "cell_type": "code",
   "execution_count": 91,
   "id": "702ba38d",
   "metadata": {},
   "outputs": [
    {
     "data": {
      "text/plain": [
       "<Axes: xlabel='DayOfWeek', ylabel='Sales'>"
      ]
     },
     "execution_count": 91,
     "metadata": {},
     "output_type": "execute_result"
    },
    {
     "data": {
      "image/png": "[encoded data removed]",
      "text/plain": [
       "<Figure size 640x480 with 1 Axes>"
      ]
     },
     "metadata": {},
     "output_type": "display_data"
    }
   ],
   "source": [
    "sns.barplot(df, x='DayOfWeek', y='Sales')"
   ]
  },
  {
   "cell_type": "code",
   "execution_count": 92,
   "id": "a3e7b60c",
   "metadata": {},
   "outputs": [
    {
     "data": {
      "text/plain": [
       "<Axes: xlabel='Promo', ylabel='Sales'>"
      ]
     },
     "execution_count": 92,
     "metadata": {},
     "output_type": "execute_result"
    },
    {
     "data": {
      "image/png": "[encoded data removed]",
      "text/plain": [
       "<Figure size 640x480 with 1 Axes>"
      ]
     },
     "metadata": {},
     "output_type": "display_data"
    }
   ],
   "source": [
    "sns.barplot(data=df, x='Promo', y='Sales')"
   ]
  },
  {
   "cell_type": "code",
   "execution_count": null,
   "id": "0167dd77",
   "metadata": {},
   "outputs": [],
   "source": []
  }
 ],
 "metadata": {
  "kernelspec": {
   "display_name": "base",
   "language": "python",
   "name": "python3"
  },
  "language_info": {
   "codemirror_mode": {
    "name": "ipython",
    "version": 3
   },
   "file_extension": ".py",
   "mimetype": "text/x-python",
   "name": "python",
   "nbconvert_exporter": "python",
   "pygments_lexer": "ipython3",
   "version": "3.12.2"
  }
 },
 "nbformat": 4,
 "nbformat_minor": 5
}
