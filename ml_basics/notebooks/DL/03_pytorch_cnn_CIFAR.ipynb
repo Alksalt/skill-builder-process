{
 "cells": [
  {
   "cell_type": "code",
   "execution_count": 1,
   "id": "b9209be4",
   "metadata": {},
   "outputs": [
    {
     "name": "stderr",
     "output_type": "stream",
     "text": [
      "c:\\Users\\Altuk\\OneDrive\\repos\\skill-builder-process\\.venv\\Lib\\site-packages\\tqdm\\auto.py:21: TqdmWarning: IProgress not found. Please update jupyter and ipywidgets. See https://ipywidgets.readthedocs.io/en/stable/user_install.html\n",
      "  from .autonotebook import tqdm as notebook_tqdm\n"
     ]
    }
   ],
   "source": [
    "\n",
    "import torch\n",
    "from torch import nn\n",
    "import torch.nn.init as init\n",
    "\n",
    "import torchvision\n",
    "from torchvision import datasets\n",
    "from torchvision import transforms\n",
    "from torchvision.transforms import ToTensor\n",
    "from torch.utils.data import DataLoader\n",
    "\n",
    "import random\n",
    "import pandas as pd\n",
    "import matplotlib.pyplot as plt\n",
    "from torchmetrics import Accuracy, Recall, Precision, F1Score, ConfusionMatrix\n",
    "import requests\n",
    "from pathlib import Path\n",
    "import os\n",
    "import numpy as np\n",
    "from timeit import default_timer as timer\n",
    "from tqdm.auto import tqdm\n",
    "import math\n",
    "from helper_functions import print_train_time\n",
    "from sklearn.metrics import confusion_matrix, classification_report, ConfusionMatrixDisplay\n",
    "from contextlib import nullcontext\n",
    "import torch, torch.backends.cudnn as cudnn, torch.backends.cuda as cuda_bk\n"
   ]
  },
  {
   "cell_type": "code",
   "execution_count": 2,
   "id": "74e8f138",
   "metadata": {},
   "outputs": [
    {
     "name": "stdout",
     "output_type": "stream",
     "text": [
      "cuda\n"
     ]
    },
    {
     "name": "stderr",
     "output_type": "stream",
     "text": [
      "c:\\Users\\Altuk\\OneDrive\\repos\\skill-builder-process\\.venv\\Lib\\site-packages\\torch\\backends\\__init__.py:46: UserWarning: Please use the new API settings to control TF32 behavior, such as torch.backends.cudnn.conv.fp32_precision = 'tf32' or torch.backends.cuda.matmul.fp32_precision = 'ieee'. Old settings, e.g, torch.backends.cuda.matmul.allow_tf32 = True, torch.backends.cudnn.allow_tf32 = True, allowTF32CuDNN() and allowTF32CuBLAS() will be deprecated after Pytorch 2.9. Please see https://pytorch.org/docs/main/notes/cuda.html#tensorfloat-32-tf32-on-ampere-and-later-devices (Triggered internally at C:\\actions-runner\\_work\\pytorch\\pytorch\\pytorch\\aten\\src\\ATen\\Context.cpp:85.)\n",
      "  self.setter(val)\n"
     ]
    }
   ],
   "source": [
    "def pick_device():\n",
    "    if torch.cuda.is_available():\n",
    "        return torch.device(\"cuda\")\n",
    "    elif torch.backends.mps.is_available():\n",
    "        return torch.device(\"mps\")\n",
    "    else:\n",
    "        return torch.device(\"cpu\")\n",
    "\n",
    "device = pick_device()\n",
    "\n",
    "# CUDA-only speed toggles (guard them!)\n",
    "if device.type == \"cuda\":\n",
    "    torch.backends.cudnn.benchmark = True          # good for speed with static shapes\n",
    "    torch.backends.cuda.matmul.allow_tf32 = True   # TF32 fast matmul on Ampere+\n",
    "    torch.backends.cudnn.allow_tf32 = True\n",
    "    torch.set_float32_matmul_precision(\"high\")     # prefers fast float32 kernels\n",
    "print(device)"
   ]
  },
  {
   "cell_type": "code",
   "execution_count": 3,
   "id": "852b86df",
   "metadata": {},
   "outputs": [],
   "source": [
    "def set_seed(seed=42):\n",
    "    random.seed(seed)\n",
    "    np.random.seed(seed)\n",
    "    torch.manual_seed(seed)\n",
    "    torch.cuda.manual_seed_all(seed)\n",
    "\n",
    "set_seed(seed=42)"
   ]
  },
  {
   "cell_type": "code",
   "execution_count": 4,
   "id": "e72c5183",
   "metadata": {},
   "outputs": [],
   "source": [
    "def torch_generator(seed=42):\n",
    "    g = torch.Generator()\n",
    "    g.manual_seed(seed)\n",
    "    return g\n",
    "    \n",
    "\n",
    "def worker_init_fn(worker_id):\n",
    "    seed = 42 + worker_id\n",
    "    np.random.seed(seed); random.seed(seed)"
   ]
  },
  {
   "cell_type": "code",
   "execution_count": 5,
   "id": "72f465f8",
   "metadata": {},
   "outputs": [],
   "source": [
    "CIFAR10_MEAN = (0.4914, 0.4822, 0.4465)\n",
    "CIFAR10_STD  = (0.2470, 0.2435, 0.2616)\n",
    "\n",
    "STL10_MEAN = (0.4467, 0.4398, 0.4066)\n",
    "STL10_STD  = (0.2603, 0.2566, 0.2713)\n",
    "\n",
    "#transforms for dtaset\n",
    "def build_transforms(stage:str=\"train\", size:int=32, pad:int=2, flip:float=0.5,\n",
    "                     dataset:str=\"cifar10\", aug_jitter:bool=False, erasing_p:float=0.0,\n",
    "                     resize: bool = False) -> transforms.Compose:\n",
    "    if dataset.lower() == \"cifar10\":\n",
    "        mean, std = CIFAR10_MEAN, CIFAR10_STD\n",
    "    elif dataset.lower() == 'stl10':\n",
    "        mean, std = STL10_MEAN, STL10_STD\n",
    "    else:\n",
    "        ValueError(f\"Unknown dataset: {dataset}\")\n",
    "\n",
    "    resize_if_needed = []\n",
    "    if resize:\n",
    "        resize_if_needed = [transforms.Resize(size, transforms.InterpolationMode.BILINEAR)]\n",
    "        \n",
    "    train_tfms = [\n",
    "        transforms.RandomCrop(size, padding=pad),\n",
    "        transforms.RandomHorizontalFlip(p=flip),\n",
    "    ]\n",
    "    \n",
    "    if aug_jitter:\n",
    "        train_tfms.append(transforms.ColorJitter(0.2, 0.2, 0.2, 0.1))\n",
    "    \n",
    "    train_tfms = train_tfms + resize_if_needed + [\n",
    "        transforms.ToTensor(),\n",
    "        transforms.Normalize(mean, std, inplace=True)\n",
    "    ]\n",
    "    \n",
    "    if erasing_p > 0:\n",
    "        train_tfms.append(transforms.RandomErasing(p=erasing_p))\n",
    "    \n",
    "    eval_tfms = resize_if_needed + [\n",
    "        transforms.ToTensor(),\n",
    "        transforms.Normalize(mean, std),\n",
    "    ]\n",
    "    \n",
    "    if stage.lower() == \"train\":\n",
    "        return transforms.Compose(train_tfms)\n",
    "    elif stage in {\"test\", 'eval', 'val'}:\n",
    "        return transforms.Compose(eval_tfms)\n",
    "    else:\n",
    "        raise ValueError(\"stage must be 'train', 'val', or 'test'\")\n"
   ]
  },
  {
   "cell_type": "code",
   "execution_count": 6,
   "id": "23cb7293",
   "metadata": {},
   "outputs": [],
   "source": [
    "#Build dataset\n",
    "def build_datasets(train_tfms: transforms.Compose,\n",
    "                   test_tfms: transforms.Compose,\n",
    "                   root: str=\"./data\",\n",
    "                   dataset: str = \"cifar10\",\n",
    "                   target_tfms = None, \n",
    "                   download: bool = True) -> tuple[torch.utils.data.Dataset, torch.utils.data.Dataset]:\n",
    "    path = Path(root) if root is not None else Path(\"./data\")\n",
    "    path.mkdir(parents=True, exist_ok=True)\n",
    "    \n",
    "    \n",
    "    if dataset.lower() == \"cifar10\":\n",
    "        train_data = datasets.CIFAR10(\n",
    "            root=path,\n",
    "            train=True,\n",
    "            download=download,\n",
    "            transform=train_tfms,\n",
    "            target_transform=target_tfms\n",
    "        )\n",
    "        test_data = datasets.CIFAR10(\n",
    "            root=path,\n",
    "            train=False,\n",
    "            download=download,\n",
    "            transform=test_tfms,\n",
    "            target_transform=target_tfms\n",
    "        )\n",
    "    elif dataset.lower() == \"stl10\":\n",
    "        train_data = datasets.STL10(\n",
    "            root=path,\n",
    "            split=\"train\",\n",
    "            download=download,\n",
    "            transform=train_tfms,\n",
    "            target_transform=target_tfms\n",
    "        )\n",
    "        test_data = datasets.STL10(\n",
    "            root=path,\n",
    "            split=\"test\",\n",
    "            download=download,\n",
    "            transform=test_tfms,\n",
    "            target_transform=target_tfms\n",
    "        )\n",
    "    else:\n",
    "        raise ValueError(f\"Unknown dataset: {dataset}\")\n",
    "    return train_data, test_data\n"
   ]
  },
  {
   "cell_type": "code",
   "execution_count": 7,
   "id": "b94a0d2a",
   "metadata": {},
   "outputs": [],
   "source": [
    "#DataLoader\n",
    "def build_loader(train_dataset: torch.utils.data.Dataset,\n",
    "                 test_dataset: torch.utils.data.Dataset,\n",
    "                 device: torch.device,\n",
    "                 shuffle: bool = True,\n",
    "                 batch: int = 128,\n",
    ") -> tuple[torch.utils.data.DataLoader, torch.utils.data.DataLoader]:\n",
    "    if device.type == \"cuda\":\n",
    "        loader_kwargs = dict(\n",
    "            batch_size=batch,\n",
    "            num_workers=max(4, os.cpu_count() // 2),\n",
    "            pin_memory=True,\n",
    "            persistent_workers=True,\n",
    "            prefetch_factor=2\n",
    ")\n",
    "    elif device.type == \"mps\":\n",
    "        loader_kwargs = dict(\n",
    "            batch_size=batch,\n",
    "            num_workers=0,          # multiprocessing not reliable on MPS\n",
    "            pin_memory=False,\n",
    "            persistent_workers=False,\n",
    ")\n",
    "    else:\n",
    "        loader_kwargs = dict(batch_size=batch, num_workers=0)\n",
    "    \n",
    "    train_dataloader = DataLoader(train_dataset, shuffle=shuffle, **loader_kwargs)\n",
    "    test_dataloader = DataLoader(test_dataset, shuffle=False, **loader_kwargs)\n",
    "    \n",
    "    return train_dataloader, test_dataloader"
   ]
  },
  {
   "cell_type": "code",
   "execution_count": 8,
   "id": "721a61b1",
   "metadata": {},
   "outputs": [],
   "source": [
    "#train step\n",
    "#Training func\n",
    "def train_step(model: torch.nn.Module,\n",
    "               data_loader: torch.utils.data.DataLoader,\n",
    "               loss_fn: torch.nn.Module,\n",
    "               optimizer: torch.optim.Optimizer,\n",
    "               device: torch.device | str = 'cpu',\n",
    "               task: str = \"multiclass\",\n",
    "               num_classes=None,\n",
    "               scheduler: torch.optim.lr_scheduler._LRScheduler | None = None) -> tuple:\n",
    "    \"\"\"Performs one training epoch over data_loader.\"\"\"\n",
    "\n",
    "    # ---- setup ----\n",
    "    if not isinstance(device, torch.device):\n",
    "        device = torch.device(device)\n",
    "    use_cuda = device.type == \"cuda\"\n",
    "    use_mps  = device.type == \"mps\"\n",
    "\n",
    "    model.train()\n",
    "    acc_metric = Accuracy(task=task, num_classes=num_classes).to(device)\n",
    "\n",
    "    # AMP: unified, deprecation-safe\n",
    "    # CUDA: use GradScaler + autocast(\"cuda\", fp16)\n",
    "    # MPS: use autocast(\"mps\", fp16) if available; no scaler\n",
    "    # CPU: no autocast (tiny nets), plain FP32\n",
    "    if use_cuda:\n",
    "        scaler = torch.amp.GradScaler(\"cuda\")  # new API\n",
    "        autocast_cm = torch.amp.autocast(\"cuda\", dtype=torch.float16)\n",
    "    else:\n",
    "        scaler = None\n",
    "        # Try MPS autocast (PyTorch ≥2.5); fallback if not supported\n",
    "        if use_mps:\n",
    "            try:\n",
    "                autocast_cm = torch.amp.autocast(\"mps\", dtype=torch.float16)\n",
    "            except Exception:\n",
    "                autocast_cm = nullcontext()\n",
    "        else:\n",
    "            autocast_cm = nullcontext()\n",
    "\n",
    "    current_lr = optimizer.param_groups[0][\"lr\"]\n",
    "    total_loss, total_n = 0.0, 0\n",
    "\n",
    "    for X, y in tqdm(data_loader):\n",
    "        non_block = use_cuda  # only helps on CUDA + pinned memory\n",
    "        X = X.to(device, non_blocking=non_block)\n",
    "        y = y.to(device, non_blocking=non_block)\n",
    "\n",
    "        # Channels-last boosts CUDA convs; harmless elsewhere\n",
    "        if use_cuda:\n",
    "            X = X.contiguous(memory_format=torch.channels_last)\n",
    "\n",
    "        optimizer.zero_grad(set_to_none=True)\n",
    "\n",
    "        with autocast_cm:\n",
    "            logits = model(X)\n",
    "            batch_loss = loss_fn(logits, y)\n",
    "\n",
    "        if scaler is not None:          # CUDA path\n",
    "            scaler.scale(batch_loss).backward()\n",
    "            scaler.step(optimizer)\n",
    "            scaler.update()\n",
    "        else:                            # MPS/CPU path\n",
    "            batch_loss.backward()\n",
    "            optimizer.step()\n",
    "\n",
    "        # metrics/bookkeeping\n",
    "        n = y.size(0)\n",
    "        total_loss += batch_loss.detach().item() * n\n",
    "        total_n    += n\n",
    "        acc_metric.update(logits.detach(), y)\n",
    "\n",
    "        if scheduler is not None:\n",
    "            scheduler.step()\n",
    "            current_lr = scheduler.get_last_lr()[0]\n",
    "\n",
    "    avg_loss = total_loss / max(total_n, 1)\n",
    "    avg_acc  = acc_metric.compute().item()\n",
    "    print(f\"Train loss: {avg_loss:.5f} | Train accuracy: {avg_acc*100:.2f}% | lr: {current_lr}\")\n",
    "    return avg_loss, avg_acc"
   ]
  },
  {
   "cell_type": "code",
   "execution_count": 9,
   "id": "b7d321ef",
   "metadata": {},
   "outputs": [],
   "source": [
    "#Testing func\n",
    "def test_step(model: torch.nn.Module,\n",
    "              loss_fn: torch.nn.Module,\n",
    "              data_loader: torch.utils.data.DataLoader,\n",
    "              device: torch.device | str = \"cpu\",\n",
    "              task: str = \"multiclass\",\n",
    "              num_classes=None) -> tuple:\n",
    "    \"\"\"Eval one epoch. Returns (avg_loss, avg_acc).\"\"\"\n",
    "    if not isinstance(device, torch.device):\n",
    "        device = torch.device(device)\n",
    "    use_cuda = device.type == \"cuda\"\n",
    "    use_mps  = device.type == \"mps\"\n",
    "\n",
    "    model.eval()\n",
    "    acc_metric = Accuracy(task=task, num_classes=num_classes).to(device)\n",
    "\n",
    "    # AMP autocast (no GradScaler needed for eval)\n",
    "    if use_cuda:\n",
    "        autocast_cm = torch.amp.autocast(\"cuda\", dtype=torch.float16)\n",
    "    elif use_mps:\n",
    "        # available on recent PyTorch; fallback silently if unsupported\n",
    "        try:\n",
    "            autocast_cm = torch.amp.autocast(\"mps\", dtype=torch.float16)\n",
    "        except Exception:\n",
    "            autocast_cm = nullcontext()\n",
    "    else:\n",
    "        autocast_cm = nullcontext()\n",
    "\n",
    "    total_loss, total_n = 0.0, 0\n",
    "\n",
    "    with torch.inference_mode():\n",
    "        for X, y in tqdm(data_loader):\n",
    "            non_block = use_cuda  # only helps on CUDA + pinned memory\n",
    "            X = X.to(device, non_blocking=non_block)\n",
    "            y = y.to(device, non_blocking=non_block)\n",
    "\n",
    "            if use_cuda:\n",
    "                X = X.contiguous(memory_format=torch.channels_last)\n",
    "\n",
    "            with autocast_cm:\n",
    "                logits = model(X)\n",
    "                batch_loss = loss_fn(logits, y)\n",
    "\n",
    "            n = y.size(0)\n",
    "            total_loss += batch_loss.detach().item() * n\n",
    "            total_n    += n\n",
    "            acc_metric.update(logits.detach(), y)\n",
    "\n",
    "    avg_loss = total_loss / max(total_n, 1)\n",
    "    avg_acc  = acc_metric.compute().item()\n",
    "    print(f\"Test loss: {avg_loss:.5f} | Test accuracy: {avg_acc*100:.2f}%\")\n",
    "    return avg_loss, avg_acc\n"
   ]
  },
  {
   "cell_type": "code",
   "execution_count": 10,
   "id": "7b2a643c",
   "metadata": {},
   "outputs": [],
   "source": [
    "def should_early_stop(history: list,\n",
    "                      patience: int = 10,\n",
    "                      key: str = \"val_acc\") -> bool:\n",
    "    best = None\n",
    "    epochs_no_improve = 0\n",
    "    for row in history:\n",
    "        value = row[key]\n",
    "        if best is None or ((\"loss\" in key and value < best) or (\"loss\" not in key and value > best)):\n",
    "            best = value\n",
    "            epochs_no_improve = 0\n",
    "        else:\n",
    "            epochs_no_improve += 1\n",
    "        if epochs_no_improve >= patience:\n",
    "            return True\n",
    "    return False"
   ]
  },
  {
   "cell_type": "code",
   "execution_count": 11,
   "id": "0a7a215c",
   "metadata": {},
   "outputs": [],
   "source": [
    "#Saving checkpoint \n",
    "def save_checkpoint(model: nn.Module,\n",
    "                    optimizer: torch.optim.Optimizer,\n",
    "                    scheduler: torch.optim.lr_scheduler,\n",
    "                    epoch: int,\n",
    "                    best_metric: float,\n",
    "                    seed: int = 42,\n",
    "                    root: str | None = None):\n",
    "    path = Path(root) if root is not None else Path(f\"./{model.__class__.__name__}_checkpoints\")\n",
    "    path.mkdir(parents=True, exist_ok=True)\n",
    "    \n",
    "    file_path = path / f\"checkpoint_epoch_{epoch:03d}.pth\"\n",
    "    checkpoint = {\n",
    "        \"model_state_dict\": model.state_dict(),\n",
    "        \"optimizer_state_dict\": optimizer.state_dict(),\n",
    "        \"scheduler_state_dict\": scheduler.state_dict() if scheduler else None,\n",
    "        \"epoch\": epoch,\n",
    "        \"best_metric\": best_metric,\n",
    "        \"seed\": seed,\n",
    "    }\n",
    "    torch.save(checkpoint, file_path)\n",
    "    print(f\"Checkpoint saved: {path}\")"
   ]
  },
  {
   "cell_type": "code",
   "execution_count": 12,
   "id": "874850e5",
   "metadata": {},
   "outputs": [],
   "source": [
    "#loading checkpoint\n",
    "def load_checkpoint(model: nn.Module,\n",
    "                    optimizer: torch.optim.Optimizer | None = None,\n",
    "                    scheduler: torch.optim.lr_scheduler._LRScheduler | None = None,\n",
    "                    path: str | Path = None,\n",
    "                    map_location: str = \"auto\"):\n",
    "    \"\"\"\n",
    "    Load a training checkpoint (model, optimizer, scheduler, epoch, etc.).\n",
    "\n",
    "    Returns:\n",
    "        epoch (int): epoch number from which to resume\n",
    "        best_metric (float): best metric so far\n",
    "        seed (int): random seed stored in checkpoint\n",
    "    \"\"\"\n",
    "    # Handle map_location automatically\n",
    "    if map_location == \"auto\":\n",
    "        map_location = \"cuda\" if torch.cuda.is_available() else \"cpu\"\n",
    "\n",
    "    # Ensure path is Path object\n",
    "    path = Path(path)\n",
    "    if not path.exists():\n",
    "        raise FileNotFoundError(f\"Checkpoint not found at: {path}\")\n",
    "    \n",
    "    # Load checkpoint dictionary\n",
    "    checkpoint = torch.load(path, map_location=map_location)\n",
    "\n",
    "    # Restore model weights\n",
    "    model.load_state_dict(checkpoint[\"model_state_dict\"])\n",
    "\n",
    "    # Restore optimizer and scheduler (if provided)\n",
    "    if optimizer is not None and \"optimizer_state_dict\" in checkpoint:\n",
    "        optimizer.load_state_dict(checkpoint[\"optimizer_state_dict\"])\n",
    "    if scheduler is not None and checkpoint.get(\"scheduler_state_dict\") is not None:\n",
    "        scheduler.load_state_dict(checkpoint[\"scheduler_state_dict\"])\n",
    "\n",
    "    epoch = checkpoint.get(\"epoch\", 0)\n",
    "    best_metric = checkpoint.get(\"best_metric\", None)\n",
    "    seed = checkpoint.get(\"seed\", None)\n",
    "\n",
    "    print(f\"Checkpoint loaded from: {path} (epoch {epoch})\")\n",
    "    return epoch, best_metric, seed"
   ]
  },
  {
   "cell_type": "code",
   "execution_count": 13,
   "id": "14965371",
   "metadata": {},
   "outputs": [],
   "source": [
    "def train_test_loop(history: list,\n",
    "                    model: nn.Module,\n",
    "                    train_data_loader: torch.utils.data.DataLoader,\n",
    "                    test_data_loader: torch.utils.data.DataLoader,\n",
    "                    loss_fn: nn.Module,\n",
    "                    optimizer: torch.optim.Optimizer,\n",
    "                    device: torch.device | str = 'cpu',\n",
    "                    num_classes: int = 10,\n",
    "                    scheduler: torch.optim.lr_scheduler._LRScheduler | None = None,\n",
    "                    epochs: int = 10,\n",
    "                    timer_fn=timer,\n",
    "                    log_path: str | None | Path = None,\n",
    "                    save_checkpoint_root: Path | None = None,\n",
    "                    save_checkpoint_best_val: float = float(\"-inf\"),\n",
    "                    seed: int = 42) -> list:\n",
    "\n",
    "    # normalize device\n",
    "    if not isinstance(device, torch.device):\n",
    "        device = torch.device(device)\n",
    "\n",
    "    path = Path(log_path) if log_path is not None else Path(\"csv/history_model.csv\")\n",
    "    path.parent.mkdir(parents=True, exist_ok=True)\n",
    "    cols = [\"epoch\", \"train_loss\", \"train_acc\", \"val_loss\", \"val_acc\", \"lr\", \"elapsed_s\"]\n",
    "\n",
    "    t0 = timer_fn()\n",
    "    for epoch in range(epochs):\n",
    "        print(f\"Epoch: {epoch + 1}\\n-------\")\n",
    "\n",
    "        # train (your train_step already handles AMP/scheduler-per-batch)\n",
    "        train_loss, train_acc = train_step(model=model,\n",
    "                                           data_loader=train_data_loader,\n",
    "                                           loss_fn=loss_fn,\n",
    "                                           optimizer=optimizer,\n",
    "                                           device=device,\n",
    "                                           num_classes=num_classes,\n",
    "                                           scheduler=scheduler)\n",
    "\n",
    "        # eval\n",
    "        test_loss, test_acc = test_step(model=model,\n",
    "                                        loss_fn=loss_fn,\n",
    "                                        data_loader=test_data_loader,\n",
    "                                        device=device,\n",
    "                                        num_classes=num_classes)\n",
    "\n",
    "        # LR logging (robust to schedulers that don't expose get_last_lr)\n",
    "        try:\n",
    "            lr = scheduler.get_last_lr()[0] if scheduler is not None else optimizer.param_groups[0][\"lr\"]\n",
    "        except Exception:\n",
    "            lr = optimizer.param_groups[0][\"lr\"]\n",
    "\n",
    "        # accurate wall time on CUDA (sync before reading timer)\n",
    "        if device.type == \"cuda\":\n",
    "            torch.cuda.synchronize()\n",
    "        elapsed = timer_fn() - t0\n",
    "        \n",
    "        if test_acc > save_checkpoint_best_val:\n",
    "            save_checkpoint_best_val = test_acc\n",
    "            save_checkpoint(model, optimizer, scheduler,\n",
    "                            epoch=epoch+1, best_metric=save_checkpoint_best_val, seed=seed, root=save_checkpoint_root)\n",
    "        \n",
    "        row = {\n",
    "            \"epoch\": epoch + 1,\n",
    "            \"train_loss\": train_loss,\n",
    "            \"train_acc\":  train_acc,\n",
    "            \"val_loss\":   test_loss,\n",
    "            \"val_acc\":    test_acc,\n",
    "            \"lr\":         lr,\n",
    "            \"elapsed_s\":  elapsed\n",
    "        }\n",
    "        history.append(row)\n",
    "        if should_early_stop(history, patience=10, key=\"val_acc\"):\n",
    "            print(f\"Early stopping at epoch {epoch+1}\")\n",
    "            break\n",
    "    # fix the f-string (don’t wrap path in braces)\n",
    "    print(f\"Training finished in {timer_fn() - t0:.2f}s. Logs saved to history. Log after the training is finished\")\n",
    "    return history"
   ]
  },
  {
   "cell_type": "code",
   "execution_count": 14,
   "id": "b1a3fc5c",
   "metadata": {},
   "outputs": [],
   "source": [
    "def build_optimizer(model: torch.nn.Module,\n",
    "                    optimizer_name: str = \"adam\",\n",
    "                    lr: float = 0.001,\n",
    "                    weight_decay: float = 5e-4,\n",
    "                    momentum: float = 0.9) -> torch.optim.Optimizer:\n",
    "\n",
    "    \n",
    "    optimizer_name = optimizer_name.lower()\n",
    "\n",
    "    if optimizer_name == \"adam\":\n",
    "        optimizer = torch.optim.Adam(model.parameters(), lr=lr, weight_decay=weight_decay)\n",
    "    elif optimizer_name == \"sgd\":\n",
    "        optimizer = torch.optim.SGD(model.parameters(), lr=lr, weight_decay=weight_decay, momentum=momentum)\n",
    "    elif optimizer_name == \"rmsprop\":\n",
    "        optimizer = torch.optim.RMSprop(model.parameters(), lr=lr, weight_decay=weight_decay, momentum=momentum)\n",
    "    elif optimizer_name == \"adamw\":\n",
    "        optimizer = torch.optim.AdamW(model.parameters(), lr=lr, weight_decay=weight_decay)\n",
    "    else:\n",
    "        raise ValueError(f\"Unsupported optimizer: {optimizer_name}\")\n",
    "\n",
    "    return optimizer"
   ]
  },
  {
   "cell_type": "code",
   "execution_count": 15,
   "id": "e9c477c7",
   "metadata": {},
   "outputs": [],
   "source": [
    "def build_scheduler(optimizer: torch.optim.Optimizer,\n",
    "                    steps_per_epoch: int,\n",
    "                    max_lr: float = 3e-3,\n",
    "                    epochs: int = 20,\n",
    "                    pct_start=0.3,\n",
    "                    anneal_strategy: str = 'cos',\n",
    "                    div_factor: int = 10,\n",
    "                    final_div_factor: int= 10):\n",
    "    scheduler = torch.optim.lr_scheduler.OneCycleLR(\n",
    "        optimizer=optimizer,\n",
    "        max_lr=max_lr,                 # peak LR\n",
    "        epochs=epochs,\n",
    "        steps_per_epoch=steps_per_epoch,\n",
    "        pct_start=pct_start,               \n",
    "        anneal_strategy=anneal_strategy,       \n",
    "        div_factor=div_factor,               \n",
    "        final_div_factor=final_div_factor          \n",
    "    )\n",
    "    return scheduler"
   ]
  },
  {
   "cell_type": "code",
   "execution_count": 16,
   "id": "f5840cf1",
   "metadata": {},
   "outputs": [],
   "source": [
    "def collecting_preds(model: nn.Module,\n",
    "                     data_loader: torch.utils.data.DataLoader,\n",
    "                     device: torch.device):\n",
    "    y_trues, y_preds = [], []\n",
    "    model.eval()\n",
    "    with torch.inference_mode():\n",
    "        for X, y in data_loader:\n",
    "            X = X.to(device); y = y.to(device)\n",
    "            logits = model(X)\n",
    "            preds = logits.argmax(dim=1)\n",
    "            y_trues.append(y.cpu())\n",
    "            y_preds.append(preds.cpu())\n",
    "    y_trues = torch.cat(y_trues)\n",
    "    y_preds = torch.cat(y_preds)\n",
    "\n",
    "    return y_trues, y_preds"
   ]
  },
  {
   "cell_type": "code",
   "execution_count": 17,
   "id": "4d444c22",
   "metadata": {},
   "outputs": [],
   "source": [
    "def eval_model(y_pred: torch.Tensor,\n",
    "               y_true: torch.Tensor,\n",
    "               model_name: str = 'model_0',\n",
    "               task: str = 'multiclass',\n",
    "               num_classes: int = 10,\n",
    "               ) -> dict[dict]:\n",
    "    \"\"\"Evaluate model predictions using multiple metrics.\n",
    "        Accuracy, Precision, Recall, F1 score.\"\"\"\n",
    "    \n",
    "    acc = Accuracy(task=task, num_classes=num_classes)\n",
    "    precision = Precision(task=task, num_classes=num_classes, average='macro')\n",
    "    recall = Recall(task=task, num_classes=num_classes, average='macro')\n",
    "    f1_score = F1Score(task=task, num_classes=num_classes, average='macro')\n",
    "    \n",
    "    metrics = {\"acc\": acc(y_pred, y_true).item(),\n",
    "                \"precision\": precision(y_pred, y_true).item(),\n",
    "                \"recall\": recall(y_pred, y_true).item(),\n",
    "                \"f1_score\": f1_score(y_pred, y_true).item()}\n",
    "    \n",
    "    return {model_name: metrics}\n",
    "    \n",
    "    "
   ]
  },
  {
   "cell_type": "code",
   "execution_count": 18,
   "id": "f720469c",
   "metadata": {},
   "outputs": [],
   "source": [
    "tr_tfms, te_tfms = build_transforms(stage=\"train\", aug_jitter=True, erasing_p=0.25), build_transforms(stage=\"test\")\n",
    "train_data, test_data = build_datasets(train_tfms=tr_tfms, test_tfms=te_tfms)"
   ]
  },
  {
   "cell_type": "code",
   "execution_count": 19,
   "id": "47d98182",
   "metadata": {},
   "outputs": [],
   "source": [
    "NUM_CLASSES = len(test_data.classes)"
   ]
  },
  {
   "cell_type": "code",
   "execution_count": 20,
   "id": "1e4afbf3",
   "metadata": {},
   "outputs": [
    {
     "name": "stderr",
     "output_type": "stream",
     "text": [
      "Clipping input data to the valid range for imshow with RGB data ([0..1] for floats or [0..255] for integers). Got range [-1.9158674..1.7560488].\n",
      "Clipping input data to the valid range for imshow with RGB data ([0..1] for floats or [0..255] for integers). Got range [-1.4972931..1.7710396].\n",
      "Clipping input data to the valid range for imshow with RGB data ([0..1] for floats or [0..255] for integers). Got range [-1.9894737..1.8759745].\n",
      "Clipping input data to the valid range for imshow with RGB data ([0..1] for floats or [0..255] for integers). Got range [-1.9641825..2.1264887].\n",
      "Clipping input data to the valid range for imshow with RGB data ([0..1] for floats or [0..255] for integers). Got range [-1.4488223..2.1264887].\n",
      "Clipping input data to the valid range for imshow with RGB data ([0..1] for floats or [0..255] for integers). Got range [-1.9894737..2.0942786].\n",
      "Clipping input data to the valid range for imshow with RGB data ([0..1] for floats or [0..255] for integers). Got range [-1.4972931..1.7710396].\n",
      "Clipping input data to the valid range for imshow with RGB data ([0..1] for floats or [0..255] for integers). Got range [-1.9894737..1.8759745].\n",
      "Clipping input data to the valid range for imshow with RGB data ([0..1] for floats or [0..255] for integers). Got range [-1.9641825..2.1264887].\n",
      "Clipping input data to the valid range for imshow with RGB data ([0..1] for floats or [0..255] for integers). Got range [-1.4488223..2.1264887].\n",
      "Clipping input data to the valid range for imshow with RGB data ([0..1] for floats or [0..255] for integers). Got range [-1.9894737..2.0942786].\n",
      "Clipping input data to the valid range for imshow with RGB data ([0..1] for floats or [0..255] for integers). Got range [-1.9319725..1.9638486].\n",
      "Clipping input data to the valid range for imshow with RGB data ([0..1] for floats or [0..255] for integers). Got range [-1.2115108..2.0781739].\n",
      "Clipping input data to the valid range for imshow with RGB data ([0..1] for floats or [0..255] for integers). Got range [-1.7513218..1.9659187].\n",
      "Clipping input data to the valid range for imshow with RGB data ([0..1] for floats or [0..255] for integers). Got range [-1.9319725..1.9638486].\n",
      "Clipping input data to the valid range for imshow with RGB data ([0..1] for floats or [0..255] for integers). Got range [-1.2115108..2.0781739].\n",
      "Clipping input data to the valid range for imshow with RGB data ([0..1] for floats or [0..255] for integers). Got range [-1.7513218..1.9659187].\n"
     ]
    },
    {
     "data": {
      "image/png": "[encoded data removed]",
      "text/plain": [
       "<Figure size 600x600 with 9 Axes>"
      ]
     },
     "metadata": {},
     "output_type": "display_data"
    }
   ],
   "source": [
    "set_seed(seed=42)\n",
    "indices = random.sample(range(len(test_data)), 9)\n",
    "\n",
    "fig, axes = plt.subplots(3,3, figsize=(6,6))\n",
    "for ax, idx in zip(axes.flat, indices):\n",
    "    img, label = test_data[idx]\n",
    "    if isinstance(img, torch.Tensor):\n",
    "        img = img.permute(1,2,0)\n",
    "    ax.imshow(img)\n",
    "    ax.set_title(f\"Label: {label}\")\n",
    "    ax.axis(\"off\")\n",
    "\n",
    "plt.tight_layout()\n",
    "plt.show()"
   ]
  },
  {
   "cell_type": "code",
   "execution_count": 21,
   "id": "e3f16c14",
   "metadata": {},
   "outputs": [
    {
     "name": "stderr",
     "output_type": "stream",
     "text": [
      "Clipping input data to the valid range for imshow with RGB data ([0..1] for floats or [0..255] for integers). Got range [-1.9894737..1.7410581].\n",
      "Clipping input data to the valid range for imshow with RGB data ([0..1] for floats or [0..255] for integers). Got range [-1.8307058..1.4081607].\n",
      "Clipping input data to the valid range for imshow with RGB data ([0..1] for floats or [0..255] for integers). Got range [-1.7195683..1.3605304].\n",
      "Clipping input data to the valid range for imshow with RGB data ([0..1] for floats or [0..255] for integers). Got range [-1.9894737..1.693943].\n",
      "Clipping input data to the valid range for imshow with RGB data ([0..1] for floats or [0..255] for integers). Got range [-1.9100897..1.2013928].\n",
      "Clipping input data to the valid range for imshow with RGB data ([0..1] for floats or [0..255] for integers). Got range [-1.8307058..1.4081607].\n",
      "Clipping input data to the valid range for imshow with RGB data ([0..1] for floats or [0..255] for integers). Got range [-1.7195683..1.3605304].\n",
      "Clipping input data to the valid range for imshow with RGB data ([0..1] for floats or [0..255] for integers). Got range [-1.9894737..1.693943].\n",
      "Clipping input data to the valid range for imshow with RGB data ([0..1] for floats or [0..255] for integers). Got range [-1.9100897..1.2013928].\n",
      "Clipping input data to the valid range for imshow with RGB data ([0..1] for floats or [0..255] for integers). Got range [-1.9894737..1.1114485].\n",
      "Clipping input data to the valid range for imshow with RGB data ([0..1] for floats or [0..255] for integers). Got range [-1.7195683..1.7892039].\n",
      "Clipping input data to the valid range for imshow with RGB data ([0..1] for floats or [0..255] for integers). Got range [-1.9894737..1.1114485].\n",
      "Clipping input data to the valid range for imshow with RGB data ([0..1] for floats or [0..255] for integers). Got range [-1.7195683..1.7892039].\n",
      "Clipping input data to the valid range for imshow with RGB data ([0..1] for floats or [0..255] for integers). Got range [-1.8465825..0.7254585].\n",
      "Clipping input data to the valid range for imshow with RGB data ([0..1] for floats or [0..255] for integers). Got range [-1.7830755..1.1065016].\n",
      "Clipping input data to the valid range for imshow with RGB data ([0..1] for floats or [0..255] for integers). Got range [-1.8465825..0.7254585].\n",
      "Clipping input data to the valid range for imshow with RGB data ([0..1] for floats or [0..255] for integers). Got range [-1.7830755..1.1065016].\n"
     ]
    },
    {
     "data": {
      "image/png": "[encoded data removed]",
      "text/plain": [
       "<Figure size 600x600 with 9 Axes>"
      ]
     },
     "metadata": {},
     "output_type": "display_data"
    }
   ],
   "source": [
    "set_seed(seed=42)\n",
    "indices = random.sample(range(len(train_data)), 9)\n",
    "\n",
    "fig, axes = plt.subplots(3,3, figsize=(6,6))\n",
    "for ax, idx in zip(axes.flat, indices):\n",
    "    img, label = train_data[idx]\n",
    "    if isinstance(img, torch.Tensor):\n",
    "        img = img.permute(1,2,0)\n",
    "    ax.imshow(img)\n",
    "    ax.set_title(f\"Label: {label}\")\n",
    "    ax.axis(\"off\")\n",
    "\n",
    "plt.tight_layout()\n",
    "plt.show()"
   ]
  },
  {
   "cell_type": "code",
   "execution_count": 22,
   "id": "45844f11",
   "metadata": {},
   "outputs": [],
   "source": [
    "set_seed(seed=42)\n",
    "tr_dataloader, te_dataloader = build_loader(train_data, test_data, device=device, shuffle=True,)"
   ]
  },
  {
   "cell_type": "code",
   "execution_count": 23,
   "id": "89d2ac07",
   "metadata": {},
   "outputs": [],
   "source": [
    "#Model 0\n",
    "class CifarModelV0(nn.Module):\n",
    "    def __init__(self,\n",
    "                 input_shade: int = 3,\n",
    "                 hidden_units: int = 32,\n",
    "                 output_shape: int = 10,\n",
    "                 image_size: int = 32,\n",
    "                 use_channels_last: bool = False,\n",
    "                 init_kaiming: bool = True,\n",
    "                 dropout_p:int = 0.10):\n",
    "        super().__init__()\n",
    "        h2 = hidden_units * 2\n",
    "        h3 = hidden_units * 4\n",
    "        self.image_size = image_size\n",
    "        self.use_channels_last = use_channels_last\n",
    "        self.conv_layer_1 = nn.Sequential(\n",
    "            nn.Conv2d(in_channels=input_shade, out_channels=hidden_units, kernel_size=3, stride=1, padding=1, bias=False),\n",
    "            nn.BatchNorm2d(hidden_units),\n",
    "            nn.ReLU(inplace=True),\n",
    "            nn.Conv2d(hidden_units, hidden_units, kernel_size=3, stride=1, padding=1, bias=False),\n",
    "            nn.BatchNorm2d(hidden_units),\n",
    "            nn.ReLU(inplace=True),\n",
    "            nn.MaxPool2d(kernel_size=2)\n",
    "        )\n",
    "        \n",
    "        self.conv_layer_2 = nn.Sequential(\n",
    "            nn.Conv2d(hidden_units, h2, kernel_size=3, stride=1, padding=1, bias=False),\n",
    "            nn.BatchNorm2d(h2),\n",
    "            nn.ReLU(inplace=True),\n",
    "            nn.Conv2d(h2, h2, kernel_size=3, stride=1, padding=1, bias=False),\n",
    "            nn.BatchNorm2d(h2),\n",
    "            nn.ReLU(inplace=True),\n",
    "            nn.MaxPool2d(kernel_size=2)\n",
    "        )\n",
    "        self.conv_layer_3 = nn.Sequential(\n",
    "            nn.Conv2d(h2, h3, kernel_size=3, stride=1, padding=1, bias=False),\n",
    "            nn.BatchNorm2d(h3),\n",
    "            nn.ReLU(inplace=True),\n",
    "            nn.Conv2d(h3, h3, kernel_size=3, stride=1, padding=1, bias=False),\n",
    "            nn.BatchNorm2d(h3),\n",
    "            nn.ReLU(inplace=True),\n",
    "            nn.MaxPool2d(kernel_size=2)\n",
    "        )\n",
    "\n",
    "        self.gap = nn.AdaptiveAvgPool2d(1)  # [B, C, H, W] -> [B, C, 1, 1]\n",
    "        self.flatten = nn.Flatten()\n",
    "        self.dropout = nn.Dropout(p=dropout_p)\n",
    "        self.fc = nn.Linear(h3, output_shape)\n",
    "        \n",
    "        if init_kaiming:\n",
    "            self._init_weights()\n",
    "\n",
    "        # Optional memory format for faster CUDA convs (harmless elsewhere)\n",
    "        if self.use_channels_last and torch.cuda.is_available():\n",
    "            self.to(memory_format=torch.channels_last)\n",
    "\n",
    "    def _init_weights(self):\n",
    "        for m in self.modules():\n",
    "            if isinstance(m, nn.Conv2d):\n",
    "                init.kaiming_normal_(m.weight, mode='fan_out', nonlinearity='relu')\n",
    "                if m.bias is not None:\n",
    "                    nn.init.zeros_(m.bias)\n",
    "            elif isinstance(m, nn.Linear):\n",
    "                nn.init.kaiming_uniform_(m.weight, a=math.sqrt(5))\n",
    "                if m.bias is not None:\n",
    "                    fan_in, _ = nn.init._calculate_fan_in_and_fan_out(m.weight)\n",
    "                    bound = 1 / math.sqrt(fan_in)\n",
    "                    nn.init.uniform_(m.bias, -bound, bound)\n",
    "\n",
    "    def forward(self, x):\n",
    "        # Make input channels-last if requested (helps on CUDA + AMP)\n",
    "        if self.use_channels_last and x.is_contiguous(memory_format=torch.contiguous_format):\n",
    "            x = x.contiguous(memory_format=torch.channels_last)\n",
    "            \n",
    "        x = self.conv_layer_1(x)\n",
    "        x = self.conv_layer_2(x)\n",
    "        x = self.conv_layer_3(x)\n",
    "        x = self.gap(x)\n",
    "        x = self.flatten(x)\n",
    "        x = self.dropout(x)\n",
    "        x = self.fc(x)\n",
    "        return x"
   ]
  },
  {
   "cell_type": "code",
   "execution_count": null,
   "id": "758db8ca",
   "metadata": {},
   "outputs": [],
   "source": [
    "set_seed(seed=42)\n",
    "model_0 = CifarModelV0(\n",
    "    input_shade=3,\n",
    "    hidden_units=32,   \n",
    "    output_shape=NUM_CLASSES,\n",
    "    use_channels_last=(device.type == \"cuda\"),\n",
    "    dropout_p=0.10\n",
    ").to(device)"
   ]
  },
  {
   "cell_type": "code",
   "execution_count": 25,
   "id": "2eeb5b2f",
   "metadata": {},
   "outputs": [
    {
     "data": {
      "text/plain": [
       "288746"
      ]
     },
     "execution_count": 25,
     "metadata": {},
     "output_type": "execute_result"
    }
   ],
   "source": [
    "sum(p.numel() for p in model_0.parameters())"
   ]
  },
  {
   "cell_type": "code",
   "execution_count": 26,
   "id": "9ea52aca",
   "metadata": {},
   "outputs": [],
   "source": [
    "loss_fn = nn.CrossEntropyLoss(label_smoothing=0.1)\n",
    "optimizer = build_optimizer(model=model_0)\n",
    "scheduler = build_scheduler(optimizer=optimizer, steps_per_epoch=len(tr_dataloader))"
   ]
  },
  {
   "cell_type": "code",
   "execution_count": 27,
   "id": "365dad7a",
   "metadata": {},
   "outputs": [
    {
     "name": "stdout",
     "output_type": "stream",
     "text": [
      "Epoch: 1\n",
      "-------\n"
     ]
    },
    {
     "name": "stderr",
     "output_type": "stream",
     "text": [
      "100%|██████████| 391/391 [00:53<00:00,  7.34it/s]\n",
      "100%|██████████| 391/391 [00:53<00:00,  7.34it/s]\n"
     ]
    },
    {
     "name": "stdout",
     "output_type": "stream",
     "text": [
      "Train loss: 1.74162 | Train accuracy: 41.88% | lr: 0.0004810164500990109\n"
     ]
    },
    {
     "name": "stderr",
     "output_type": "stream",
     "text": [
      "100%|██████████| 79/79 [00:23<00:00,  3.30it/s]\n",
      "\n"
     ]
    },
    {
     "name": "stdout",
     "output_type": "stream",
     "text": [
      "Test loss: 1.54448 | Test accuracy: 53.01%\n",
      "Checkpoint saved: CifarModelV0_checkpoints\n",
      "Epoch: 2\n",
      "-------\n"
     ]
    },
    {
     "name": "stderr",
     "output_type": "stream",
     "text": [
      "100%|██████████| 391/391 [00:12<00:00, 30.27it/s]\n",
      "100%|██████████| 391/391 [00:12<00:00, 30.27it/s]\n"
     ]
    },
    {
     "name": "stdout",
     "output_type": "stream",
     "text": [
      "Train loss: 1.47419 | Train accuracy: 56.16% | lr: 0.000975522163053159\n"
     ]
    },
    {
     "name": "stderr",
     "output_type": "stream",
     "text": [
      "100%|██████████| 79/79 [00:00<00:00, 165.41it/s]\n",
      "\n"
     ]
    },
    {
     "name": "stdout",
     "output_type": "stream",
     "text": [
      "Test loss: 1.36389 | Test accuracy: 60.90%\n",
      "Checkpoint saved: CifarModelV0_checkpoints\n",
      "Epoch: 3\n",
      "-------\n"
     ]
    },
    {
     "name": "stderr",
     "output_type": "stream",
     "text": [
      "100%|██████████| 391/391 [00:12<00:00, 31.03it/s]\n",
      "100%|██████████| 391/391 [00:12<00:00, 31.03it/s]\n"
     ]
    },
    {
     "name": "stdout",
     "output_type": "stream",
     "text": [
      "Train loss: 1.35591 | Train accuracy: 62.11% | lr: 0.0016509042963251982\n"
     ]
    },
    {
     "name": "stderr",
     "output_type": "stream",
     "text": [
      "100%|██████████| 79/79 [00:00<00:00, 160.11it/s]\n",
      "100%|██████████| 79/79 [00:00<00:00, 160.11it/s]\n"
     ]
    },
    {
     "name": "stdout",
     "output_type": "stream",
     "text": [
      "Test loss: 1.58168 | Test accuracy: 54.97%\n",
      "Epoch: 4\n",
      "-------\n"
     ]
    },
    {
     "name": "stderr",
     "output_type": "stream",
     "text": [
      "100%|██████████| 391/391 [00:12<00:00, 31.26it/s]\n",
      "100%|██████████| 391/391 [00:12<00:00, 31.26it/s]\n"
     ]
    },
    {
     "name": "stdout",
     "output_type": "stream",
     "text": [
      "Train loss: 1.26351 | Train accuracy: 67.02% | lr: 0.0023260439221740896\n"
     ]
    },
    {
     "name": "stderr",
     "output_type": "stream",
     "text": [
      "100%|██████████| 79/79 [00:00<00:00, 178.41it/s]\n",
      "100%|██████████| 79/79 [00:00<00:00, 178.41it/s]\n"
     ]
    },
    {
     "name": "stdout",
     "output_type": "stream",
     "text": [
      "Test loss: 1.21820 | Test accuracy: 68.78%\n",
      "Checkpoint saved: CifarModelV0_checkpoints\n",
      "Epoch: 5\n",
      "-------\n"
     ]
    },
    {
     "name": "stderr",
     "output_type": "stream",
     "text": [
      "100%|██████████| 391/391 [00:12<00:00, 31.32it/s]\n",
      "100%|██████████| 391/391 [00:12<00:00, 31.32it/s]\n"
     ]
    },
    {
     "name": "stdout",
     "output_type": "stream",
     "text": [
      "Train loss: 1.19231 | Train accuracy: 70.68% | lr: 0.002819887146685254\n"
     ]
    },
    {
     "name": "stderr",
     "output_type": "stream",
     "text": [
      "100%|██████████| 79/79 [00:00<00:00, 179.89it/s]\n",
      "100%|██████████| 79/79 [00:00<00:00, 179.89it/s]\n"
     ]
    },
    {
     "name": "stdout",
     "output_type": "stream",
     "text": [
      "Test loss: 1.40242 | Test accuracy: 64.09%\n",
      "Epoch: 6\n",
      "-------\n"
     ]
    },
    {
     "name": "stderr",
     "output_type": "stream",
     "text": [
      "100%|██████████| 391/391 [00:12<00:00, 31.19it/s]\n",
      "100%|██████████| 391/391 [00:12<00:00, 31.19it/s]\n"
     ]
    },
    {
     "name": "stdout",
     "output_type": "stream",
     "text": [
      "Train loss: 1.14883 | Train accuracy: 72.79% | lr: 0.002999999755439336\n"
     ]
    },
    {
     "name": "stderr",
     "output_type": "stream",
     "text": [
      "100%|██████████| 79/79 [00:00<00:00, 173.69it/s]\n",
      "\n"
     ]
    },
    {
     "name": "stdout",
     "output_type": "stream",
     "text": [
      "Test loss: 1.18519 | Test accuracy: 71.98%\n",
      "Checkpoint saved: CifarModelV0_checkpoints\n",
      "Epoch: 7\n",
      "-------\n"
     ]
    },
    {
     "name": "stderr",
     "output_type": "stream",
     "text": [
      "100%|██████████| 391/391 [00:12<00:00, 31.31it/s]\n",
      "100%|██████████| 391/391 [00:12<00:00, 31.31it/s]\n"
     ]
    },
    {
     "name": "stdout",
     "output_type": "stream",
     "text": [
      "Train loss: 1.11221 | Train accuracy: 74.73% | lr: 0.0029625780657302043\n"
     ]
    },
    {
     "name": "stderr",
     "output_type": "stream",
     "text": [
      "100%|██████████| 79/79 [00:00<00:00, 169.19it/s]\n",
      "\n"
     ]
    },
    {
     "name": "stdout",
     "output_type": "stream",
     "text": [
      "Test loss: 1.09328 | Test accuracy: 75.47%\n",
      "Checkpoint saved: CifarModelV0_checkpoints\n",
      "Epoch: 8\n",
      "-------\n"
     ]
    },
    {
     "name": "stderr",
     "output_type": "stream",
     "text": [
      "100%|██████████| 391/391 [00:12<00:00, 31.41it/s]\n",
      "100%|██████████| 391/391 [00:12<00:00, 31.41it/s]\n"
     ]
    },
    {
     "name": "stdout",
     "output_type": "stream",
     "text": [
      "Train loss: 1.08859 | Train accuracy: 75.75% | lr: 0.0028525687672457663\n"
     ]
    },
    {
     "name": "stderr",
     "output_type": "stream",
     "text": [
      "100%|██████████| 79/79 [00:00<00:00, 178.15it/s]\n",
      "100%|██████████| 79/79 [00:00<00:00, 178.15it/s]\n"
     ]
    },
    {
     "name": "stdout",
     "output_type": "stream",
     "text": [
      "Test loss: 1.24941 | Test accuracy: 68.88%\n",
      "Epoch: 9\n",
      "-------\n"
     ]
    },
    {
     "name": "stderr",
     "output_type": "stream",
     "text": [
      "100%|██████████| 391/391 [00:12<00:00, 30.91it/s]\n",
      "100%|██████████| 391/391 [00:12<00:00, 30.91it/s]\n"
     ]
    },
    {
     "name": "stdout",
     "output_type": "stream",
     "text": [
      "Train loss: 1.07019 | Train accuracy: 76.89% | lr: 0.0026754881855708557\n"
     ]
    },
    {
     "name": "stderr",
     "output_type": "stream",
     "text": [
      "100%|██████████| 79/79 [00:00<00:00, 164.04it/s]\n",
      "100%|██████████| 79/79 [00:00<00:00, 164.04it/s]\n"
     ]
    },
    {
     "name": "stdout",
     "output_type": "stream",
     "text": [
      "Test loss: 1.11382 | Test accuracy: 74.80%\n",
      "Epoch: 10\n",
      "-------\n"
     ]
    },
    {
     "name": "stderr",
     "output_type": "stream",
     "text": [
      "100%|██████████| 391/391 [00:12<00:00, 30.64it/s]\n",
      "100%|██████████| 391/391 [00:12<00:00, 30.64it/s]\n"
     ]
    },
    {
     "name": "stdout",
     "output_type": "stream",
     "text": [
      "Train loss: 1.04882 | Train accuracy: 77.77% | lr: 0.0024402158804947686\n"
     ]
    },
    {
     "name": "stderr",
     "output_type": "stream",
     "text": [
      "100%|██████████| 79/79 [00:00<00:00, 157.28it/s]"
     ]
    },
    {
     "name": "stdout",
     "output_type": "stream",
     "text": [
      "Test loss: 1.09276 | Test accuracy: 76.22%\n",
      "Checkpoint saved: CifarModelV0_checkpoints\n",
      "Training finished in 195.05s. Logs saved to history. Log after the training is finished\n",
      "   epoch  train_loss  train_acc  val_loss  val_acc        lr   elapsed_s\n",
      "7      8    1.088586    0.75752  1.249414   0.6888  0.002853  168.631298\n",
      "8      9    1.070188    0.76888  1.113815   0.7480  0.002675  181.768741\n",
      "9     10    1.048824    0.77772  1.092756   0.7622  0.002440  195.042033\n",
      "\n",
      "Saved final training history to C:\\Users\\Altuk\\OneDrive\\repos\\skill-builder-process\\ml_basics\\notebooks\\DL\\csv\\history_model_0_cifar.csv\n"
     ]
    },
    {
     "name": "stderr",
     "output_type": "stream",
     "text": [
      "\n"
     ]
    }
   ],
   "source": [
    "set_seed(seed=42)\n",
    "# Initialize\n",
    "history = []\n",
    "EPOCHS = 10\n",
    "\n",
    "# Run train/eval loop\n",
    "train_test_loop(\n",
    "    history=history,\n",
    "    model=model_0,\n",
    "    train_data_loader=tr_dataloader,\n",
    "    test_data_loader=te_dataloader,\n",
    "    loss_fn=loss_fn,\n",
    "    optimizer=optimizer,\n",
    "    device=device,\n",
    "    num_classes=NUM_CLASSES,\n",
    "    epochs=EPOCHS,\n",
    "    scheduler=scheduler\n",
    ")\n",
    "\n",
    "# Convert once after training (the function already appends per epoch)\n",
    "hist_df = pd.DataFrame(history)\n",
    "\n",
    "# Quick sanity check\n",
    "print(hist_df.tail(3))\n",
    "\n",
    "# Save once at the end (more efficient than re-writing each epoch)\n",
    "out_path = Path(\"csv/history_model_0_cifar.csv\")\n",
    "out_path.parent.mkdir(parents=True, exist_ok=True)\n",
    "hist_df.to_csv(out_path, index=False)\n",
    "print(f\"\\nSaved final training history to {out_path.resolve()}\")"
   ]
  },
  {
   "cell_type": "code",
   "execution_count": 28,
   "id": "91a155b6",
   "metadata": {},
   "outputs": [],
   "source": [
    "def latest_checkpoint_dir(model):\n",
    "    return Path(f\"./{model.__class__.__name__}_checkpoints\")\n",
    "\n",
    "def get_latest_checkpoint_path(model) -> Path:\n",
    "    ckpt_dir = latest_checkpoint_dir(model)\n",
    "    files = sorted(ckpt_dir.glob(\"checkpoint_epoch_*.pth\"))\n",
    "    if not files:\n",
    "        raise FileNotFoundError(f\"No checkpoints in {ckpt_dir}\")\n",
    "    return files[-1]  # highest epoch"
   ]
  },
  {
   "cell_type": "code",
   "execution_count": 29,
   "id": "754351c5",
   "metadata": {},
   "outputs": [],
   "source": [
    "model_0_resume = CifarModelV0(\n",
    "    input_shade=3,\n",
    "    hidden_units=32,   \n",
    "    output_shape=NUM_CLASSES,\n",
    "    use_channels_last=(device.type == \"cuda\"),\n",
    "    dropout_p=0.10\n",
    ").to(device)\n",
    "\n",
    "optimizer_resume = build_optimizer(model=model_0_resume)\n",
    "scheduler_resume = build_scheduler(optimizer=optimizer_resume, steps_per_epoch=len(tr_dataloader))"
   ]
  },
  {
   "cell_type": "code",
   "execution_count": null,
   "id": "ca6474e8",
   "metadata": {},
   "outputs": [
    {
     "name": "stdout",
     "output_type": "stream",
     "text": [
      "Checkpoint loaded from: CifarModelV0_checkpoints\\checkpoint_epoch_010.pth (epoch 10)\n",
      "Epoch: 1\n",
      "-------\n"
     ]
    },
    {
     "name": "stderr",
     "output_type": "stream",
     "text": [
      "100%|██████████| 391/391 [00:13<00:00, 29.56it/s]\n",
      "100%|██████████| 391/391 [00:13<00:00, 29.56it/s]\n"
     ]
    },
    {
     "name": "stdout",
     "output_type": "stream",
     "text": [
      "Train loss: 1.03136 | Train accuracy: 78.45% | lr: 0.002158549387805609\n"
     ]
    },
    {
     "name": "stderr",
     "output_type": "stream",
     "text": [
      "100%|██████████| 79/79 [00:00<00:00, 170.44it/s]\n",
      "\n"
     ]
    },
    {
     "name": "stdout",
     "output_type": "stream",
     "text": [
      "Test loss: 0.96700 | Test accuracy: 81.74%\n",
      "Checkpoint saved: CifarModelV0_checkpoints\n",
      "Epoch: 2\n",
      "-------\n"
     ]
    },
    {
     "name": "stderr",
     "output_type": "stream",
     "text": [
      "100%|██████████| 391/391 [00:12<00:00, 30.13it/s]\n",
      "100%|██████████| 391/391 [00:12<00:00, 30.13it/s]\n"
     ]
    },
    {
     "name": "stdout",
     "output_type": "stream",
     "text": [
      "Train loss: 1.00473 | Train accuracy: 79.76% | lr: 0.0018446126415836567\n"
     ]
    },
    {
     "name": "stderr",
     "output_type": "stream",
     "text": [
      "100%|██████████| 79/79 [00:00<00:00, 180.77it/s]\n",
      "100%|██████████| 79/79 [00:00<00:00, 180.77it/s]\n"
     ]
    },
    {
     "name": "stdout",
     "output_type": "stream",
     "text": [
      "Test loss: 1.05254 | Test accuracy: 77.08%\n",
      "Epoch: 3\n",
      "-------\n"
     ]
    },
    {
     "name": "stderr",
     "output_type": "stream",
     "text": [
      "100%|██████████| 391/391 [00:12<00:00, 30.50it/s]\n",
      "100%|██████████| 391/391 [00:12<00:00, 30.50it/s]\n"
     ]
    },
    {
     "name": "stdout",
     "output_type": "stream",
     "text": [
      "Train loss: 0.98022 | Train accuracy: 81.22% | lr: 0.001514147741170172\n"
     ]
    },
    {
     "name": "stderr",
     "output_type": "stream",
     "text": [
      "100%|██████████| 79/79 [00:00<00:00, 166.18it/s]\n",
      "100%|██████████| 79/79 [00:00<00:00, 166.18it/s]\n"
     ]
    },
    {
     "name": "stdout",
     "output_type": "stream",
     "text": [
      "Test loss: 0.95931 | Test accuracy: 81.92%\n",
      "Checkpoint saved: CifarModelV0_checkpoints\n",
      "Epoch: 4\n",
      "-------\n"
     ]
    },
    {
     "name": "stderr",
     "output_type": "stream",
     "text": [
      "100%|██████████| 391/391 [00:13<00:00, 29.82it/s]\n",
      "100%|██████████| 391/391 [00:13<00:00, 29.82it/s]\n"
     ]
    },
    {
     "name": "stdout",
     "output_type": "stream",
     "text": [
      "Train loss: 0.95940 | Train accuracy: 81.95% | lr: 0.001183725576573138\n"
     ]
    },
    {
     "name": "stderr",
     "output_type": "stream",
     "text": [
      "100%|██████████| 79/79 [00:00<00:00, 164.58it/s]\n",
      "100%|██████████| 79/79 [00:00<00:00, 164.58it/s]\n"
     ]
    },
    {
     "name": "stdout",
     "output_type": "stream",
     "text": [
      "Test loss: 0.91350 | Test accuracy: 84.23%\n",
      "Checkpoint saved: CifarModelV0_checkpoints\n",
      "Epoch: 5\n",
      "-------\n"
     ]
    },
    {
     "name": "stderr",
     "output_type": "stream",
     "text": [
      "100%|██████████| 391/391 [00:12<00:00, 30.12it/s]\n",
      "100%|██████████| 391/391 [00:12<00:00, 30.12it/s]\n"
     ]
    },
    {
     "name": "stdout",
     "output_type": "stream",
     "text": [
      "Train loss: 0.93046 | Train accuracy: 83.42% | lr: 0.0008699148948482519\n"
     ]
    },
    {
     "name": "stderr",
     "output_type": "stream",
     "text": [
      "100%|██████████| 79/79 [00:00<00:00, 138.65it/s]\n",
      "100%|██████████| 79/79 [00:00<00:00, 138.65it/s]\n"
     ]
    },
    {
     "name": "stdout",
     "output_type": "stream",
     "text": [
      "Test loss: 0.87989 | Test accuracy: 85.29%\n",
      "Checkpoint saved: CifarModelV0_checkpoints\n",
      "Epoch: 6\n",
      "-------\n"
     ]
    },
    {
     "name": "stderr",
     "output_type": "stream",
     "text": [
      "100%|██████████| 391/391 [00:13<00:00, 30.05it/s]\n",
      "100%|██████████| 391/391 [00:13<00:00, 30.05it/s]\n"
     ]
    },
    {
     "name": "stdout",
     "output_type": "stream",
     "text": [
      "Train loss: 0.90444 | Train accuracy: 84.54% | lr: 0.0005884514739364903\n"
     ]
    },
    {
     "name": "stderr",
     "output_type": "stream",
     "text": [
      "100%|██████████| 79/79 [00:00<00:00, 161.04it/s]\n",
      "100%|██████████| 79/79 [00:00<00:00, 161.04it/s]\n"
     ]
    },
    {
     "name": "stdout",
     "output_type": "stream",
     "text": [
      "Test loss: 0.85945 | Test accuracy: 86.66%\n",
      "Checkpoint saved: CifarModelV0_checkpoints\n",
      "Epoch: 7\n",
      "-------\n"
     ]
    },
    {
     "name": "stderr",
     "output_type": "stream",
     "text": [
      "100%|██████████| 391/391 [00:12<00:00, 30.63it/s]\n",
      "100%|██████████| 391/391 [00:12<00:00, 30.63it/s]\n"
     ]
    },
    {
     "name": "stdout",
     "output_type": "stream",
     "text": [
      "Train loss: 0.87817 | Train accuracy: 85.76% | lr: 0.0003534490650512609\n"
     ]
    },
    {
     "name": "stderr",
     "output_type": "stream",
     "text": [
      "100%|██████████| 79/79 [00:00<00:00, 178.25it/s]\n",
      "\n"
     ]
    },
    {
     "name": "stdout",
     "output_type": "stream",
     "text": [
      "Test loss: 0.84459 | Test accuracy: 87.24%\n",
      "Checkpoint saved: CifarModelV0_checkpoints\n",
      "Epoch: 8\n",
      "-------\n"
     ]
    },
    {
     "name": "stderr",
     "output_type": "stream",
     "text": [
      "100%|██████████| 391/391 [00:12<00:00, 30.34it/s]\n",
      "100%|██████████| 391/391 [00:12<00:00, 30.34it/s]\n"
     ]
    },
    {
     "name": "stdout",
     "output_type": "stream",
     "text": [
      "Train loss: 0.85114 | Train accuracy: 87.00% | lr: 0.0001766916702586708\n"
     ]
    },
    {
     "name": "stderr",
     "output_type": "stream",
     "text": [
      "100%|██████████| 79/79 [00:00<00:00, 171.97it/s]\n",
      "\n"
     ]
    },
    {
     "name": "stdout",
     "output_type": "stream",
     "text": [
      "Test loss: 0.83009 | Test accuracy: 87.85%\n",
      "Checkpoint saved: CifarModelV0_checkpoints\n",
      "Epoch: 9\n",
      "-------\n"
     ]
    },
    {
     "name": "stderr",
     "output_type": "stream",
     "text": [
      "100%|██████████| 391/391 [00:12<00:00, 30.38it/s]\n",
      "100%|██████████| 391/391 [00:12<00:00, 30.38it/s]\n"
     ]
    },
    {
     "name": "stdout",
     "output_type": "stream",
     "text": [
      "Train loss: 0.83446 | Train accuracy: 87.76% | lr: 6.704264340822397e-05\n"
     ]
    },
    {
     "name": "stderr",
     "output_type": "stream",
     "text": [
      "100%|██████████| 79/79 [00:00<00:00, 161.65it/s]\n",
      "100%|██████████| 79/79 [00:00<00:00, 161.65it/s]\n"
     ]
    },
    {
     "name": "stdout",
     "output_type": "stream",
     "text": [
      "Test loss: 0.82102 | Test accuracy: 88.13%\n",
      "Checkpoint saved: CifarModelV0_checkpoints\n",
      "Epoch: 10\n",
      "-------\n"
     ]
    },
    {
     "name": "stderr",
     "output_type": "stream",
     "text": [
      "100%|██████████| 391/391 [00:12<00:00, 30.29it/s]\n",
      "100%|██████████| 391/391 [00:12<00:00, 30.29it/s]\n"
     ]
    },
    {
     "name": "stdout",
     "output_type": "stream",
     "text": [
      "Train loss: 0.82497 | Train accuracy: 88.27% | lr: 3.0000244560664276e-05\n"
     ]
    },
    {
     "name": "stderr",
     "output_type": "stream",
     "text": [
      "100%|██████████| 79/79 [00:00<00:00, 164.49it/s]\n",
      "100%|██████████| 79/79 [00:00<00:00, 164.49it/s]\n"
     ]
    },
    {
     "name": "stdout",
     "output_type": "stream",
     "text": [
      "Test loss: 0.81580 | Test accuracy: 88.20%\n",
      "Checkpoint saved: CifarModelV0_checkpoints\n",
      "Epoch: 11\n",
      "-------\n"
     ]
    },
    {
     "name": "stderr",
     "output_type": "stream",
     "text": [
      "  0%|          | 0/391 [00:00<?, ?it/s]\n",
      "\n"
     ]
    },
    {
     "ename": "ValueError",
     "evalue": "Tried to step 7821 times. The specified number of total steps is 7820",
     "output_type": "error",
     "traceback": [
      "\u001b[31m---------------------------------------------------------------------------\u001b[39m",
      "\u001b[31mValueError\u001b[39m                                Traceback (most recent call last)",
      "\u001b[36mCell\u001b[39m\u001b[36m \u001b[39m\u001b[32mIn[30]\u001b[39m\u001b[32m, line 12\u001b[39m\n\u001b[32m      3\u001b[39m epoch_loaded, best_metric, seed_loaded = load_checkpoint(\n\u001b[32m      4\u001b[39m     model=model_0_resume,\n\u001b[32m      5\u001b[39m     optimizer=optimizer_resume,\n\u001b[32m   (...)\u001b[39m\u001b[32m      8\u001b[39m     map_location=\u001b[33m\"\u001b[39m\u001b[33mauto\u001b[39m\u001b[33m\"\u001b[39m\n\u001b[32m      9\u001b[39m )\n\u001b[32m     11\u001b[39m EXTRA_EPOCHS = \u001b[32m20\u001b[39m  \u001b[38;5;66;03m# run 20 more epochs\u001b[39;00m\n\u001b[32m---> \u001b[39m\u001b[32m12\u001b[39m \u001b[43mtrain_test_loop\u001b[49m\u001b[43m(\u001b[49m\n\u001b[32m     13\u001b[39m \u001b[43m    \u001b[49m\u001b[43mhistory\u001b[49m\u001b[43m=\u001b[49m\u001b[43mhistory\u001b[49m\u001b[43m,\u001b[49m\n\u001b[32m     14\u001b[39m \u001b[43m    \u001b[49m\u001b[43mmodel\u001b[49m\u001b[43m=\u001b[49m\u001b[43mmodel_0_resume\u001b[49m\u001b[43m,\u001b[49m\n\u001b[32m     15\u001b[39m \u001b[43m    \u001b[49m\u001b[43mtrain_data_loader\u001b[49m\u001b[43m=\u001b[49m\u001b[43mtr_dataloader\u001b[49m\u001b[43m,\u001b[49m\n\u001b[32m     16\u001b[39m \u001b[43m    \u001b[49m\u001b[43mtest_data_loader\u001b[49m\u001b[43m=\u001b[49m\u001b[43mte_dataloader\u001b[49m\u001b[43m,\u001b[49m\n\u001b[32m     17\u001b[39m \u001b[43m    \u001b[49m\u001b[43mloss_fn\u001b[49m\u001b[43m=\u001b[49m\u001b[43mloss_fn\u001b[49m\u001b[43m,\u001b[49m\n\u001b[32m     18\u001b[39m \u001b[43m    \u001b[49m\u001b[43moptimizer\u001b[49m\u001b[43m=\u001b[49m\u001b[43moptimizer_resume\u001b[49m\u001b[43m,\u001b[49m\n\u001b[32m     19\u001b[39m \u001b[43m    \u001b[49m\u001b[43mdevice\u001b[49m\u001b[43m=\u001b[49m\u001b[43mdevice\u001b[49m\u001b[43m,\u001b[49m\n\u001b[32m     20\u001b[39m \u001b[43m    \u001b[49m\u001b[43mnum_classes\u001b[49m\u001b[43m=\u001b[49m\u001b[43mNUM_CLASSES\u001b[49m\u001b[43m,\u001b[49m\n\u001b[32m     21\u001b[39m \u001b[43m    \u001b[49m\u001b[43mepochs\u001b[49m\u001b[43m=\u001b[49m\u001b[43mEXTRA_EPOCHS\u001b[49m\u001b[43m,\u001b[49m\n\u001b[32m     22\u001b[39m \u001b[43m    \u001b[49m\u001b[43mscheduler\u001b[49m\u001b[43m=\u001b[49m\u001b[43mscheduler_resume\u001b[49m\n\u001b[32m     23\u001b[39m \u001b[43m)\u001b[49m\n",
      "\u001b[36mCell\u001b[39m\u001b[36m \u001b[39m\u001b[32mIn[13]\u001b[39m\u001b[32m, line 30\u001b[39m, in \u001b[36mtrain_test_loop\u001b[39m\u001b[34m(history, model, train_data_loader, test_data_loader, loss_fn, optimizer, device, num_classes, scheduler, epochs, timer_fn, log_path, save_checkpoint_root, save_checkpoint_best_val, seed)\u001b[39m\n\u001b[32m     27\u001b[39m \u001b[38;5;28mprint\u001b[39m(\u001b[33mf\u001b[39m\u001b[33m\"\u001b[39m\u001b[33mEpoch: \u001b[39m\u001b[38;5;132;01m{\u001b[39;00mepoch\u001b[38;5;250m \u001b[39m+\u001b[38;5;250m \u001b[39m\u001b[32m1\u001b[39m\u001b[38;5;132;01m}\u001b[39;00m\u001b[38;5;130;01m\\n\u001b[39;00m\u001b[33m-------\u001b[39m\u001b[33m\"\u001b[39m)\n\u001b[32m     29\u001b[39m \u001b[38;5;66;03m# train (your train_step already handles AMP/scheduler-per-batch)\u001b[39;00m\n\u001b[32m---> \u001b[39m\u001b[32m30\u001b[39m train_loss, train_acc = \u001b[43mtrain_step\u001b[49m\u001b[43m(\u001b[49m\u001b[43mmodel\u001b[49m\u001b[43m=\u001b[49m\u001b[43mmodel\u001b[49m\u001b[43m,\u001b[49m\n\u001b[32m     31\u001b[39m \u001b[43m                                   \u001b[49m\u001b[43mdata_loader\u001b[49m\u001b[43m=\u001b[49m\u001b[43mtrain_data_loader\u001b[49m\u001b[43m,\u001b[49m\n\u001b[32m     32\u001b[39m \u001b[43m                                   \u001b[49m\u001b[43mloss_fn\u001b[49m\u001b[43m=\u001b[49m\u001b[43mloss_fn\u001b[49m\u001b[43m,\u001b[49m\n\u001b[32m     33\u001b[39m \u001b[43m                                   \u001b[49m\u001b[43moptimizer\u001b[49m\u001b[43m=\u001b[49m\u001b[43moptimizer\u001b[49m\u001b[43m,\u001b[49m\n\u001b[32m     34\u001b[39m \u001b[43m                                   \u001b[49m\u001b[43mdevice\u001b[49m\u001b[43m=\u001b[49m\u001b[43mdevice\u001b[49m\u001b[43m,\u001b[49m\n\u001b[32m     35\u001b[39m \u001b[43m                                   \u001b[49m\u001b[43mnum_classes\u001b[49m\u001b[43m=\u001b[49m\u001b[43mnum_classes\u001b[49m\u001b[43m,\u001b[49m\n\u001b[32m     36\u001b[39m \u001b[43m                                   \u001b[49m\u001b[43mscheduler\u001b[49m\u001b[43m=\u001b[49m\u001b[43mscheduler\u001b[49m\u001b[43m)\u001b[49m\n\u001b[32m     38\u001b[39m \u001b[38;5;66;03m# eval\u001b[39;00m\n\u001b[32m     39\u001b[39m test_loss, test_acc = test_step(model=model,\n\u001b[32m     40\u001b[39m                                 loss_fn=loss_fn,\n\u001b[32m     41\u001b[39m                                 data_loader=test_data_loader,\n\u001b[32m     42\u001b[39m                                 device=device,\n\u001b[32m     43\u001b[39m                                 num_classes=num_classes)\n",
      "\u001b[36mCell\u001b[39m\u001b[36m \u001b[39m\u001b[32mIn[8]\u001b[39m\u001b[32m, line 73\u001b[39m, in \u001b[36mtrain_step\u001b[39m\u001b[34m(model, data_loader, loss_fn, optimizer, device, task, num_classes, scheduler)\u001b[39m\n\u001b[32m     70\u001b[39m     acc_metric.update(logits.detach(), y)\n\u001b[32m     72\u001b[39m     \u001b[38;5;28;01mif\u001b[39;00m scheduler \u001b[38;5;129;01mis\u001b[39;00m \u001b[38;5;129;01mnot\u001b[39;00m \u001b[38;5;28;01mNone\u001b[39;00m:\n\u001b[32m---> \u001b[39m\u001b[32m73\u001b[39m         \u001b[43mscheduler\u001b[49m\u001b[43m.\u001b[49m\u001b[43mstep\u001b[49m\u001b[43m(\u001b[49m\u001b[43m)\u001b[49m\n\u001b[32m     74\u001b[39m         current_lr = scheduler.get_last_lr()[\u001b[32m0\u001b[39m]\n\u001b[32m     76\u001b[39m avg_loss = total_loss / \u001b[38;5;28mmax\u001b[39m(total_n, \u001b[32m1\u001b[39m)\n",
      "\u001b[36mFile \u001b[39m\u001b[32mc:\\Users\\Altuk\\OneDrive\\repos\\skill-builder-process\\.venv\\Lib\\site-packages\\torch\\optim\\lr_scheduler.py:205\u001b[39m, in \u001b[36mLRScheduler.step\u001b[39m\u001b[34m(self, epoch)\u001b[39m\n\u001b[32m    203\u001b[39m \u001b[38;5;28;01mif\u001b[39;00m epoch \u001b[38;5;129;01mis\u001b[39;00m \u001b[38;5;129;01mnot\u001b[39;00m \u001b[38;5;28;01mNone\u001b[39;00m:\n\u001b[32m    204\u001b[39m     warnings.warn(EPOCH_DEPRECATION_WARNING, \u001b[38;5;167;01mUserWarning\u001b[39;00m)\n\u001b[32m--> \u001b[39m\u001b[32m205\u001b[39m \u001b[38;5;28;43mself\u001b[39;49m\u001b[43m.\u001b[49m\u001b[43m_update_lr\u001b[49m\u001b[43m(\u001b[49m\u001b[43mepoch\u001b[49m\u001b[43m)\u001b[49m\n",
      "\u001b[36mFile \u001b[39m\u001b[32mc:\\Users\\Altuk\\OneDrive\\repos\\skill-builder-process\\.venv\\Lib\\site-packages\\torch\\optim\\lr_scheduler.py:211\u001b[39m, in \u001b[36mLRScheduler._update_lr\u001b[39m\u001b[34m(self, epoch)\u001b[39m\n\u001b[32m    209\u001b[39m \u001b[38;5;28;01mif\u001b[39;00m epoch \u001b[38;5;129;01mis\u001b[39;00m \u001b[38;5;28;01mNone\u001b[39;00m:\n\u001b[32m    210\u001b[39m     \u001b[38;5;28mself\u001b[39m.last_epoch += \u001b[32m1\u001b[39m\n\u001b[32m--> \u001b[39m\u001b[32m211\u001b[39m     values = \u001b[38;5;28;43mself\u001b[39;49m\u001b[43m.\u001b[49m\u001b[43mget_lr\u001b[49m\u001b[43m(\u001b[49m\u001b[43m)\u001b[49m\n\u001b[32m    212\u001b[39m \u001b[38;5;28;01melse\u001b[39;00m:\n\u001b[32m    213\u001b[39m     \u001b[38;5;28mself\u001b[39m.last_epoch = epoch\n",
      "\u001b[36mFile \u001b[39m\u001b[32mc:\\Users\\Altuk\\OneDrive\\repos\\skill-builder-process\\.venv\\Lib\\site-packages\\torch\\optim\\lr_scheduler.py:2143\u001b[39m, in \u001b[36mOneCycleLR.get_lr\u001b[39m\u001b[34m(self)\u001b[39m\n\u001b[32m   2140\u001b[39m step_num = \u001b[38;5;28mself\u001b[39m.last_epoch\n\u001b[32m   2142\u001b[39m \u001b[38;5;28;01mif\u001b[39;00m step_num > \u001b[38;5;28mself\u001b[39m.total_steps:\n\u001b[32m-> \u001b[39m\u001b[32m2143\u001b[39m     \u001b[38;5;28;01mraise\u001b[39;00m \u001b[38;5;167;01mValueError\u001b[39;00m(\n\u001b[32m   2144\u001b[39m         \u001b[33mf\u001b[39m\u001b[33m\"\u001b[39m\u001b[33mTried to step \u001b[39m\u001b[38;5;132;01m{\u001b[39;00mstep_num\u001b[38;5;132;01m}\u001b[39;00m\u001b[33m times. The specified number of total steps is \u001b[39m\u001b[38;5;132;01m{\u001b[39;00m\u001b[38;5;28mself\u001b[39m.total_steps\u001b[38;5;132;01m}\u001b[39;00m\u001b[33m\"\u001b[39m\n\u001b[32m   2145\u001b[39m     )\n\u001b[32m   2147\u001b[39m \u001b[38;5;28;01mfor\u001b[39;00m group \u001b[38;5;129;01min\u001b[39;00m \u001b[38;5;28mself\u001b[39m.optimizer.param_groups:\n\u001b[32m   2148\u001b[39m     start_step = \u001b[32m0.0\u001b[39m\n",
      "\u001b[31mValueError\u001b[39m: Tried to step 7821 times. The specified number of total steps is 7820"
     ]
    }
   ],
   "source": [
    "checkpoint_dir = latest_checkpoint_dir(model_0_resume)\n",
    "if not checkpoint_dir.exists():\n",
    "    raise FileNotFoundError(f\"No checkpoint directory found at {checkpoint_dir.resolve()}. Run initial training first.\")\n",
    "\n",
    "ckpt_path = get_latest_checkpoint_path(model_0_resume)\n",
    "epoch_loaded, best_metric, seed_loaded = load_checkpoint(\n",
    "    model=model_0_resume,\n",
    "    optimizer=optimizer_resume,\n",
    "    scheduler=scheduler_resume,\n",
    "    path=ckpt_path,\n",
    "    map_location=\"auto\"\n",
    ")\n",
    "\n",
    "# Ensure history is available; load from CSV if restarting a fresh session\n",
    "if \"history\" not in globals() or history is None:\n",
    "    hist_csv = Path(\"csv/history_model_0_cifar.csv\")\n",
    "    if hist_csv.exists():\n",
    "        history = pd.read_csv(hist_csv).to_dict(orient=\"records\")\n",
    "    else:\n",
    "        history = []\n",
    "\n",
    "EXTRA_EPOCHS = 20  # run 20 more epochs\n",
    "train_test_loop(\n",
    "    history=history,\n",
    "    model=model_0_resume,\n",
    "    train_data_loader=tr_dataloader,\n",
    "    test_data_loader=te_dataloader,\n",
    "    loss_fn=loss_fn,\n",
    "    optimizer=optimizer_resume,\n",
    "    device=device,\n",
    "    num_classes=NUM_CLASSES,\n",
    "    epochs=EXTRA_EPOCHS,\n",
    "    scheduler=scheduler_resume,\n",
    "    save_checkpoint_root=checkpoint_dir,\n",
    "    save_checkpoint_best_val=best_metric if best_metric is not None else float(\"-inf\"),\n",
    "    seed=seed_loaded if seed_loaded is not None else 42\n",
    ")"
   ]
  }
 ],
 "metadata": {
  "kernelspec": {
   "display_name": ".venv",
   "language": "python",
   "name": "python3"
  },
  "language_info": {
   "codemirror_mode": {
    "name": "ipython",
    "version": 3
   },
   "file_extension": ".py",
   "mimetype": "text/x-python",
   "name": "python",
   "nbconvert_exporter": "python",
   "pygments_lexer": "ipython3",
   "version": "3.13.6"
  }
 },
 "nbformat": 4,
 "nbformat_minor": 5
}
