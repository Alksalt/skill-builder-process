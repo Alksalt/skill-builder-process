{
 "cells": [
  {
   "cell_type": "code",
   "execution_count": 17,
   "id": "c8476d00",
   "metadata": {},
   "outputs": [
    {
     "name": "stdout",
     "output_type": "stream",
     "text": [
      "2.8.0\n",
      "0.23.0\n"
     ]
    }
   ],
   "source": [
    "import torch\n",
    "from torch import nn\n",
    "\n",
    "import torchvision\n",
    "from torchvision import datasets\n",
    "from torchvision import transforms\n",
    "from torchvision.transforms import ToTensor\n",
    "from torch.utils.data import DataLoader\n",
    "\n",
    "import pandas as pd\n",
    "import matplotlib.pyplot as plt\n",
    "from torchmetrics import Accuracy, F1Score, Recall, Precision, ConfusionMatrix\n",
    "import requests\n",
    "from pathlib import Path\n",
    "from timeit import default_timer as timer\n",
    "from tqdm.auto import tqdm\n",
    "print(torch.__version__)\n",
    "print(torchvision.__version__)\n",
    "from helper_functions import print_train_time\n",
    "from sklearn.metrics import confusion_matrix, classification_report, ConfusionMatrixDisplay"
   ]
  },
  {
   "cell_type": "code",
   "execution_count": 2,
   "id": "d85b43e3",
   "metadata": {},
   "outputs": [],
   "source": [
    "train_transform = transforms.Compose([\n",
    "    transforms.RandomCrop(28, padding=2),\n",
    "    transforms.RandomHorizontalFlip(p=0.5),\n",
    "    transforms.ToTensor()\n",
    "])\n",
    "\n",
    "#Setup training data\n",
    "train_data = datasets.FashionMNIST(\n",
    "    root='data',\n",
    "    train=True,\n",
    "    download=True,\n",
    "    transform=train_transform,\n",
    "    target_transform=None\n",
    ")\n",
    "\n",
    "test_data = datasets.FashionMNIST(\n",
    "    root='data',\n",
    "    train=False,\n",
    "    download=True,\n",
    "    transform=ToTensor(),\n",
    "    target_transform=None\n",
    ")"
   ]
  },
  {
   "cell_type": "code",
   "execution_count": null,
   "id": "ff457849",
   "metadata": {},
   "outputs": [],
   "source": [
    "class_names = train_data.classes\n",
    "\n",
    "NUM_CLASSES = len(class_names)\n",
    "#Setup the batch size hyperparameter\n",
    "BATCH_SIZE = 32\n"
   ]
  },
  {
   "cell_type": "code",
   "execution_count": 4,
   "id": "7b1ab5da",
   "metadata": {},
   "outputs": [],
   "source": [
    "\n",
    "# Turn datasets into iterables (batches)\n",
    "train_dataloader = DataLoader(dataset=train_data,\n",
    "                              batch_size=BATCH_SIZE,\n",
    "                              shuffle=True)\n",
    "test_dataloader = DataLoader(dataset=test_data,\n",
    "                             batch_size=BATCH_SIZE,\n",
    "                             shuffle=False)"
   ]
  },
  {
   "cell_type": "code",
   "execution_count": 5,
   "id": "0d7205b8",
   "metadata": {},
   "outputs": [
    {
     "data": {
      "text/plain": [
       "Text(0.5, 1.0, '9')"
      ]
     },
     "execution_count": 5,
     "metadata": {},
     "output_type": "execute_result"
    },
    {
     "data": {
      "image/png": "[encoded data removed]",
      "text/plain": [
       "<Figure size 640x480 with 1 Axes>"
      ]
     },
     "metadata": {},
     "output_type": "display_data"
    }
   ],
   "source": [
    "image, label = train_data[0]\n",
    "plt.imshow(image.squeeze(), cmap='gray')\n",
    "plt.title(label)"
   ]
  },
  {
   "cell_type": "code",
   "execution_count": 6,
   "id": "774553a8",
   "metadata": {},
   "outputs": [
    {
     "data": {
      "text/plain": [
       "torch.Size([1, 28, 28])"
      ]
     },
     "execution_count": 6,
     "metadata": {},
     "output_type": "execute_result"
    }
   ],
   "source": [
    "image.shape"
   ]
  },
  {
   "cell_type": "code",
   "execution_count": 7,
   "id": "168e31b3",
   "metadata": {},
   "outputs": [],
   "source": [
    "device = torch.device(\"mps\" if torch.backends.mps.is_available()\n",
    "                      else \"cuda\" if torch.cuda.is_available()\n",
    "                      else \"cpu\")\n"
   ]
  },
  {
   "cell_type": "code",
   "execution_count": 8,
   "id": "a470e294",
   "metadata": {},
   "outputs": [],
   "source": [
    "#Training func\n",
    "def train_step(model:torch.nn.Module,\n",
    "               data_loader: torch.utils.data.DataLoader,\n",
    "               loss_fn: torch.nn.Module,\n",
    "               optimizer: torch.optim.Optimizer,\n",
    "               device: torch.device | str = 'cpu',\n",
    "               task: str = \"multiclass\",\n",
    "               num_classes = None,\n",
    "               scheduler: torch.optim.lr_scheduler._LRScheduler | None  = None) -> tuple:\n",
    "    \"\"\"Performs a training with model trying to learn on data_loader\"\"\"\n",
    "    #Creating training and test loop\n",
    "    model.train()\n",
    "    acc_metric = Accuracy(task=task, num_classes=num_classes).to(device)\n",
    "    total_loss, total_n  = 0, 0\n",
    "\n",
    "    # initializing from optimizer before any steps\n",
    "    current_lr = optimizer.param_groups[0][\"lr\"]\n",
    "\n",
    "    for X, y in tqdm(data_loader):\n",
    "        X, y = X.to(device), y.to(device)\n",
    "        #1. Forward pass\n",
    "        logits = model(X)\n",
    "\n",
    "        #2. Calculate loss (per batch)\n",
    "        batch_loss = loss_fn(logits, y)\n",
    "\n",
    "        #Calc total loss and n(number of sample(batch))\n",
    "        n = y.size(0)\n",
    "        total_loss += batch_loss.item() * n # accumulate train loss\n",
    "        total_n += n\n",
    "\n",
    "        #acc\n",
    "        acc_metric.update(logits, y)\n",
    "\n",
    "        #3 three steps\n",
    "        optimizer.zero_grad(set_to_none=True); batch_loss.backward(); optimizer.step()\n",
    "\n",
    "\n",
    "        if scheduler is not None:\n",
    "            scheduler.step()\n",
    "            current_lr = scheduler.get_last_lr()[0]\n",
    "\n",
    "\n",
    "\n",
    "    # Scale loss and acc to find the average loss/acc per batch\n",
    "    avg_loss = total_loss / total_n\n",
    "    avg_acc = acc_metric.compute().item()\n",
    "    print(f\"Train loss: {avg_loss:.5f} | Train accuracy: {avg_acc * 100:.2f}% | lr: {current_lr}\")\n",
    "    return avg_loss, avg_acc\n"
   ]
  },
  {
   "cell_type": "code",
   "execution_count": 9,
   "id": "bb0f04e1",
   "metadata": {},
   "outputs": [],
   "source": [
    "#Testing func\n",
    "def test_step(model: torch.nn.Module,\n",
    "              loss_fn: torch.nn.Module,\n",
    "              data_loader: torch.utils.data.DataLoader,\n",
    "              device: torch.device | str = \"cpu\",\n",
    "              task: str = \"multiclass\",\n",
    "              num_classes = None) -> tuple:\n",
    "    \"\"\"Returns a tuple that contains avg_loss, avg_acc\"\"\"\n",
    "    acc_metric = Accuracy(task=task, num_classes=num_classes).to(device)\n",
    "\n",
    "    total_loss = 0.0\n",
    "    total_n = 0\n",
    "\n",
    "    model.eval()\n",
    "    with torch.inference_mode():\n",
    "        for X, y in tqdm(data_loader):\n",
    "            X, y = X.to(device), y.to(device)\n",
    "\n",
    "            # Make predictions\n",
    "            logits = model(X)\n",
    "            batch_loss = loss_fn(logits, y)\n",
    "\n",
    "            n = y.size(0)\n",
    "            total_loss += batch_loss.item() * n\n",
    "            total_n += n\n",
    "\n",
    "            acc_metric.update(logits, y)\n",
    "    # Scale loss and acc to find the average loss/acc per batch\n",
    "    avg_loss = total_loss / total_n\n",
    "    avg_acc = acc_metric.compute().item()\n",
    "    print(f\"Test loss: {avg_loss:.5f} | Test accuracy: {avg_acc * 100:.2f}%\")\n",
    "    return avg_loss, avg_acc"
   ]
  },
  {
   "cell_type": "markdown",
   "id": "72199cf5",
   "metadata": {},
   "source": [
    "### Model 2: Builing a Convolutional NN "
   ]
  },
  {
   "cell_type": "code",
   "execution_count": 10,
   "id": "c3daa4ee",
   "metadata": {},
   "outputs": [],
   "source": [
    "\n",
    "class FashionMNISTModelV2(nn.Module):\n",
    "    \"\"\"\n",
    "    TinyVGG-style CNN for 28x28 Fashion-MNIST.\n",
    "    Uses a dummy forward pass in __init__ to infer Linear in_features.\n",
    "    \"\"\"\n",
    "    def __init__(self, input_shade: int,\n",
    "                 hidden_units: int,\n",
    "                 output_shape: int,\n",
    "                 image_size: int = 28):\n",
    "        super().__init__()\n",
    "        self.image_size = image_size\n",
    "\n",
    "        self.conv_block_1 = nn.Sequential(\n",
    "            nn.Conv2d(input_shade, hidden_units, kernel_size=3, stride=1, padding=0),\n",
    "            nn.ReLU(inplace=True),\n",
    "            nn.Conv2d(hidden_units, hidden_units, kernel_size=3, stride=1, padding=0),\n",
    "            nn.ReLU(inplace=True),\n",
    "            nn.MaxPool2d(kernel_size=2)  # 28->14\n",
    "        )\n",
    "        self.conv_block_2 = nn.Sequential(\n",
    "            nn.Conv2d(hidden_units, hidden_units, kernel_size=3, stride=1, padding=0),\n",
    "            nn.ReLU(inplace=True),\n",
    "            nn.Conv2d(hidden_units, hidden_units, kernel_size=3, stride=1, padding=0),\n",
    "            nn.ReLU(inplace=True),\n",
    "            nn.MaxPool2d(kernel_size=2)  # 14->7\n",
    "        )\n",
    "\n",
    "        # --- dummy part: infer flattened features to accelerate/avoid shape bugs ---\n",
    "        with torch.inference_mode():\n",
    "            dummy = torch.zeros(1, input_shade, image_size, image_size)\n",
    "            feat = self.conv_block_2(self.conv_block_1(dummy))\n",
    "            flattened = feat.numel()  # batch=1 so this is channels*H*W\n",
    "\n",
    "        self.classifier = nn.Sequential(\n",
    "            nn.Flatten(),\n",
    "            nn.Linear(flattened, hidden_units),\n",
    "            nn.ReLU(inplace=True),\n",
    "            nn.Linear(hidden_units, output_shape)\n",
    "        )\n",
    "\n",
    "    def forward(self, x):\n",
    "        x = self.conv_block_1(x)\n",
    "        x = self.conv_block_2(x)   # <- removed stray comma that made a tuple\n",
    "        x = self.classifier(x)\n",
    "        return x\n"
   ]
  },
  {
   "cell_type": "code",
   "execution_count": 11,
   "id": "90104de5",
   "metadata": {},
   "outputs": [],
   "source": [
    "torch.manual_seed(42)\n",
    "model_2  = FashionMNISTModelV2(input_shade=1,\n",
    "                               hidden_units=10,\n",
    "                               output_shape=NUM_CLASSES).to(device)"
   ]
  },
  {
   "cell_type": "code",
   "execution_count": 12,
   "id": "1f75ecd5",
   "metadata": {},
   "outputs": [],
   "source": [
    "loss_fn = nn.CrossEntropyLoss()\n",
    "\n",
    "optimizer = torch.optim.Adam(params=model_2.parameters(), lr=1e-3, weight_decay=1e-4)\n",
    "scheduler = torch.optim.lr_scheduler.OneCycleLR(\n",
    "    optimizer,\n",
    "    max_lr=3e-3,                       # try 2e-3 .. 5e-3\n",
    "    epochs=20,                         # total planned epochs\n",
    "    steps_per_epoch=len(train_dataloader),\n",
    "    pct_start=0.3,                     # warmup fraction\n",
    "    div_factor=10,                     # initial lr = max_lr/10\n",
    "    final_div_factor=10                # final lr = max_lr/100\n",
    ")"
   ]
  },
  {
   "cell_type": "code",
   "execution_count": null,
   "id": "7a065fa4",
   "metadata": {},
   "outputs": [],
   "source": [
    "def train_test_loop(history: list,\n",
    "                    model: nn.Module,\n",
    "                    train_data_loader: torch.utils.data.DataLoader,\n",
    "                    test_data_loader: torch.utils.data.DataLoader,\n",
    "                    loss_fn: nn.Module,\n",
    "                    optimizer: torch.optim.Optimizer,\n",
    "                    device: torch.device | str = 'cpu',\n",
    "                    num_classes: int = 10 ,\n",
    "                    scheduler: torch.optim.lr_scheduler._LRScheduler | None  = None,\n",
    "                    epochs: int = 10,\n",
    "                    timer_fn=timer,\n",
    "                    log_path: str | None | Path = None):\n",
    "    \n",
    "    path = Path(log_path) if log_path is not None else Path(\"csv/history_model.csv\")\n",
    "    path.parent.mkdir(parents=True, exist_ok=True)\n",
    "    cols = [\"epoch\", \"train_loss\", \"train_acc\", \"val_loss\", \"val_acc\", \"lr\", \"elapsed_s\"]\n",
    "\n",
    "    t0 = timer_fn()\n",
    "    for epoch in range(epochs):\n",
    "        print(f\"Epoch: {epoch + 1}\\n-------\" )\n",
    "\n",
    "        train_loss, train_acc = train_step(model=model,\n",
    "                                       data_loader=train_data_loader,\n",
    "                                       loss_fn=loss_fn,\n",
    "                                       optimizer=optimizer,\n",
    "                                       device=device,\n",
    "                                       num_classes=num_classes,\n",
    "                                       scheduler=scheduler)\n",
    "        test_loss, test_acc = test_step(model=model,\n",
    "                                    loss_fn=loss_fn,\n",
    "                                    data_loader=test_data_loader,\n",
    "                                    device=device,\n",
    "                                    num_classes=num_classes)\n",
    "        \n",
    "        if scheduler is not None:\n",
    "            lr = scheduler.get_last_lr()[0]\n",
    "        else:\n",
    "            lr = optimizer.param_groups[0][\"lr\"]\n",
    "            \n",
    "        row = {\n",
    "            \"epoch\": epoch + 1,\n",
    "            \"train_loss\": train_loss,\n",
    "            \"train_acc\":  train_acc,\n",
    "            \"val_loss\":   test_loss,\n",
    "            \"val_acc\":    test_acc,\n",
    "            \"lr\":         lr,\n",
    "            \"elapsed_s\":  timer_fn() - t0\n",
    "        }\n",
    "        history.append(row)\n",
    "\n",
    "        pd.DataFrame([row], columns=cols).to_csv(\n",
    "            path,\n",
    "            sep= \",\",\n",
    "            mode=\"a\",\n",
    "            header=not path.exists(),\n",
    "            index=False\n",
    "        )\n",
    "        \n",
    "\n",
    "    print(f\"Training finished in {timer_fn() - t0:.2f}s. \"\n",
    "      f\"Logs saved to: {log_path if log_path else {path}}\")\n",
    "    return history"
   ]
  },
  {
   "cell_type": "code",
   "execution_count": 14,
   "id": "e0cc3630",
   "metadata": {},
   "outputs": [
    {
     "data": {
      "text/plain": [
       "'from pathlib import Path\\n\\n# --- Training Loop ---\\nhistory = []\\nepochs = 20\\ntrain_start_time = timer()\\n\\n# Create directory for saving results\\nPath(\"csv\").mkdir(parents=True, exist_ok=True)\\n\\nfor epoch in tqdm(range(epochs)):\\n    print(f\"Epoch: {epoch + 1}\\n-------\" )\\n    train_loss, train_acc = train_step(model=model_2,\\n                                       data_loader=train_dataloader,\\n                                       loss_fn=loss_fn,\\n                                       optimizer=optimizer,\\n                                       device=device,\\n                                       num_classes=NUM_CLASSES,\\n                                       scheduler=scheduler)\\n\\n    test_loss, test_acc = test_step(model=model_2,\\n                                    loss_fn=loss_fn,\\n                                    data_loader=test_dataloader,\\n                                    device=device,\\n                                    num_classes=NUM_CLASSES)\\n\\n    lr = optimizer.param_groups[0][\\'lr\\']\\n    history.append({\\n            \"epoch\": epoch,\\n            \"train_loss\": train_loss,\\n            \"train_acc\":  train_acc,\\n            \"val_loss\":   test_loss,\\n            \"val_acc\":    test_acc,\\n            \"lr\":         lr,\\n            \"elapsed_s\":  timer() - train_start_time\\n        })\\n'"
      ]
     },
     "execution_count": 14,
     "metadata": {},
     "output_type": "execute_result"
    }
   ],
   "source": [
    "\"\"\"from pathlib import Path\n",
    "\n",
    "# --- Training Loop ---\n",
    "history = []\n",
    "epochs = 20\n",
    "train_start_time = timer()\n",
    "\n",
    "# Create directory for saving results\n",
    "Path(\"csv\").mkdir(parents=True, exist_ok=True)\n",
    "\n",
    "for epoch in tqdm(range(epochs)):\n",
    "    print(f\"Epoch: {epoch + 1}\\n-------\" )\n",
    "    train_loss, train_acc = train_step(model=model_2,\n",
    "                                       data_loader=train_dataloader,\n",
    "                                       loss_fn=loss_fn,\n",
    "                                       optimizer=optimizer,\n",
    "                                       device=device,\n",
    "                                       num_classes=NUM_CLASSES,\n",
    "                                       scheduler=scheduler)\n",
    "\n",
    "    test_loss, test_acc = test_step(model=model_2,\n",
    "                                    loss_fn=loss_fn,\n",
    "                                    data_loader=test_dataloader,\n",
    "                                    device=device,\n",
    "                                    num_classes=NUM_CLASSES)\n",
    "\n",
    "    lr = optimizer.param_groups[0]['lr']\n",
    "    history.append({\n",
    "            \"epoch\": epoch,\n",
    "            \"train_loss\": train_loss,\n",
    "            \"train_acc\":  train_acc,\n",
    "            \"val_loss\":   test_loss,\n",
    "            \"val_acc\":    test_acc,\n",
    "            \"lr\":         lr,\n",
    "            \"elapsed_s\":  timer() - train_start_time\n",
    "        })\n",
    "\"\"\"\n"
   ]
  },
  {
   "cell_type": "code",
   "execution_count": 18,
   "id": "8bed35c0",
   "metadata": {},
   "outputs": [],
   "source": [
    "@torch.inference_mode()\n",
    "def collecting_preds(model: nn.Module,\n",
    "                     data_loader: torch.utils.data.DataLoader,\n",
    "                     device: torch.device):\n",
    "    model.eval()\n",
    "    y_trues, y_preds = [], []\n",
    "    for X, y in data_loader:\n",
    "        X = X.to(device); y = y.to(device)\n",
    "        logits = model(X)\n",
    "        preds = logits.argmax(dim=1)\n",
    "        y_trues.append(y.cpu())\n",
    "        y_preds.append(preds.cpu())\n",
    "    y_trues = torch.cat(y_trues)\n",
    "    y_preds = torch.cat(y_preds)\n",
    "\n",
    "    return y_trues, y_preds\n",
    "\n",
    "\n"
   ]
  },
  {
   "cell_type": "code",
   "execution_count": 15,
   "id": "9b4d005b",
   "metadata": {},
   "outputs": [
    {
     "name": "stdout",
     "output_type": "stream",
     "text": [
      "Epoch: 1\n",
      "-------\n"
     ]
    },
    {
     "name": "stderr",
     "output_type": "stream",
     "text": [
      "  0%|          | 0/1875 [00:00<?, ?it/s]"
     ]
    },
    {
     "name": "stderr",
     "output_type": "stream",
     "text": [
      "100%|██████████| 1875/1875 [00:08<00:00, 214.46it/s]\n"
     ]
    },
    {
     "name": "stdout",
     "output_type": "stream",
     "text": [
      "Train loss: 1.17494 | Train accuracy: 56.33% | lr: 0.00048089712487680344\n"
     ]
    },
    {
     "name": "stderr",
     "output_type": "stream",
     "text": [
      "100%|██████████| 313/313 [00:00<00:00, 527.52it/s]\n"
     ]
    },
    {
     "name": "stdout",
     "output_type": "stream",
     "text": [
      "Test loss: 0.81513 | Test accuracy: 69.12%\n",
      "Epoch: 2\n",
      "-------\n"
     ]
    },
    {
     "name": "stderr",
     "output_type": "stream",
     "text": [
      "100%|██████████| 1875/1875 [00:08<00:00, 219.35it/s]\n"
     ]
    },
    {
     "name": "stdout",
     "output_type": "stream",
     "text": [
      "Train loss: 0.76599 | Train accuracy: 71.65% | lr: 0.0009751088405610007\n"
     ]
    },
    {
     "name": "stderr",
     "output_type": "stream",
     "text": [
      "100%|██████████| 313/313 [00:00<00:00, 537.60it/s]\n"
     ]
    },
    {
     "name": "stdout",
     "output_type": "stream",
     "text": [
      "Test loss: 0.64848 | Test accuracy: 76.37%\n",
      "Epoch: 3\n",
      "-------\n"
     ]
    },
    {
     "name": "stderr",
     "output_type": "stream",
     "text": [
      "100%|██████████| 1875/1875 [00:08<00:00, 215.86it/s]\n"
     ]
    },
    {
     "name": "stdout",
     "output_type": "stream",
     "text": [
      "Train loss: 0.67330 | Train accuracy: 74.51% | lr: 0.001650188512315253\n"
     ]
    },
    {
     "name": "stderr",
     "output_type": "stream",
     "text": [
      "100%|██████████| 313/313 [00:00<00:00, 500.31it/s]\n"
     ]
    },
    {
     "name": "stdout",
     "output_type": "stream",
     "text": [
      "Test loss: 0.63413 | Test accuracy: 77.08%\n",
      "Epoch: 4\n",
      "-------\n"
     ]
    },
    {
     "name": "stderr",
     "output_type": "stream",
     "text": [
      "100%|██████████| 1875/1875 [00:08<00:00, 212.37it/s]\n"
     ]
    },
    {
     "name": "stdout",
     "output_type": "stream",
     "text": [
      "Train loss: 0.60303 | Train accuracy: 77.15% | lr: 0.0023252176635719752\n"
     ]
    },
    {
     "name": "stderr",
     "output_type": "stream",
     "text": [
      "100%|██████████| 313/313 [00:00<00:00, 549.77it/s]\n"
     ]
    },
    {
     "name": "stdout",
     "output_type": "stream",
     "text": [
      "Test loss: 0.52701 | Test accuracy: 80.69%\n",
      "Epoch: 5\n",
      "-------\n"
     ]
    },
    {
     "name": "stderr",
     "output_type": "stream",
     "text": [
      "100%|██████████| 1875/1875 [00:08<00:00, 210.71it/s]\n"
     ]
    },
    {
     "name": "stdout",
     "output_type": "stream",
     "text": [
      "Train loss: 0.55129 | Train accuracy: 79.36% | lr: 0.0028192913570417293\n"
     ]
    },
    {
     "name": "stderr",
     "output_type": "stream",
     "text": [
      "100%|██████████| 313/313 [00:00<00:00, 517.32it/s]\n"
     ]
    },
    {
     "name": "stdout",
     "output_type": "stream",
     "text": [
      "Test loss: 0.46001 | Test accuracy: 83.01%\n",
      "Epoch: 6\n",
      "-------\n"
     ]
    },
    {
     "name": "stderr",
     "output_type": "stream",
     "text": [
      "100%|██████████| 1875/1875 [00:09<00:00, 202.33it/s]\n"
     ]
    },
    {
     "name": "stdout",
     "output_type": "stream",
     "text": [
      "Train loss: 0.49992 | Train accuracy: 81.38% | lr: 0.0029999999893649976\n"
     ]
    },
    {
     "name": "stderr",
     "output_type": "stream",
     "text": [
      "100%|██████████| 313/313 [00:00<00:00, 511.18it/s]\n"
     ]
    },
    {
     "name": "stdout",
     "output_type": "stream",
     "text": [
      "Test loss: 0.46547 | Test accuracy: 82.68%\n",
      "Epoch: 7\n",
      "-------\n"
     ]
    },
    {
     "name": "stderr",
     "output_type": "stream",
     "text": [
      "100%|██████████| 1875/1875 [00:09<00:00, 207.16it/s]\n"
     ]
    },
    {
     "name": "stdout",
     "output_type": "stream",
     "text": [
      "Train loss: 0.46526 | Train accuracy: 82.90% | lr: 0.0029627283918257376\n"
     ]
    },
    {
     "name": "stderr",
     "output_type": "stream",
     "text": [
      "100%|██████████| 313/313 [00:00<00:00, 526.09it/s]\n"
     ]
    },
    {
     "name": "stdout",
     "output_type": "stream",
     "text": [
      "Test loss: 0.42645 | Test accuracy: 84.68%\n",
      "Epoch: 8\n",
      "-------\n"
     ]
    },
    {
     "name": "stderr",
     "output_type": "stream",
     "text": [
      "100%|██████████| 1875/1875 [00:08<00:00, 213.06it/s]\n"
     ]
    },
    {
     "name": "stdout",
     "output_type": "stream",
     "text": [
      "Train loss: 0.44404 | Train accuracy: 83.69% | lr: 0.0028528616475330336\n"
     ]
    },
    {
     "name": "stderr",
     "output_type": "stream",
     "text": [
      "100%|██████████| 313/313 [00:00<00:00, 507.75it/s]\n"
     ]
    },
    {
     "name": "stdout",
     "output_type": "stream",
     "text": [
      "Test loss: 0.39235 | Test accuracy: 85.71%\n",
      "Epoch: 9\n",
      "-------\n"
     ]
    },
    {
     "name": "stderr",
     "output_type": "stream",
     "text": [
      "100%|██████████| 1875/1875 [00:08<00:00, 210.12it/s]\n"
     ]
    },
    {
     "name": "stdout",
     "output_type": "stream",
     "text": [
      "Train loss: 0.42336 | Train accuracy: 84.50% | lr: 0.0026759089338092923\n"
     ]
    },
    {
     "name": "stderr",
     "output_type": "stream",
     "text": [
      "100%|██████████| 313/313 [00:00<00:00, 503.97it/s]\n"
     ]
    },
    {
     "name": "stdout",
     "output_type": "stream",
     "text": [
      "Test loss: 0.38438 | Test accuracy: 86.03%\n",
      "Epoch: 10\n",
      "-------\n"
     ]
    },
    {
     "name": "stderr",
     "output_type": "stream",
     "text": [
      "100%|██████████| 1875/1875 [00:08<00:00, 212.30it/s]\n"
     ]
    },
    {
     "name": "stdout",
     "output_type": "stream",
     "text": [
      "Train loss: 0.40688 | Train accuracy: 84.97% | lr: 0.002440743398610807\n"
     ]
    },
    {
     "name": "stderr",
     "output_type": "stream",
     "text": [
      "100%|██████████| 313/313 [00:00<00:00, 531.30it/s]\n"
     ]
    },
    {
     "name": "stdout",
     "output_type": "stream",
     "text": [
      "Test loss: 0.37231 | Test accuracy: 86.84%\n",
      "Epoch: 11\n",
      "-------\n"
     ]
    },
    {
     "name": "stderr",
     "output_type": "stream",
     "text": [
      "100%|██████████| 1875/1875 [00:08<00:00, 210.68it/s]\n"
     ]
    },
    {
     "name": "stdout",
     "output_type": "stream",
     "text": [
      "Train loss: 0.39467 | Train accuracy: 85.63% | lr: 0.0021591572238381872\n"
     ]
    },
    {
     "name": "stderr",
     "output_type": "stream",
     "text": [
      "100%|██████████| 313/313 [00:00<00:00, 525.24it/s]\n"
     ]
    },
    {
     "name": "stdout",
     "output_type": "stream",
     "text": [
      "Test loss: 0.35820 | Test accuracy: 87.05%\n",
      "Epoch: 12\n",
      "-------\n"
     ]
    },
    {
     "name": "stderr",
     "output_type": "stream",
     "text": [
      "100%|██████████| 1875/1875 [00:08<00:00, 209.97it/s]\n"
     ]
    },
    {
     "name": "stdout",
     "output_type": "stream",
     "text": [
      "Train loss: 0.38239 | Train accuracy: 86.07% | lr: 0.001845270316096\n"
     ]
    },
    {
     "name": "stderr",
     "output_type": "stream",
     "text": [
      "100%|██████████| 313/313 [00:00<00:00, 515.78it/s]\n"
     ]
    },
    {
     "name": "stdout",
     "output_type": "stream",
     "text": [
      "Test loss: 0.34426 | Test accuracy: 87.73%\n",
      "Epoch: 13\n",
      "-------\n"
     ]
    },
    {
     "name": "stderr",
     "output_type": "stream",
     "text": [
      "100%|██████████| 1875/1875 [00:08<00:00, 211.89it/s]\n"
     ]
    },
    {
     "name": "stdout",
     "output_type": "stream",
     "text": [
      "Train loss: 0.36624 | Train accuracy: 86.69% | lr: 0.0015148222756160212\n"
     ]
    },
    {
     "name": "stderr",
     "output_type": "stream",
     "text": [
      "100%|██████████| 313/313 [00:00<00:00, 554.04it/s]\n"
     ]
    },
    {
     "name": "stdout",
     "output_type": "stream",
     "text": [
      "Test loss: 0.33936 | Test accuracy: 87.81%\n",
      "Epoch: 14\n",
      "-------\n"
     ]
    },
    {
     "name": "stderr",
     "output_type": "stream",
     "text": [
      "100%|██████████| 1875/1875 [00:08<00:00, 208.74it/s]\n"
     ]
    },
    {
     "name": "stdout",
     "output_type": "stream",
     "text": [
      "Train loss: 0.35525 | Train accuracy: 87.10% | lr: 0.0011843831469787675\n"
     ]
    },
    {
     "name": "stderr",
     "output_type": "stream",
     "text": [
      "100%|██████████| 313/313 [00:00<00:00, 552.07it/s]\n"
     ]
    },
    {
     "name": "stdout",
     "output_type": "stream",
     "text": [
      "Test loss: 0.33212 | Test accuracy: 88.28%\n",
      "Epoch: 15\n",
      "-------\n"
     ]
    },
    {
     "name": "stderr",
     "output_type": "stream",
     "text": [
      "100%|██████████| 1875/1875 [00:08<00:00, 212.90it/s]\n"
     ]
    },
    {
     "name": "stdout",
     "output_type": "stream",
     "text": [
      "Train loss: 0.34691 | Train accuracy: 87.43% | lr: 0.0008705225278877486\n"
     ]
    },
    {
     "name": "stderr",
     "output_type": "stream",
     "text": [
      "100%|██████████| 313/313 [00:00<00:00, 547.51it/s]\n"
     ]
    },
    {
     "name": "stdout",
     "output_type": "stream",
     "text": [
      "Test loss: 0.32095 | Test accuracy: 88.43%\n",
      "Epoch: 16\n",
      "-------\n"
     ]
    },
    {
     "name": "stderr",
     "output_type": "stream",
     "text": [
      "100%|██████████| 1875/1875 [00:08<00:00, 211.93it/s]\n"
     ]
    },
    {
     "name": "stdout",
     "output_type": "stream",
     "text": [
      "Train loss: 0.33708 | Train accuracy: 87.85% | lr: 0.0005889787003519998\n"
     ]
    },
    {
     "name": "stderr",
     "output_type": "stream",
     "text": [
      "100%|██████████| 313/313 [00:00<00:00, 548.74it/s]\n"
     ]
    },
    {
     "name": "stdout",
     "output_type": "stream",
     "text": [
      "Test loss: 0.31943 | Test accuracy: 88.58%\n",
      "Epoch: 17\n",
      "-------\n"
     ]
    },
    {
     "name": "stderr",
     "output_type": "stream",
     "text": [
      "100%|██████████| 1875/1875 [00:09<00:00, 204.78it/s]\n"
     ]
    },
    {
     "name": "stdout",
     "output_type": "stream",
     "text": [
      "Train loss: 0.32976 | Train accuracy: 88.02% | lr: 0.0003538694475088029\n"
     ]
    },
    {
     "name": "stderr",
     "output_type": "stream",
     "text": [
      "100%|██████████| 313/313 [00:00<00:00, 518.17it/s]\n"
     ]
    },
    {
     "name": "stdout",
     "output_type": "stream",
     "text": [
      "Test loss: 0.31404 | Test accuracy: 88.73%\n",
      "Epoch: 18\n",
      "-------\n"
     ]
    },
    {
     "name": "stderr",
     "output_type": "stream",
     "text": [
      "100%|██████████| 1875/1875 [00:08<00:00, 211.53it/s]\n"
     ]
    },
    {
     "name": "stdout",
     "output_type": "stream",
     "text": [
      "Train loss: 0.32329 | Train accuracy: 88.25% | lr: 0.00017698412902646045\n"
     ]
    },
    {
     "name": "stderr",
     "output_type": "stream",
     "text": [
      "100%|██████████| 313/313 [00:00<00:00, 534.24it/s]\n"
     ]
    },
    {
     "name": "stdout",
     "output_type": "stream",
     "text": [
      "Test loss: 0.30766 | Test accuracy: 89.14%\n",
      "Epoch: 19\n",
      "-------\n"
     ]
    },
    {
     "name": "stderr",
     "output_type": "stream",
     "text": [
      "100%|██████████| 1875/1875 [00:09<00:00, 206.81it/s]\n"
     ]
    },
    {
     "name": "stdout",
     "output_type": "stream",
     "text": [
      "Train loss: 0.32083 | Train accuracy: 88.29% | lr: 6.719251338244275e-05\n"
     ]
    },
    {
     "name": "stderr",
     "output_type": "stream",
     "text": [
      "100%|██████████| 313/313 [00:00<00:00, 544.10it/s]\n"
     ]
    },
    {
     "name": "stdout",
     "output_type": "stream",
     "text": [
      "Test loss: 0.30788 | Test accuracy: 89.09%\n",
      "Epoch: 20\n",
      "-------\n"
     ]
    },
    {
     "name": "stderr",
     "output_type": "stream",
     "text": [
      "100%|██████████| 1875/1875 [00:09<00:00, 207.00it/s]\n"
     ]
    },
    {
     "name": "stdout",
     "output_type": "stream",
     "text": [
      "Train loss: 0.31682 | Train accuracy: 88.49% | lr: 3.0000010635002354e-05\n"
     ]
    },
    {
     "name": "stderr",
     "output_type": "stream",
     "text": [
      "100%|██████████| 313/313 [00:00<00:00, 526.04it/s]"
     ]
    },
    {
     "name": "stdout",
     "output_type": "stream",
     "text": [
      "Test loss: 0.30642 | Test accuracy: 89.14%\n",
      "Training finished in 190.07s. Logs saved to: no log file\n",
      "    epoch  train_loss  train_acc  val_loss  val_acc        lr   elapsed_s\n",
      "17     18    0.323294   0.882533  0.307660   0.8914  0.000177  170.762753\n",
      "18     19    0.320832   0.882933  0.307885   0.8909  0.000067  180.412727\n",
      "19     20    0.316818   0.884850  0.306423   0.8914  0.000030  190.074048\n"
     ]
    },
    {
     "name": "stderr",
     "output_type": "stream",
     "text": [
      "\n"
     ]
    }
   ],
   "source": [
    "# Convert history to DataFrame and save\n",
    "history = []\n",
    "epochs = 20\n",
    "\n",
    "\n",
    "hist_df = pd.DataFrame(train_test_loop(\n",
    "    history=history,\n",
    "    model=model_2,\n",
    "    train_data_loader=train_dataloader,\n",
    "    test_data_loader=test_dataloader,\n",
    "    loss_fn=loss_fn,\n",
    "    optimizer=optimizer,\n",
    "    device=device,\n",
    "    num_classes=NUM_CLASSES,\n",
    "    epochs=epochs,\n",
    "    scheduler=scheduler\n",
    "))\n",
    "print(hist_df.tail(3))           # quick sanity check\n",
    "hist_df.to_csv(\"csv/history_model3.csv\", index=False)"
   ]
  },
  {
   "cell_type": "code",
   "execution_count": 20,
   "id": "87b3057a",
   "metadata": {},
   "outputs": [
    {
     "name": "stdout",
     "output_type": "stream",
     "text": [
      "Per-class accuracy:\n",
      " 0 T-shirt/top :  85.0%\n",
      " 1 Trouser     :  97.5%\n",
      " 2 Pullover    :  82.2%\n",
      " 3 Dress       :  90.5%\n",
      " 4 Coat        :  87.7%\n",
      " 5 Sandal      :  95.8%\n",
      " 6 Shirt       :  64.2%\n",
      " 7 Sneaker     :  95.8%\n",
      " 8 Bag         :  96.6%\n",
      " 9 Ankle boot  :  96.1%\n",
      "\n",
      "Classification report:\n",
      "              precision    recall  f1-score   support\n",
      "\n",
      " T-shirt/top      0.842     0.850     0.846      1000\n",
      "     Trouser      0.988     0.975     0.981      1000\n",
      "    Pullover      0.862     0.822     0.841      1000\n",
      "       Dress      0.879     0.905     0.892      1000\n",
      "        Coat      0.778     0.877     0.825      1000\n",
      "      Sandal      0.981     0.958     0.969      1000\n",
      "       Shirt      0.723     0.642     0.680      1000\n",
      "     Sneaker      0.938     0.958     0.948      1000\n",
      "         Bag      0.967     0.966     0.966      1000\n",
      "  Ankle boot      0.954     0.961     0.958      1000\n",
      "\n",
      "    accuracy                          0.891     10000\n",
      "   macro avg      0.891     0.891     0.891     10000\n",
      "weighted avg      0.891     0.891     0.891     10000\n",
      "\n"
     ]
    }
   ],
   "source": [
    "y_true, y_pred = collecting_preds(model=model_2,\n",
    "                                  data_loader=test_dataloader,\n",
    "                                  device=device)\n",
    "cm = confusion_matrix(y_true=y_true,\n",
    "                      y_pred=y_pred,\n",
    "                      labels=range(NUM_CLASSES),\n",
    "                      )\n",
    "per_class_acc = cm.diagonal() / cm.sum(axis=1).clip(min=1)\n",
    "print(\"Per-class accuracy:\")\n",
    "for i, acc in enumerate(per_class_acc):\n",
    "    print(f\"{i:>2} {class_names[i]:<12}: {acc*100:5.1f}%\")\n",
    "\n",
    "print(\"\\nClassification report:\")\n",
    "print(classification_report(y_true, y_pred, target_names=class_names, digits=3))"
   ]
  },
  {
   "cell_type": "code",
   "execution_count": null,
   "id": "d4c4e976",
   "metadata": {},
   "outputs": [],
   "source": []
  }
 ],
 "metadata": {
  "kernelspec": {
   "display_name": ".venv (3.13.4)",
   "language": "python",
   "name": "python3"
  },
  "language_info": {
   "codemirror_mode": {
    "name": "ipython",
    "version": 3
   },
   "file_extension": ".py",
   "mimetype": "text/x-python",
   "name": "python",
   "nbconvert_exporter": "python",
   "pygments_lexer": "ipython3",
   "version": "3.13.4"
  }
 },
 "nbformat": 4,
 "nbformat_minor": 5
}
