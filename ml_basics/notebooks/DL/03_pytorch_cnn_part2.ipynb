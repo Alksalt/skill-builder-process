{
 "cells": [
  {
   "cell_type": "code",
   "execution_count": 1,
   "id": "c8476d00",
   "metadata": {},
   "outputs": [
    {
     "name": "stderr",
     "output_type": "stream",
     "text": [
      "c:\\Users\\Altuk\\OneDrive\\repos\\skill-builder-process\\.venv\\Lib\\site-packages\\tqdm\\auto.py:21: TqdmWarning: IProgress not found. Please update jupyter and ipywidgets. See https://ipywidgets.readthedocs.io/en/stable/user_install.html\n",
      "  from .autonotebook import tqdm as notebook_tqdm\n"
     ]
    }
   ],
   "source": [
    "import torch\n",
    "from torch import nn\n",
    "import torch.nn.init as init\n",
    "\n",
    "import torchvision\n",
    "from torchvision import datasets\n",
    "from torchvision import transforms\n",
    "from torchvision.transforms import ToTensor\n",
    "from torch.utils.data import DataLoader\n",
    "\n",
    "\n",
    "import pandas as pd\n",
    "import matplotlib.pyplot as plt\n",
    "from torchmetrics import Accuracy\n",
    "import requests\n",
    "from pathlib import Path\n",
    "import os\n",
    "from timeit import default_timer as timer\n",
    "from tqdm.auto import tqdm\n",
    "import math\n",
    "from helper_functions import print_train_time\n",
    "from sklearn.metrics import confusion_matrix, classification_report, ConfusionMatrixDisplay\n",
    "from contextlib import nullcontext\n",
    "import torch, torch.backends.cudnn as cudnn, torch.backends.cuda as cuda_bk"
   ]
  },
  {
   "cell_type": "code",
   "execution_count": null,
   "id": "e4fa86fd",
   "metadata": {},
   "outputs": [
    {
     "name": "stderr",
     "output_type": "stream",
     "text": [
      "c:\\Users\\Altuk\\OneDrive\\repos\\skill-builder-process\\.venv\\Lib\\site-packages\\torch\\backends\\__init__.py:46: UserWarning: Please use the new API settings to control TF32 behavior, such as torch.backends.cudnn.conv.fp32_precision = 'tf32' or torch.backends.cuda.matmul.fp32_precision = 'ieee'. Old settings, e.g, torch.backends.cuda.matmul.allow_tf32 = True, torch.backends.cudnn.allow_tf32 = True, allowTF32CuDNN() and allowTF32CuBLAS() will be deprecated after Pytorch 2.9. Please see https://pytorch.org/docs/main/notes/cuda.html#tensorfloat-32-tf32-on-ampere-and-later-devices (Triggered internally at C:\\actions-runner\\_work\\pytorch\\pytorch\\pytorch\\aten\\src\\ATen\\Context.cpp:85.)\n",
      "  self.setter(val)\n"
     ]
    }
   ],
   "source": [
    "def pick_device():\n",
    "    if torch.cuda.is_available():\n",
    "        return torch.device(\"cuda\")\n",
    "    elif torch.backends.mps.is_available():\n",
    "        return torch.device(\"mps\")\n",
    "    else:\n",
    "        return torch.device(\"cpu\")\n",
    "\n",
    "device = pick_device()\n",
    "\n",
    "# CUDA-only speed toggles (guard them!)\n",
    "if device.type == \"cuda\":\n",
    "    torch.backends.cudnn.benchmark = True          # good for speed with static shapes\n",
    "    torch.backends.cuda.matmul.allow_tf32 = True   # TF32 fast matmul on Ampere+\n",
    "    torch.backends.cudnn.allow_tf32 = True\n",
    "    torch.set_float32_matmul_precision(\"high\")     # prefers fast float32 kernels"
   ]
  },
  {
   "cell_type": "code",
   "execution_count": 3,
   "id": "d85b43e3",
   "metadata": {},
   "outputs": [],
   "source": [
    "train_transform = transforms.Compose([\n",
    "    transforms.RandomCrop(28, padding=2),\n",
    "    transforms.RandomHorizontalFlip(p=0.5),\n",
    "    transforms.ToTensor()\n",
    "])\n",
    "\n",
    "#Setup training data\n",
    "train_data = datasets.FashionMNIST(\n",
    "    root='data',\n",
    "    train=True,\n",
    "    download=True,\n",
    "    transform=train_transform,\n",
    "    target_transform=None\n",
    ")\n",
    "\n",
    "test_data = datasets.FashionMNIST(\n",
    "    root='data',\n",
    "    train=False,\n",
    "    download=True,\n",
    "    transform=ToTensor(),\n",
    "    target_transform=None\n",
    ")"
   ]
  },
  {
   "cell_type": "code",
   "execution_count": 4,
   "id": "ff457849",
   "metadata": {},
   "outputs": [],
   "source": [
    "class_names = train_data.classes\n",
    "\n",
    "NUM_CLASSES = len(class_names)\n",
    "#Setup the batch size hyperparameter\n",
    "BATCH_SIZE = 256\n"
   ]
  },
  {
   "cell_type": "code",
   "execution_count": 5,
   "id": "dcddab3e",
   "metadata": {},
   "outputs": [
    {
     "name": "stdout",
     "output_type": "stream",
     "text": [
      "Using device: cuda\n"
     ]
    }
   ],
   "source": [
    "\n",
    "\n",
    "device = torch.device(\"mps\" if torch.backends.mps.is_available()\n",
    "                      else \"cuda\" if torch.cuda.is_available()\n",
    "                      else \"cpu\")\n",
    "print(f\"Using device: {device}\")\n"
   ]
  },
  {
   "cell_type": "code",
   "execution_count": 6,
   "id": "a0c06195",
   "metadata": {},
   "outputs": [],
   "source": [
    "# Device-aware loader settings\n",
    "if device.type == \"cuda\":\n",
    "    loader_kwargs = dict(\n",
    "        batch_size=BATCH_SIZE,\n",
    "        num_workers=max(4, os.cpu_count() // 2),\n",
    "        pin_memory=True,\n",
    "        persistent_workers=True,\n",
    "        prefetch_factor=2\n",
    "    )\n",
    "elif device.type == \"mps\":\n",
    "    loader_kwargs = dict(\n",
    "        batch_size=BATCH_SIZE,\n",
    "        num_workers=0,          # multiprocessing not reliable on MPS\n",
    "        pin_memory=False,\n",
    "        persistent_workers=False\n",
    "    )\n",
    "else:  # CPU fallback\n",
    "    loader_kwargs = dict(batch_size=BATCH_SIZE, num_workers=0)"
   ]
  },
  {
   "cell_type": "code",
   "execution_count": 7,
   "id": "7b1ab5da",
   "metadata": {},
   "outputs": [],
   "source": [
    "\n",
    "# Turn datasets into iterables (batches)\n",
    "train_dataloader = DataLoader(dataset=train_data, shuffle=True, **loader_kwargs)\n",
    "test_dataloader = DataLoader(dataset=test_data, shuffle=True, **loader_kwargs)"
   ]
  },
  {
   "cell_type": "code",
   "execution_count": 8,
   "id": "0d7205b8",
   "metadata": {},
   "outputs": [
    {
     "data": {
      "text/plain": [
       "Text(0.5, 1.0, '9')"
      ]
     },
     "execution_count": 8,
     "metadata": {},
     "output_type": "execute_result"
    },
    {
     "data": {
      "image/png": "[encoded data removed]",
      "text/plain": [
       "<Figure size 640x480 with 1 Axes>"
      ]
     },
     "metadata": {},
     "output_type": "display_data"
    }
   ],
   "source": [
    "image, label = train_data[0]\n",
    "plt.imshow(image.squeeze(), cmap='gray')\n",
    "plt.title(label)"
   ]
  },
  {
   "cell_type": "code",
   "execution_count": 9,
   "id": "774553a8",
   "metadata": {},
   "outputs": [
    {
     "data": {
      "text/plain": [
       "torch.Size([1, 28, 28])"
      ]
     },
     "execution_count": 9,
     "metadata": {},
     "output_type": "execute_result"
    }
   ],
   "source": [
    "image.shape"
   ]
  },
  {
   "cell_type": "code",
   "execution_count": null,
   "id": "a470e294",
   "metadata": {},
   "outputs": [],
   "source": [
    "#Training func\n",
    "def train_step(model: torch.nn.Module,\n",
    "               data_loader: torch.utils.data.DataLoader,\n",
    "               loss_fn: torch.nn.Module,\n",
    "               optimizer: torch.optim.Optimizer,\n",
    "               device: torch.device | str = 'cpu',\n",
    "               task: str = \"multiclass\",\n",
    "               num_classes=None,\n",
    "               scheduler: torch.optim.lr_scheduler._LRScheduler | None = None) -> tuple:\n",
    "    \"\"\"Performs one training epoch over data_loader.\"\"\"\n",
    "\n",
    "    # ---- setup ----\n",
    "    if not isinstance(device, torch.device):\n",
    "        device = torch.device(device)\n",
    "    use_cuda = device.type == \"cuda\"\n",
    "    use_mps  = device.type == \"mps\"\n",
    "\n",
    "    model.train()\n",
    "    acc_metric = Accuracy(task=task, num_classes=num_classes).to(device)\n",
    "\n",
    "    # AMP: unified, deprecation-safe\n",
    "    # CUDA: use GradScaler + autocast(\"cuda\", fp16)\n",
    "    # MPS: use autocast(\"mps\", fp16) if available; no scaler\n",
    "    # CPU: no autocast (tiny nets), plain FP32\n",
    "    if use_cuda:\n",
    "        scaler = torch.amp.GradScaler(\"cuda\")  # new API\n",
    "        autocast_cm = torch.amp.autocast(\"cuda\", dtype=torch.float16)\n",
    "    else:\n",
    "        scaler = None\n",
    "        # Try MPS autocast (PyTorch ≥2.5); fallback if not supported\n",
    "        if use_mps:\n",
    "            try:\n",
    "                autocast_cm = torch.amp.autocast(\"mps\", dtype=torch.float16)\n",
    "            except Exception:\n",
    "                autocast_cm = nullcontext()\n",
    "        else:\n",
    "            autocast_cm = nullcontext()\n",
    "\n",
    "    current_lr = optimizer.param_groups[0][\"lr\"]\n",
    "    total_loss, total_n = 0.0, 0\n",
    "\n",
    "    for X, y in tqdm(data_loader):\n",
    "        non_block = use_cuda  # only helps on CUDA + pinned memory\n",
    "        X = X.to(device, non_blocking=non_block)\n",
    "        y = y.to(device, non_blocking=non_block)\n",
    "\n",
    "        # Channels-last boosts CUDA convs; harmless elsewhere\n",
    "        if use_cuda:\n",
    "            X = X.contiguous(memory_format=torch.channels_last)\n",
    "\n",
    "        optimizer.zero_grad(set_to_none=True)\n",
    "\n",
    "        with autocast_cm:\n",
    "            logits = model(X)\n",
    "            batch_loss = loss_fn(logits, y)\n",
    "\n",
    "        if scaler is not None:          # CUDA path\n",
    "            scaler.scale(batch_loss).backward()\n",
    "            scaler.step(optimizer)\n",
    "            scaler.update()\n",
    "        else:                            # MPS/CPU path\n",
    "            batch_loss.backward()\n",
    "            optimizer.step()\n",
    "\n",
    "        # metrics/bookkeeping\n",
    "        n = y.size(0)\n",
    "        total_loss += batch_loss.detach().item() * n\n",
    "        total_n    += n\n",
    "        acc_metric.update(logits.detach(), y)\n",
    "\n",
    "        if scheduler is not None:\n",
    "            scheduler.step()\n",
    "            current_lr = scheduler.get_last_lr()[0]\n",
    "\n",
    "    avg_loss = total_loss / max(total_n, 1)\n",
    "    avg_acc  = acc_metric.compute().item()\n",
    "    print(f\"Train loss: {avg_loss:.5f} | Train accuracy: {avg_acc*100:.2f}% | lr: {current_lr}\")\n",
    "    return avg_loss, avg_acc"
   ]
  },
  {
   "cell_type": "code",
   "execution_count": null,
   "id": "bb0f04e1",
   "metadata": {},
   "outputs": [],
   "source": [
    "#Testing func\n",
    "\n",
    "def test_step(model: torch.nn.Module,\n",
    "              loss_fn: torch.nn.Module,\n",
    "              data_loader: torch.utils.data.DataLoader,\n",
    "              device: torch.device | str = \"cpu\",\n",
    "              task: str = \"multiclass\",\n",
    "              num_classes=None) -> tuple:\n",
    "    \"\"\"Eval one epoch. Returns (avg_loss, avg_acc).\"\"\"\n",
    "    if not isinstance(device, torch.device):\n",
    "        device = torch.device(device)\n",
    "    use_cuda = device.type == \"cuda\"\n",
    "    use_mps  = device.type == \"mps\"\n",
    "\n",
    "    model.eval()\n",
    "    acc_metric = Accuracy(task=task, num_classes=num_classes).to(device)\n",
    "\n",
    "    # AMP autocast (no GradScaler needed for eval)\n",
    "    if use_cuda:\n",
    "        autocast_cm = torch.amp.autocast(\"cuda\", dtype=torch.float16)\n",
    "    elif use_mps:\n",
    "        # available on recent PyTorch; fallback silently if unsupported\n",
    "        try:\n",
    "            autocast_cm = torch.amp.autocast(\"mps\", dtype=torch.float16)\n",
    "        except Exception:\n",
    "            autocast_cm = nullcontext()\n",
    "    else:\n",
    "        autocast_cm = nullcontext()\n",
    "\n",
    "    total_loss, total_n = 0.0, 0\n",
    "\n",
    "    with torch.inference_mode():\n",
    "        for X, y in tqdm(data_loader):\n",
    "            non_block = use_cuda  # only helps on CUDA + pinned memory\n",
    "            X = X.to(device, non_blocking=non_block)\n",
    "            y = y.to(device, non_blocking=non_block)\n",
    "\n",
    "            if use_cuda:\n",
    "                X = X.contiguous(memory_format=torch.channels_last)\n",
    "\n",
    "            with autocast_cm:\n",
    "                logits = model(X)\n",
    "                batch_loss = loss_fn(logits, y)\n",
    "\n",
    "            n = y.size(0)\n",
    "            total_loss += batch_loss.detach().item() * n\n",
    "            total_n    += n\n",
    "            acc_metric.update(logits.detach(), y)\n",
    "\n",
    "    avg_loss = total_loss / max(total_n, 1)\n",
    "    avg_acc  = acc_metric.compute().item()\n",
    "    print(f\"Test loss: {avg_loss:.5f} | Test accuracy: {avg_acc*100:.2f}%\")\n",
    "    return avg_loss, avg_acc\n"
   ]
  },
  {
   "cell_type": "markdown",
   "id": "72199cf5",
   "metadata": {},
   "source": [
    "### Model 2: Builing a Convolutional NN "
   ]
  },
  {
   "cell_type": "code",
   "execution_count": 12,
   "id": "c3daa4ee",
   "metadata": {},
   "outputs": [],
   "source": [
    "class FashionMNISTModelV2(nn.Module):\n",
    "    \"\"\"\n",
    "    TinyVGG-style CNN for 28x28 Fashion-MNIST.\n",
    "    Two conv blocks (3x3, ReLU, 3x3, ReLU, MaxPool2d(2)), then MLP head.\n",
    "    Uses same-padding (p=1) so spatial dims are predictable; no dummy pass needed.\n",
    "    \"\"\"\n",
    "    def __init__(self, input_shade: int,\n",
    "                 hidden_units: int,\n",
    "                 output_shape: int,\n",
    "                 image_size: int = 28,\n",
    "                 use_channels_last: bool = False,\n",
    "                 init_kaiming: bool = True,\n",
    "                 dropout_p:int = 0.10):\n",
    "        super().__init__()\n",
    "        self.image_size = image_size\n",
    "        self.use_channels_last = use_channels_last\n",
    "\n",
    "        self.conv_block_1 = nn.Sequential(\n",
    "            nn.Conv2d(input_shade, hidden_units, kernel_size=3, stride=1, padding=1,bias=False),\n",
    "            nn.BatchNorm2d(hidden_units),\n",
    "            nn.ReLU(inplace=True),\n",
    "            nn.Conv2d(hidden_units, hidden_units, kernel_size=3, stride=1, padding=1, bias=False),\n",
    "            nn.BatchNorm2d(hidden_units),\n",
    "            nn.ReLU(inplace=True),\n",
    "            nn.MaxPool2d(kernel_size=2)  # 28->14\n",
    "        )\n",
    "        self.conv_block_2 = nn.Sequential(\n",
    "            nn.Conv2d(hidden_units, hidden_units, kernel_size=3, stride=1, padding=1,bias=False),\n",
    "            nn.BatchNorm2d(hidden_units),\n",
    "            nn.ReLU(inplace=True),\n",
    "            nn.Conv2d(hidden_units, hidden_units, kernel_size=3, stride=1, padding=1, bias=False),\n",
    "            nn.BatchNorm2d(hidden_units),\n",
    "            nn.ReLU(inplace=True),\n",
    "            nn.MaxPool2d(kernel_size=2)  # 14->7\n",
    "        )\n",
    "\n",
    "        # With p=1, stride=1, two pools(2): side = image_size // 4\n",
    "        side = image_size // 4\n",
    "        flattened = hidden_units * side * side\n",
    "\n",
    "        self.classifier = nn.Sequential(\n",
    "            nn.Flatten(),\n",
    "            nn.Dropout(p=dropout_p),\n",
    "            nn.Linear(flattened, hidden_units),\n",
    "            nn.ReLU(inplace=True),\n",
    "            nn.Linear(hidden_units, output_shape)\n",
    "        )\n",
    "\n",
    "        if init_kaiming:\n",
    "            self._init_weights()\n",
    "\n",
    "        # Optional memory format for faster CUDA convs (harmless elsewhere)\n",
    "        if self.use_channels_last:\n",
    "            self.to(memory_format=torch.channels_last)\n",
    "\n",
    "    def _init_weights(self):\n",
    "        for m in self.modules():\n",
    "            if isinstance(m, nn.Conv2d):\n",
    "                init.kaiming_normal_(m.weight, mode='fan_out', nonlinearity='relu')\n",
    "                if m.bias is not None:\n",
    "                    nn.init.zeros_(m.bias)\n",
    "            elif isinstance(m, nn.Linear):\n",
    "                nn.init.kaiming_uniform_(m.weight, a=math.sqrt(5))\n",
    "                if m.bias is not None:\n",
    "                    fan_in, _ = nn.init._calculate_fan_in_and_fan_out(m.weight)\n",
    "                    bound = 1 / math.sqrt(fan_in)\n",
    "                    nn.init.uniform_(m.bias, -bound, bound)\n",
    "\n",
    "    def forward(self, x):\n",
    "        # Make input channels-last if requested (helps on CUDA + AMP)\n",
    "        if self.use_channels_last and x.is_contiguous(memory_format=torch.contiguous_format):\n",
    "            x = x.contiguous(memory_format=torch.channels_last)\n",
    "\n",
    "        x = self.conv_block_1(x)\n",
    "        x = self.conv_block_2(x)\n",
    "        x = self.classifier(x)\n",
    "        return x\n"
   ]
  },
  {
   "cell_type": "code",
   "execution_count": 21,
   "id": "15c6b3b5",
   "metadata": {},
   "outputs": [],
   "source": [
    "class FashionMNISTModelV3(nn.Module):\n",
    "    \"\"\"\n",
    "    TinyVGG-style CNN for 28x28 Fashion-MNIST.\n",
    "    Two conv blocks (3x3, ReLU, 3x3, ReLU, MaxPool2d(2)), then MLP head.\n",
    "    Uses same-padding (p=1) so spatial dims are predictable; no dummy pass needed.\n",
    "    \"\"\"\n",
    "    def __init__(self, input_shade: int,\n",
    "                 hidden_units: int,\n",
    "                 output_shape: int,\n",
    "                 image_size: int = 28,\n",
    "                 use_channels_last: bool = False,\n",
    "                 init_kaiming: bool = True,\n",
    "                 dropout_p:int = 0.10):\n",
    "        super().__init__()\n",
    "        self.image_size = image_size\n",
    "        self.use_channels_last = use_channels_last\n",
    "\n",
    "        self.conv_block_1 = nn.Sequential(\n",
    "            nn.Conv2d(input_shade, hidden_units, kernel_size=3, stride=1, padding=1),\n",
    "            #nn.BatchNorm2d(hidden_units),\n",
    "            nn.ReLU(inplace=True),\n",
    "            nn.Conv2d(hidden_units, hidden_units, kernel_size=3, stride=1, padding=1),\n",
    "            #nn.BatchNorm2d(hidden_units),\n",
    "            nn.ReLU(inplace=True),\n",
    "            nn.MaxPool2d(kernel_size=2)  # 28->14\n",
    "        )\n",
    "        self.conv_block_2 = nn.Sequential(\n",
    "            nn.Conv2d(hidden_units, hidden_units, kernel_size=3, stride=1, padding=1),\n",
    "            #nn.BatchNorm2d(hidden_units),\n",
    "            nn.ReLU(inplace=True),\n",
    "            nn.Conv2d(hidden_units, hidden_units, kernel_size=3, stride=1, padding=1),\n",
    "            #nn.BatchNorm2d(hidden_units),\n",
    "            nn.ReLU(inplace=True),\n",
    "            nn.MaxPool2d(kernel_size=2)  # 14->7\n",
    "        )\n",
    "\n",
    "        # With p=1, stride=1, two pools(2): side = image_size // 4\n",
    "        side = image_size // 4\n",
    "        flattened = hidden_units * side * side\n",
    "\n",
    "        self.classifier = nn.Sequential(\n",
    "            nn.Flatten(),\n",
    "            #nn.Dropout(p=dropout_p),\n",
    "            nn.Linear(flattened, hidden_units),\n",
    "            nn.ReLU(inplace=True),\n",
    "            nn.Linear(hidden_units, output_shape)\n",
    "        )\n",
    "\n",
    "        if init_kaiming:\n",
    "            self._init_weights()\n",
    "\n",
    "        # Optional memory format for faster CUDA convs (harmless elsewhere)\n",
    "        if self.use_channels_last:\n",
    "            self.to(memory_format=torch.channels_last)\n",
    "\n",
    "    def _init_weights(self):\n",
    "        for m in self.modules():\n",
    "            if isinstance(m, nn.Conv2d):\n",
    "                init.kaiming_normal_(m.weight, mode='fan_out', nonlinearity='relu')\n",
    "                if m.bias is not None:\n",
    "                    nn.init.zeros_(m.bias)\n",
    "            elif isinstance(m, nn.Linear):\n",
    "                nn.init.kaiming_uniform_(m.weight, a=math.sqrt(5))\n",
    "                if m.bias is not None:\n",
    "                    fan_in, _ = nn.init._calculate_fan_in_and_fan_out(m.weight)\n",
    "                    bound = 1 / math.sqrt(fan_in)\n",
    "                    nn.init.uniform_(m.bias, -bound, bound)\n",
    "\n",
    "    def forward(self, x):\n",
    "        # Make input channels-last if requested (helps on CUDA + AMP)\n",
    "        if self.use_channels_last and x.is_contiguous(memory_format=torch.contiguous_format):\n",
    "            x = x.contiguous(memory_format=torch.channels_last)\n",
    "\n",
    "        x = self.conv_block_1(x)\n",
    "        x = self.conv_block_2(x)\n",
    "        x = self.classifier(x)\n",
    "        return x\n"
   ]
  },
  {
   "cell_type": "code",
   "execution_count": 13,
   "id": "90104de5",
   "metadata": {},
   "outputs": [],
   "source": [
    "torch.manual_seed(42)\n",
    "model_2 = FashionMNISTModelV2(\n",
    "    input_shade=1,\n",
    "    hidden_units=64,            # for your 95% push\n",
    "    output_shape=NUM_CLASSES,\n",
    "    use_channels_last=(device.type == \"cuda\"),\n",
    "    dropout_p=0.10\n",
    ").to(device)"
   ]
  },
  {
   "cell_type": "code",
   "execution_count": 22,
   "id": "65d2c4f2",
   "metadata": {},
   "outputs": [
    {
     "data": {
      "text/plain": [
       "313098"
      ]
     },
     "execution_count": 22,
     "metadata": {},
     "output_type": "execute_result"
    }
   ],
   "source": [
    "sum(p.numel() for p in model_2.parameters())"
   ]
  },
  {
   "cell_type": "code",
   "execution_count": 15,
   "id": "1f75ecd5",
   "metadata": {},
   "outputs": [],
   "source": [
    "loss_fn = nn.CrossEntropyLoss(label_smoothing=0.1)\n",
    "\n",
    "optimizer = torch.optim.Adam(\n",
    "    model_2.parameters(),\n",
    "    lr=1e-3,              # base lr (will be overridden by OneCycle)\n",
    "    weight_decay=5e-4     # mild regularization, helps generalization\n",
    ")\n",
    "\n",
    "EPOCHS = 50\n",
    "\n",
    "scheduler = torch.optim.lr_scheduler.OneCycleLR(\n",
    "    optimizer,\n",
    "    max_lr=3e-3,                 # peak LR\n",
    "    epochs=EPOCHS,\n",
    "    steps_per_epoch=len(train_dataloader),\n",
    "    pct_start=0.3,               # 30% warm-up phase\n",
    "    anneal_strategy='cos',       # smoother decay\n",
    "    div_factor=10,               # initial lr = max_lr / 10\n",
    "    final_div_factor=10          # final lr = max_lr / 100\n",
    ")"
   ]
  },
  {
   "cell_type": "code",
   "execution_count": 28,
   "id": "7a065fa4",
   "metadata": {},
   "outputs": [],
   "source": [
    "def train_test_loop(history: list,\n",
    "                    model: nn.Module,\n",
    "                    train_data_loader: torch.utils.data.DataLoader,\n",
    "                    test_data_loader: torch.utils.data.DataLoader,\n",
    "                    loss_fn: nn.Module,\n",
    "                    optimizer: torch.optim.Optimizer,\n",
    "                    device: torch.device | str = 'cpu',\n",
    "                    num_classes: int = 10,\n",
    "                    scheduler: torch.optim.lr_scheduler._LRScheduler | None = None,\n",
    "                    epochs: int = 10,\n",
    "                    timer_fn=timer,\n",
    "                    log_path: str | None | Path = None):\n",
    "\n",
    "    # normalize device\n",
    "    if not isinstance(device, torch.device):\n",
    "        device = torch.device(device)\n",
    "\n",
    "    path = Path(log_path) if log_path is not None else Path(\"csv/history_model.csv\")\n",
    "    path.parent.mkdir(parents=True, exist_ok=True)\n",
    "    cols = [\"epoch\", \"train_loss\", \"train_acc\", \"val_loss\", \"val_acc\", \"lr\", \"elapsed_s\"]\n",
    "\n",
    "    t0 = timer_fn()\n",
    "    for epoch in range(epochs):\n",
    "        print(f\"Epoch: {epoch + 1}\\n-------\")\n",
    "\n",
    "        # train (your train_step already handles AMP/scheduler-per-batch)\n",
    "        train_loss, train_acc = train_step(model=model,\n",
    "                                           data_loader=train_data_loader,\n",
    "                                           loss_fn=loss_fn,\n",
    "                                           optimizer=optimizer,\n",
    "                                           device=device,\n",
    "                                           num_classes=num_classes,\n",
    "                                           scheduler=scheduler)\n",
    "\n",
    "        # eval\n",
    "        test_loss, test_acc = test_step(model=model,\n",
    "                                        loss_fn=loss_fn,\n",
    "                                        data_loader=test_data_loader,\n",
    "                                        device=device,\n",
    "                                        num_classes=num_classes)\n",
    "\n",
    "        # LR logging (robust to schedulers that don't expose get_last_lr)\n",
    "        try:\n",
    "            lr = scheduler.get_last_lr()[0] if scheduler is not None else optimizer.param_groups[0][\"lr\"]\n",
    "        except Exception:\n",
    "            lr = optimizer.param_groups[0][\"lr\"]\n",
    "\n",
    "        # accurate wall time on CUDA (sync before reading timer)\n",
    "        if device.type == \"cuda\":\n",
    "            torch.cuda.synchronize()\n",
    "        elapsed = timer_fn() - t0\n",
    "\n",
    "        row = {\n",
    "            \"epoch\": epoch + 1,\n",
    "            \"train_loss\": train_loss,\n",
    "            \"train_acc\":  train_acc,\n",
    "            \"val_loss\":   test_loss,\n",
    "            \"val_acc\":    test_acc,\n",
    "            \"lr\":         lr,\n",
    "            \"elapsed_s\":  elapsed\n",
    "        }\n",
    "        history.append(row)\n",
    "\n",
    "        # append one row per epoch\n",
    "        \"\"\"pd.DataFrame([row], columns=cols).to_csv(\n",
    "            path,\n",
    "            sep=\",\",\n",
    "            mode=\"a\",\n",
    "            header=not path.exists(),\n",
    "            index=False\n",
    "        )\"\"\"\n",
    "\n",
    "    # fix the f-string (don’t wrap path in braces)\n",
    "    print(f\"Training finished in {timer_fn() - t0:.2f}s. Logs saved to history. Log after the training is finished\")\n",
    "    return history"
   ]
  },
  {
   "cell_type": "code",
   "execution_count": 17,
   "id": "e0cc3630",
   "metadata": {},
   "outputs": [
    {
     "data": {
      "text/plain": [
       "'from pathlib import Path\\n\\n# --- Training Loop ---\\nhistory = []\\nepochs = 20\\ntrain_start_time = timer()\\n\\n# Create directory for saving results\\nPath(\"csv\").mkdir(parents=True, exist_ok=True)\\n\\nfor epoch in tqdm(range(epochs)):\\n    print(f\"Epoch: {epoch + 1}\\n-------\" )\\n    train_loss, train_acc = train_step(model=model_2,\\n                                       data_loader=train_dataloader,\\n                                       loss_fn=loss_fn,\\n                                       optimizer=optimizer,\\n                                       device=device,\\n                                       num_classes=NUM_CLASSES,\\n                                       scheduler=scheduler)\\n\\n    test_loss, test_acc = test_step(model=model_2,\\n                                    loss_fn=loss_fn,\\n                                    data_loader=test_dataloader,\\n                                    device=device,\\n                                    num_classes=NUM_CLASSES)\\n\\n    lr = optimizer.param_groups[0][\\'lr\\']\\n    history.append({\\n            \"epoch\": epoch,\\n            \"train_loss\": train_loss,\\n            \"train_acc\":  train_acc,\\n            \"val_loss\":   test_loss,\\n            \"val_acc\":    test_acc,\\n            \"lr\":         lr,\\n            \"elapsed_s\":  timer() - train_start_time\\n        })\\n'"
      ]
     },
     "execution_count": 17,
     "metadata": {},
     "output_type": "execute_result"
    }
   ],
   "source": [
    "\"\"\"from pathlib import Path\n",
    "\n",
    "# --- Training Loop ---\n",
    "history = []\n",
    "epochs = 20\n",
    "train_start_time = timer()\n",
    "\n",
    "# Create directory for saving results\n",
    "Path(\"csv\").mkdir(parents=True, exist_ok=True)\n",
    "\n",
    "for epoch in tqdm(range(epochs)):\n",
    "    print(f\"Epoch: {epoch + 1}\\n-------\" )\n",
    "    train_loss, train_acc = train_step(model=model_2,\n",
    "                                       data_loader=train_dataloader,\n",
    "                                       loss_fn=loss_fn,\n",
    "                                       optimizer=optimizer,\n",
    "                                       device=device,\n",
    "                                       num_classes=NUM_CLASSES,\n",
    "                                       scheduler=scheduler)\n",
    "\n",
    "    test_loss, test_acc = test_step(model=model_2,\n",
    "                                    loss_fn=loss_fn,\n",
    "                                    data_loader=test_dataloader,\n",
    "                                    device=device,\n",
    "                                    num_classes=NUM_CLASSES)\n",
    "\n",
    "    lr = optimizer.param_groups[0]['lr']\n",
    "    history.append({\n",
    "            \"epoch\": epoch,\n",
    "            \"train_loss\": train_loss,\n",
    "            \"train_acc\":  train_acc,\n",
    "            \"val_loss\":   test_loss,\n",
    "            \"val_acc\":    test_acc,\n",
    "            \"lr\":         lr,\n",
    "            \"elapsed_s\":  timer() - train_start_time\n",
    "        })\n",
    "\"\"\"\n"
   ]
  },
  {
   "cell_type": "code",
   "execution_count": null,
   "id": "8bed35c0",
   "metadata": {},
   "outputs": [],
   "source": [
    "@torch.inference_mode()\n",
    "def collecting_preds(model: nn.Module,\n",
    "                     data_loader: torch.utils.data.DataLoader,\n",
    "                     device: torch.device):\n",
    "    model.eval()\n",
    "    y_trues, y_preds = [], []\n",
    "    for X, y in data_loader:\n",
    "        X = X.to(device); y = y.to(device)\n",
    "        logits = model(X)\n",
    "        preds = logits.argmax(dim=1)\n",
    "        y_trues.append(y.cpu())\n",
    "        y_preds.append(preds.cpu())\n",
    "    y_trues = torch.cat(y_trues)\n",
    "    y_preds = torch.cat(y_preds)\n",
    "\n",
    "    return y_trues, y_preds"
   ]
  },
  {
   "cell_type": "code",
   "execution_count": 19,
   "id": "9b4d005b",
   "metadata": {},
   "outputs": [
    {
     "name": "stdout",
     "output_type": "stream",
     "text": [
      "Epoch: 1\n",
      "-------\n"
     ]
    },
    {
     "name": "stderr",
     "output_type": "stream",
     "text": [
      "100%|██████████| 235/235 [00:29<00:00,  7.92it/s]\n"
     ]
    },
    {
     "name": "stdout",
     "output_type": "stream",
     "text": [
      "Train loss: 1.01878 | Train accuracy: 78.01% | lr: 0.000329517422852736\n"
     ]
    },
    {
     "name": "stderr",
     "output_type": "stream",
     "text": [
      "100%|██████████| 40/40 [00:05<00:00,  7.69it/s]\n"
     ]
    },
    {
     "name": "stdout",
     "output_type": "stream",
     "text": [
      "Test loss: 0.84018 | Test accuracy: 85.90%\n",
      "Epoch: 2\n",
      "-------\n"
     ]
    },
    {
     "name": "stderr",
     "output_type": "stream",
     "text": [
      "100%|██████████| 235/235 [00:17<00:00, 13.65it/s]\n"
     ]
    },
    {
     "name": "stdout",
     "output_type": "stream",
     "text": [
      "Train loss: 0.83496 | Train accuracy: 86.06% | lr: 0.00041677890881558575\n"
     ]
    },
    {
     "name": "stderr",
     "output_type": "stream",
     "text": [
      "100%|██████████| 40/40 [00:00<00:00, 180.95it/s]\n"
     ]
    },
    {
     "name": "stdout",
     "output_type": "stream",
     "text": [
      "Test loss: 0.80170 | Test accuracy: 87.62%\n",
      "Epoch: 3\n",
      "-------\n"
     ]
    },
    {
     "name": "stderr",
     "output_type": "stream",
     "text": [
      "100%|██████████| 235/235 [00:17<00:00, 13.66it/s]\n"
     ]
    },
    {
     "name": "stdout",
     "output_type": "stream",
     "text": [
      "Train loss: 0.79771 | Train accuracy: 87.63% | lr: 0.0005579685553997742\n"
     ]
    },
    {
     "name": "stderr",
     "output_type": "stream",
     "text": [
      "100%|██████████| 40/40 [00:00<00:00, 164.99it/s]\n"
     ]
    },
    {
     "name": "stdout",
     "output_type": "stream",
     "text": [
      "Test loss: 0.77159 | Test accuracy: 88.89%\n",
      "Epoch: 4\n",
      "-------\n"
     ]
    },
    {
     "name": "stderr",
     "output_type": "stream",
     "text": [
      "100%|██████████| 235/235 [00:17<00:00, 13.66it/s]\n"
     ]
    },
    {
     "name": "stdout",
     "output_type": "stream",
     "text": [
      "Train loss: 0.76948 | Train accuracy: 88.80% | lr: 0.0007469122077895167\n"
     ]
    },
    {
     "name": "stderr",
     "output_type": "stream",
     "text": [
      "100%|██████████| 40/40 [00:00<00:00, 167.42it/s]\n"
     ]
    },
    {
     "name": "stdout",
     "output_type": "stream",
     "text": [
      "Test loss: 0.75946 | Test accuracy: 88.81%\n",
      "Epoch: 5\n",
      "-------\n"
     ]
    },
    {
     "name": "stderr",
     "output_type": "stream",
     "text": [
      "100%|██████████| 235/235 [00:17<00:00, 13.63it/s]\n"
     ]
    },
    {
     "name": "stdout",
     "output_type": "stream",
     "text": [
      "Train loss: 0.75433 | Train accuracy: 89.54% | lr: 0.000975347451639734\n"
     ]
    },
    {
     "name": "stderr",
     "output_type": "stream",
     "text": [
      "100%|██████████| 40/40 [00:00<00:00, 171.33it/s]\n"
     ]
    },
    {
     "name": "stdout",
     "output_type": "stream",
     "text": [
      "Test loss: 0.78000 | Test accuracy: 87.99%\n",
      "Epoch: 6\n",
      "-------\n"
     ]
    },
    {
     "name": "stderr",
     "output_type": "stream",
     "text": [
      "100%|██████████| 235/235 [00:17<00:00, 13.65it/s]\n"
     ]
    },
    {
     "name": "stdout",
     "output_type": "stream",
     "text": [
      "Train loss: 0.74976 | Train accuracy: 89.60% | lr: 0.00123328492445088\n"
     ]
    },
    {
     "name": "stderr",
     "output_type": "stream",
     "text": [
      "100%|██████████| 40/40 [00:00<00:00, 169.34it/s]\n"
     ]
    },
    {
     "name": "stdout",
     "output_type": "stream",
     "text": [
      "Test loss: 0.72816 | Test accuracy: 90.46%\n",
      "Epoch: 7\n",
      "-------\n"
     ]
    },
    {
     "name": "stderr",
     "output_type": "stream",
     "text": [
      "100%|██████████| 235/235 [00:17<00:00, 13.62it/s]\n"
     ]
    },
    {
     "name": "stdout",
     "output_type": "stream",
     "text": [
      "Train loss: 0.73668 | Train accuracy: 90.38% | lr: 0.0015094451455495708\n"
     ]
    },
    {
     "name": "stderr",
     "output_type": "stream",
     "text": [
      "100%|██████████| 40/40 [00:00<00:00, 164.43it/s]\n"
     ]
    },
    {
     "name": "stdout",
     "output_type": "stream",
     "text": [
      "Test loss: 0.72901 | Test accuracy: 90.60%\n",
      "Epoch: 8\n",
      "-------\n"
     ]
    },
    {
     "name": "stderr",
     "output_type": "stream",
     "text": [
      "100%|██████████| 235/235 [00:17<00:00, 13.63it/s]\n"
     ]
    },
    {
     "name": "stdout",
     "output_type": "stream",
     "text": [
      "Train loss: 0.72708 | Train accuracy: 90.70% | lr: 0.0017917517623116963\n"
     ]
    },
    {
     "name": "stderr",
     "output_type": "stream",
     "text": [
      "100%|██████████| 40/40 [00:00<00:00, 172.27it/s]\n"
     ]
    },
    {
     "name": "stdout",
     "output_type": "stream",
     "text": [
      "Test loss: 0.72723 | Test accuracy: 90.75%\n",
      "Epoch: 9\n",
      "-------\n"
     ]
    },
    {
     "name": "stderr",
     "output_type": "stream",
     "text": [
      "100%|██████████| 235/235 [00:17<00:00, 13.62it/s]\n"
     ]
    },
    {
     "name": "stdout",
     "output_type": "stream",
     "text": [
      "Train loss: 0.71978 | Train accuracy: 90.96% | lr: 0.0020678596432097103\n"
     ]
    },
    {
     "name": "stderr",
     "output_type": "stream",
     "text": [
      "100%|██████████| 40/40 [00:00<00:00, 173.37it/s]\n"
     ]
    },
    {
     "name": "stdout",
     "output_type": "stream",
     "text": [
      "Test loss: 0.73667 | Test accuracy: 89.74%\n",
      "Epoch: 10\n",
      "-------\n"
     ]
    },
    {
     "name": "stderr",
     "output_type": "stream",
     "text": [
      "100%|██████████| 235/235 [00:17<00:00, 13.62it/s]\n"
     ]
    },
    {
     "name": "stdout",
     "output_type": "stream",
     "text": [
      "Train loss: 0.71698 | Train accuracy: 91.05% | lr: 0.0023256947244311103\n"
     ]
    },
    {
     "name": "stderr",
     "output_type": "stream",
     "text": [
      "100%|██████████| 40/40 [00:00<00:00, 178.84it/s]\n"
     ]
    },
    {
     "name": "stdout",
     "output_type": "stream",
     "text": [
      "Test loss: 0.71574 | Test accuracy: 91.12%\n",
      "Epoch: 11\n",
      "-------\n"
     ]
    },
    {
     "name": "stderr",
     "output_type": "stream",
     "text": [
      "100%|██████████| 235/235 [00:17<00:00, 13.61it/s]\n"
     ]
    },
    {
     "name": "stdout",
     "output_type": "stream",
     "text": [
      "Train loss: 0.71084 | Train accuracy: 91.28% | lr: 0.002553982002837109\n"
     ]
    },
    {
     "name": "stderr",
     "output_type": "stream",
     "text": [
      "100%|██████████| 40/40 [00:00<00:00, 173.66it/s]\n"
     ]
    },
    {
     "name": "stdout",
     "output_type": "stream",
     "text": [
      "Test loss: 0.72016 | Test accuracy: 90.86%\n",
      "Epoch: 12\n",
      "-------\n"
     ]
    },
    {
     "name": "stderr",
     "output_type": "stream",
     "text": [
      "100%|██████████| 235/235 [00:17<00:00, 13.57it/s]\n"
     ]
    },
    {
     "name": "stdout",
     "output_type": "stream",
     "text": [
      "Train loss: 0.70667 | Train accuracy: 91.42% | lr: 0.0027427385863853203\n"
     ]
    },
    {
     "name": "stderr",
     "output_type": "stream",
     "text": [
      "100%|██████████| 40/40 [00:00<00:00, 165.10it/s]\n"
     ]
    },
    {
     "name": "stdout",
     "output_type": "stream",
     "text": [
      "Test loss: 0.70201 | Test accuracy: 91.23%\n",
      "Epoch: 13\n",
      "-------\n"
     ]
    },
    {
     "name": "stderr",
     "output_type": "stream",
     "text": [
      "100%|██████████| 235/235 [00:17<00:00, 13.52it/s]\n"
     ]
    },
    {
     "name": "stdout",
     "output_type": "stream",
     "text": [
      "Train loss: 0.70158 | Train accuracy: 91.68% | lr: 0.00288371024116044\n"
     ]
    },
    {
     "name": "stderr",
     "output_type": "stream",
     "text": [
      "100%|██████████| 40/40 [00:00<00:00, 162.81it/s]\n"
     ]
    },
    {
     "name": "stdout",
     "output_type": "stream",
     "text": [
      "Test loss: 0.70168 | Test accuracy: 91.28%\n",
      "Epoch: 14\n",
      "-------\n"
     ]
    },
    {
     "name": "stderr",
     "output_type": "stream",
     "text": [
      "100%|██████████| 235/235 [00:17<00:00, 13.65it/s]\n"
     ]
    },
    {
     "name": "stdout",
     "output_type": "stream",
     "text": [
      "Train loss: 0.69962 | Train accuracy: 91.84% | lr: 0.0029707323450228426\n"
     ]
    },
    {
     "name": "stderr",
     "output_type": "stream",
     "text": [
      "100%|██████████| 40/40 [00:00<00:00, 149.15it/s]\n"
     ]
    },
    {
     "name": "stdout",
     "output_type": "stream",
     "text": [
      "Test loss: 0.73572 | Test accuracy: 89.99%\n",
      "Epoch: 15\n",
      "-------\n"
     ]
    },
    {
     "name": "stderr",
     "output_type": "stream",
     "text": [
      "100%|██████████| 235/235 [00:17<00:00, 13.56it/s]\n"
     ]
    },
    {
     "name": "stdout",
     "output_type": "stream",
     "text": [
      "Train loss: 0.69873 | Train accuracy: 91.79% | lr: 0.002999999891676076\n"
     ]
    },
    {
     "name": "stderr",
     "output_type": "stream",
     "text": [
      "100%|██████████| 40/40 [00:00<00:00, 165.78it/s]\n"
     ]
    },
    {
     "name": "stdout",
     "output_type": "stream",
     "text": [
      "Test loss: 0.73392 | Test accuracy: 89.99%\n",
      "Epoch: 16\n",
      "-------\n"
     ]
    },
    {
     "name": "stderr",
     "output_type": "stream",
     "text": [
      "100%|██████████| 235/235 [00:17<00:00, 13.57it/s]\n"
     ]
    },
    {
     "name": "stdout",
     "output_type": "stream",
     "text": [
      "Train loss: 0.69654 | Train accuracy: 91.87% | lr: 0.0029939708747888974\n"
     ]
    },
    {
     "name": "stderr",
     "output_type": "stream",
     "text": [
      "100%|██████████| 40/40 [00:00<00:00, 163.48it/s]\n"
     ]
    },
    {
     "name": "stdout",
     "output_type": "stream",
     "text": [
      "Test loss: 0.75423 | Test accuracy: 89.79%\n",
      "Epoch: 17\n",
      "-------\n"
     ]
    },
    {
     "name": "stderr",
     "output_type": "stream",
     "text": [
      "100%|██████████| 235/235 [00:17<00:00, 13.46it/s]\n"
     ]
    },
    {
     "name": "stdout",
     "output_type": "stream",
     "text": [
      "Train loss: 0.69275 | Train accuracy: 91.98% | lr: 0.0029760340540387104\n"
     ]
    },
    {
     "name": "stderr",
     "output_type": "stream",
     "text": [
      "100%|██████████| 40/40 [00:00<00:00, 165.86it/s]\n"
     ]
    },
    {
     "name": "stdout",
     "output_type": "stream",
     "text": [
      "Test loss: 0.77148 | Test accuracy: 86.86%\n",
      "Epoch: 18\n",
      "-------\n"
     ]
    },
    {
     "name": "stderr",
     "output_type": "stream",
     "text": [
      "100%|██████████| 235/235 [00:17<00:00, 13.50it/s]\n"
     ]
    },
    {
     "name": "stdout",
     "output_type": "stream",
     "text": [
      "Train loss: 0.69273 | Train accuracy: 92.03% | lr: 0.0029463338461595155\n"
     ]
    },
    {
     "name": "stderr",
     "output_type": "stream",
     "text": [
      "100%|██████████| 40/40 [00:00<00:00, 166.22it/s]\n"
     ]
    },
    {
     "name": "stdout",
     "output_type": "stream",
     "text": [
      "Test loss: 0.73689 | Test accuracy: 90.36%\n",
      "Epoch: 19\n",
      "-------\n"
     ]
    },
    {
     "name": "stderr",
     "output_type": "stream",
     "text": [
      "100%|██████████| 235/235 [00:17<00:00, 13.51it/s]\n"
     ]
    },
    {
     "name": "stdout",
     "output_type": "stream",
     "text": [
      "Train loss: 0.69185 | Train accuracy: 92.03% | lr: 0.0029051093797617168\n"
     ]
    },
    {
     "name": "stderr",
     "output_type": "stream",
     "text": [
      "100%|██████████| 40/40 [00:00<00:00, 151.89it/s]\n"
     ]
    },
    {
     "name": "stdout",
     "output_type": "stream",
     "text": [
      "Test loss: 0.69628 | Test accuracy: 91.46%\n",
      "Epoch: 20\n",
      "-------\n"
     ]
    },
    {
     "name": "stderr",
     "output_type": "stream",
     "text": [
      "100%|██████████| 235/235 [00:17<00:00, 13.49it/s]\n"
     ]
    },
    {
     "name": "stdout",
     "output_type": "stream",
     "text": [
      "Train loss: 0.68924 | Train accuracy: 92.21% | lr: 0.0028526925700091553\n"
     ]
    },
    {
     "name": "stderr",
     "output_type": "stream",
     "text": [
      "100%|██████████| 40/40 [00:00<00:00, 165.73it/s]"
     ]
    },
    {
     "name": "stdout",
     "output_type": "stream",
     "text": [
      "Test loss: 0.72244 | Test accuracy: 90.45%\n",
      "Training finished in 368.21s. Logs saved to: csv\\history_model.csv\n",
      "    epoch  train_loss  train_acc  val_loss  val_acc        lr   elapsed_s\n",
      "17     18    0.692725   0.920283  0.736888   0.9036  0.002946  332.865091\n",
      "18     19    0.691845   0.920283  0.696282   0.9146  0.002905  350.536524\n",
      "19     20    0.689237   0.922133  0.722437   0.9045  0.002853  368.210482\n",
      "\n",
      "Saved final training history to C:\\Users\\Altuk\\OneDrive\\repos\\skill-builder-process\\ml_basics\\notebooks\\DL\\csv\\history_model3.csv\n"
     ]
    },
    {
     "name": "stderr",
     "output_type": "stream",
     "text": [
      "\n"
     ]
    }
   ],
   "source": [
    "# Initialize\n",
    "history = []\n",
    "EPOCHS = 20\n",
    "\n",
    "# Run train/eval loop\n",
    "train_test_loop(\n",
    "    history=history,\n",
    "    model=model_2,\n",
    "    train_data_loader=train_dataloader,\n",
    "    test_data_loader=test_dataloader,\n",
    "    loss_fn=loss_fn,\n",
    "    optimizer=optimizer,\n",
    "    device=device,\n",
    "    num_classes=NUM_CLASSES,\n",
    "    epochs=EPOCHS,\n",
    "    scheduler=scheduler\n",
    ")\n",
    "\n",
    "# Convert once after training (the function already appends per epoch)\n",
    "hist_df = pd.DataFrame(history)\n",
    "\n",
    "# Quick sanity check\n",
    "print(hist_df.tail(3))\n",
    "\n",
    "# Save once at the end (more efficient than re-writing each epoch)\n",
    "out_path = Path(\"csv/history_model3.csv\")\n",
    "out_path.parent.mkdir(parents=True, exist_ok=True)\n",
    "hist_df.to_csv(out_path, index=False)\n",
    "print(f\"\\nSaved final training history to {out_path.resolve()}\")"
   ]
  },
  {
   "cell_type": "code",
   "execution_count": 20,
   "id": "87b3057a",
   "metadata": {},
   "outputs": [
    {
     "name": "stdout",
     "output_type": "stream",
     "text": [
      "Per-class accuracy:\n",
      " 0 T-shirt/top :  83.7%\n",
      " 1 Trouser     :  97.9%\n",
      " 2 Pullover    :  90.2%\n",
      " 3 Dress       :  91.2%\n",
      " 4 Coat        :  70.0%\n",
      " 5 Sandal      :  94.0%\n",
      " 6 Shirt       :  85.7%\n",
      " 7 Sneaker     :  99.2%\n",
      " 8 Bag         :  98.3%\n",
      " 9 Ankle boot  :  94.1%\n",
      "\n",
      "Classification report:\n",
      "              precision    recall  f1-score   support\n",
      "\n",
      " T-shirt/top      0.900     0.837     0.867      1000\n",
      "     Trouser      0.996     0.979     0.987      1000\n",
      "    Pullover      0.872     0.902     0.887      1000\n",
      "       Dress      0.907     0.912     0.909      1000\n",
      "        Coat      0.967     0.700     0.812      1000\n",
      "      Sandal      0.995     0.940     0.967      1000\n",
      "       Shirt      0.648     0.857     0.738      1000\n",
      "     Sneaker      0.902     0.992     0.945      1000\n",
      "         Bag      0.986     0.983     0.984      1000\n",
      "  Ankle boot      0.982     0.941     0.961      1000\n",
      "\n",
      "    accuracy                          0.904     10000\n",
      "   macro avg      0.915     0.904     0.906     10000\n",
      "weighted avg      0.915     0.904     0.906     10000\n",
      "\n"
     ]
    }
   ],
   "source": [
    "y_true, y_pred = collecting_preds(model=model_2,\n",
    "                                  data_loader=test_dataloader,\n",
    "                                  device=device)\n",
    "cm = confusion_matrix(y_true=y_true,\n",
    "                      y_pred=y_pred,\n",
    "                      labels=range(NUM_CLASSES),\n",
    "                      )\n",
    "per_class_acc = cm.diagonal() / cm.sum(axis=1).clip(min=1)\n",
    "print(\"Per-class accuracy:\")\n",
    "for i, acc in enumerate(per_class_acc):\n",
    "    print(f\"{i:>2} {class_names[i]:<12}: {acc*100:5.1f}%\")\n",
    "\n",
    "print(\"\\nClassification report:\")\n",
    "print(classification_report(y_true, y_pred, target_names=class_names, digits=3))"
   ]
  },
  {
   "cell_type": "code",
   "execution_count": 27,
   "id": "b767e120",
   "metadata": {},
   "outputs": [
    {
     "data": {
      "image/png": "[encoded data removed]",
      "text/plain": [
       "<Figure size 600x600 with 2 Axes>"
      ]
     },
     "metadata": {},
     "output_type": "display_data"
    }
   ],
   "source": [
    "fig, ax = plt.subplots(figsize=(6,6))\n",
    "im = ax.imshow(cm, interpolation=\"nearest\")\n",
    "ax.figure.colorbar(im, ax=ax)\n",
    "ax.set_xlabel(\"Predicted\")\n",
    "ax.set_ylabel(\"True\")\n",
    "ax.set_xticks(range(NUM_CLASSES)); ax.set_yticks(range(NUM_CLASSES))\n",
    "ax.set_xticklabels(range(NUM_CLASSES)); ax.set_yticklabels(range(NUM_CLASSES))\n",
    "ax.set_title(\"Confusion Matrix (FashionMNIST)\")\n",
    "plt.tight_layout(); plt.show()"
   ]
  },
  {
   "cell_type": "code",
   "execution_count": null,
   "id": "e37465d0",
   "metadata": {},
   "outputs": [
    {
     "data": {
      "text/plain": [
       "tensor([1, 6, 1,  ..., 9, 7, 1])"
      ]
     },
     "execution_count": 29,
     "metadata": {},
     "output_type": "execute_result"
    }
   ],
   "source": [
    "import random "
   ]
  },
  {
   "cell_type": "code",
   "execution_count": null,
   "id": "93d43096",
   "metadata": {},
   "outputs": [],
   "source": [
    "plt.figure(figsize=(9,9))\n",
    "nrows = 3\n",
    "ncols = 3\n",
    "for i, sample enumerate(y_pred)"
   ]
  },
  {
   "cell_type": "code",
   "execution_count": null,
   "id": "d4c4e976",
   "metadata": {},
   "outputs": [],
   "source": [
    "torch.manual_seed(42)\n",
    "model_3 = FashionMNISTModelV3(\n",
    "    input_shade=1,\n",
    "    hidden_units=64,           \n",
    "    output_shape=NUM_CLASSES,\n",
    "    use_channels_last=(device.type == \"cuda\"),\n",
    "    dropout_p=0.10\n",
    ").to(device)\n",
    "\n"
   ]
  },
  {
   "cell_type": "code",
   "execution_count": 25,
   "id": "c3834a01",
   "metadata": {},
   "outputs": [],
   "source": [
    "loss_fn3 = nn.CrossEntropyLoss(label_smoothing=0.1)\n",
    "\n",
    "optimizer3 = torch.optim.Adam(\n",
    "    model_3.parameters(),\n",
    "    lr=1e-3,              # base lr (will be overridden by OneCycle)\n",
    "    weight_decay=5e-4     # mild regularization, helps generalization\n",
    ")\n",
    "\n",
    "EPOCHS = 20\n",
    "\n",
    "scheduler3 = torch.optim.lr_scheduler.OneCycleLR(\n",
    "    optimizer,\n",
    "    max_lr=3e-3,                 # peak LR\n",
    "    epochs=EPOCHS,\n",
    "    steps_per_epoch=len(train_dataloader),\n",
    "    pct_start=0.3,               # 30% warm-up phase\n",
    "    anneal_strategy='cos',       # smoother decay\n",
    "    div_factor=10,               # initial lr = max_lr / 10\n",
    "    final_div_factor=10          # final lr = max_lr / 100\n",
    ")"
   ]
  },
  {
   "cell_type": "code",
   "execution_count": 26,
   "id": "e438939b",
   "metadata": {},
   "outputs": [
    {
     "name": "stdout",
     "output_type": "stream",
     "text": [
      "Epoch: 1\n",
      "-------\n"
     ]
    },
    {
     "name": "stderr",
     "output_type": "stream",
     "text": [
      "100%|██████████| 235/235 [00:02<00:00, 82.32it/s]\n"
     ]
    },
    {
     "name": "stdout",
     "output_type": "stream",
     "text": [
      "Train loss: 1.06525 | Train accuracy: 75.36% | lr: 0.00048111662249735246\n"
     ]
    },
    {
     "name": "stderr",
     "output_type": "stream",
     "text": [
      "100%|██████████| 40/40 [00:00<00:00, 159.36it/s]\n"
     ]
    },
    {
     "name": "stdout",
     "output_type": "stream",
     "text": [
      "Test loss: 0.88727 | Test accuracy: 83.65%\n",
      "Epoch: 2\n",
      "-------\n"
     ]
    },
    {
     "name": "stderr",
     "output_type": "stream",
     "text": [
      "100%|██████████| 235/235 [00:02<00:00, 87.09it/s]\n"
     ]
    },
    {
     "name": "stdout",
     "output_type": "stream",
     "text": [
      "Train loss: 0.85492 | Train accuracy: 84.86% | lr: 0.0009758691108118561\n"
     ]
    },
    {
     "name": "stderr",
     "output_type": "stream",
     "text": [
      "100%|██████████| 40/40 [00:00<00:00, 163.74it/s]\n"
     ]
    },
    {
     "name": "stdout",
     "output_type": "stream",
     "text": [
      "Test loss: 0.80083 | Test accuracy: 86.93%\n",
      "Epoch: 3\n",
      "-------\n"
     ]
    },
    {
     "name": "stderr",
     "output_type": "stream",
     "text": [
      "100%|██████████| 235/235 [00:02<00:00, 88.26it/s]\n"
     ]
    },
    {
     "name": "stdout",
     "output_type": "stream",
     "text": [
      "Train loss: 0.80102 | Train accuracy: 86.98% | lr: 0.001651505021009166\n"
     ]
    },
    {
     "name": "stderr",
     "output_type": "stream",
     "text": [
      "100%|██████████| 40/40 [00:00<00:00, 161.25it/s]\n"
     ]
    },
    {
     "name": "stdout",
     "output_type": "stream",
     "text": [
      "Test loss: 0.77795 | Test accuracy: 87.90%\n",
      "Epoch: 4\n",
      "-------\n"
     ]
    },
    {
     "name": "stderr",
     "output_type": "stream",
     "text": [
      "100%|██████████| 235/235 [00:02<00:00, 85.26it/s]\n"
     ]
    },
    {
     "name": "stdout",
     "output_type": "stream",
     "text": [
      "Train loss: 0.77095 | Train accuracy: 88.53% | lr: 0.0023267371025813373\n"
     ]
    },
    {
     "name": "stderr",
     "output_type": "stream",
     "text": [
      "100%|██████████| 40/40 [00:00<00:00, 159.16it/s]\n"
     ]
    },
    {
     "name": "stdout",
     "output_type": "stream",
     "text": [
      "Test loss: 0.75049 | Test accuracy: 89.51%\n",
      "Epoch: 5\n",
      "-------\n"
     ]
    },
    {
     "name": "stderr",
     "output_type": "stream",
     "text": [
      "100%|██████████| 235/235 [00:02<00:00, 87.95it/s]\n"
     ]
    },
    {
     "name": "stdout",
     "output_type": "stream",
     "text": [
      "Train loss: 0.75001 | Train accuracy: 89.45% | lr: 0.002820386460689545\n"
     ]
    },
    {
     "name": "stderr",
     "output_type": "stream",
     "text": [
      "100%|██████████| 40/40 [00:00<00:00, 161.31it/s]\n"
     ]
    },
    {
     "name": "stdout",
     "output_type": "stream",
     "text": [
      "Test loss: 0.73765 | Test accuracy: 89.98%\n",
      "Epoch: 6\n",
      "-------\n"
     ]
    },
    {
     "name": "stderr",
     "output_type": "stream",
     "text": [
      "100%|██████████| 235/235 [00:02<00:00, 89.03it/s]\n"
     ]
    },
    {
     "name": "stdout",
     "output_type": "stream",
     "text": [
      "Train loss: 0.73983 | Train accuracy: 89.96% | lr: 0.0029999993229755163\n"
     ]
    },
    {
     "name": "stderr",
     "output_type": "stream",
     "text": [
      "100%|██████████| 40/40 [00:00<00:00, 146.72it/s]\n"
     ]
    },
    {
     "name": "stdout",
     "output_type": "stream",
     "text": [
      "Test loss: 0.73888 | Test accuracy: 89.80%\n",
      "Epoch: 7\n",
      "-------\n"
     ]
    },
    {
     "name": "stderr",
     "output_type": "stream",
     "text": [
      "100%|██████████| 235/235 [00:02<00:00, 88.30it/s]\n"
     ]
    },
    {
     "name": "stdout",
     "output_type": "stream",
     "text": [
      "Train loss: 0.72798 | Train accuracy: 90.51% | lr: 0.0029624517518538184\n"
     ]
    },
    {
     "name": "stderr",
     "output_type": "stream",
     "text": [
      "100%|██████████| 40/40 [00:00<00:00, 158.83it/s]\n"
     ]
    },
    {
     "name": "stdout",
     "output_type": "stream",
     "text": [
      "Test loss: 0.72760 | Test accuracy: 90.56%\n",
      "Epoch: 8\n",
      "-------\n"
     ]
    },
    {
     "name": "stderr",
     "output_type": "stream",
     "text": [
      "100%|██████████| 235/235 [00:02<00:00, 88.91it/s]\n"
     ]
    },
    {
     "name": "stdout",
     "output_type": "stream",
     "text": [
      "Train loss: 0.72388 | Train accuracy: 90.71% | lr: 0.002852322905862015\n"
     ]
    },
    {
     "name": "stderr",
     "output_type": "stream",
     "text": [
      "100%|██████████| 40/40 [00:00<00:00, 160.47it/s]\n"
     ]
    },
    {
     "name": "stdout",
     "output_type": "stream",
     "text": [
      "Test loss: 0.73615 | Test accuracy: 90.33%\n",
      "Epoch: 9\n",
      "-------\n"
     ]
    },
    {
     "name": "stderr",
     "output_type": "stream",
     "text": [
      "100%|██████████| 235/235 [00:02<00:00, 85.70it/s]\n"
     ]
    },
    {
     "name": "stdout",
     "output_type": "stream",
     "text": [
      "Train loss: 0.71567 | Train accuracy: 91.02% | lr: 0.0026751351051961503\n"
     ]
    },
    {
     "name": "stderr",
     "output_type": "stream",
     "text": [
      "100%|██████████| 40/40 [00:00<00:00, 156.89it/s]\n"
     ]
    },
    {
     "name": "stdout",
     "output_type": "stream",
     "text": [
      "Test loss: 0.69941 | Test accuracy: 91.45%\n",
      "Epoch: 10\n",
      "-------\n"
     ]
    },
    {
     "name": "stderr",
     "output_type": "stream",
     "text": [
      "100%|██████████| 235/235 [00:02<00:00, 88.00it/s]\n"
     ]
    },
    {
     "name": "stdout",
     "output_type": "stream",
     "text": [
      "Train loss: 0.71265 | Train accuracy: 91.04% | lr: 0.0024397732860534306\n"
     ]
    },
    {
     "name": "stderr",
     "output_type": "stream",
     "text": [
      "100%|██████████| 40/40 [00:00<00:00, 158.11it/s]\n"
     ]
    },
    {
     "name": "stdout",
     "output_type": "stream",
     "text": [
      "Test loss: 0.70072 | Test accuracy: 91.66%\n",
      "Epoch: 11\n",
      "-------\n"
     ]
    },
    {
     "name": "stderr",
     "output_type": "stream",
     "text": [
      "100%|██████████| 235/235 [00:02<00:00, 87.60it/s]\n"
     ]
    },
    {
     "name": "stdout",
     "output_type": "stream",
     "text": [
      "Train loss: 0.70879 | Train accuracy: 91.37% | lr: 0.00215803947283104\n"
     ]
    },
    {
     "name": "stderr",
     "output_type": "stream",
     "text": [
      "100%|██████████| 40/40 [00:00<00:00, 166.10it/s]\n"
     ]
    },
    {
     "name": "stdout",
     "output_type": "stream",
     "text": [
      "Test loss: 0.69842 | Test accuracy: 91.57%\n",
      "Epoch: 12\n",
      "-------\n"
     ]
    },
    {
     "name": "stderr",
     "output_type": "stream",
     "text": [
      "100%|██████████| 235/235 [00:02<00:00, 87.32it/s]\n"
     ]
    },
    {
     "name": "stdout",
     "output_type": "stream",
     "text": [
      "Train loss: 0.70645 | Train accuracy: 91.42% | lr: 0.0018440609753419027\n"
     ]
    },
    {
     "name": "stderr",
     "output_type": "stream",
     "text": [
      "100%|██████████| 40/40 [00:00<00:00, 156.01it/s]\n"
     ]
    },
    {
     "name": "stdout",
     "output_type": "stream",
     "text": [
      "Test loss: 0.69903 | Test accuracy: 91.43%\n",
      "Epoch: 13\n",
      "-------\n"
     ]
    },
    {
     "name": "stderr",
     "output_type": "stream",
     "text": [
      "100%|██████████| 235/235 [00:02<00:00, 87.62it/s]\n"
     ]
    },
    {
     "name": "stdout",
     "output_type": "stream",
     "text": [
      "Train loss: 0.69953 | Train accuracy: 91.76% | lr: 0.0015135819865101515\n"
     ]
    },
    {
     "name": "stderr",
     "output_type": "stream",
     "text": [
      "100%|██████████| 40/40 [00:00<00:00, 161.24it/s]\n"
     ]
    },
    {
     "name": "stdout",
     "output_type": "stream",
     "text": [
      "Test loss: 0.69442 | Test accuracy: 91.78%\n",
      "Epoch: 14\n",
      "-------\n"
     ]
    },
    {
     "name": "stderr",
     "output_type": "stream",
     "text": [
      "100%|██████████| 235/235 [00:02<00:00, 87.84it/s]\n"
     ]
    },
    {
     "name": "stdout",
     "output_type": "stream",
     "text": [
      "Train loss: 0.69944 | Train accuracy: 91.76% | lr: 0.0011831741027958898\n"
     ]
    },
    {
     "name": "stderr",
     "output_type": "stream",
     "text": [
      "100%|██████████| 40/40 [00:00<00:00, 154.83it/s]\n"
     ]
    },
    {
     "name": "stdout",
     "output_type": "stream",
     "text": [
      "Test loss: 0.70595 | Test accuracy: 91.44%\n",
      "Epoch: 15\n",
      "-------\n"
     ]
    },
    {
     "name": "stderr",
     "output_type": "stream",
     "text": [
      "100%|██████████| 235/235 [00:02<00:00, 88.43it/s]\n"
     ]
    },
    {
     "name": "stdout",
     "output_type": "stream",
     "text": [
      "Train loss: 0.69395 | Train accuracy: 92.04% | lr: 0.0008694053551517214\n"
     ]
    },
    {
     "name": "stderr",
     "output_type": "stream",
     "text": [
      "100%|██████████| 40/40 [00:00<00:00, 163.51it/s]\n"
     ]
    },
    {
     "name": "stdout",
     "output_type": "stream",
     "text": [
      "Test loss: 0.69224 | Test accuracy: 91.77%\n",
      "Epoch: 16\n",
      "-------\n"
     ]
    },
    {
     "name": "stderr",
     "output_type": "stream",
     "text": [
      "100%|██████████| 235/235 [00:02<00:00, 84.63it/s]\n"
     ]
    },
    {
     "name": "stdout",
     "output_type": "stream",
     "text": [
      "Train loss: 0.69410 | Train accuracy: 91.97% | lr: 0.0005880094187687137\n"
     ]
    },
    {
     "name": "stderr",
     "output_type": "stream",
     "text": [
      "100%|██████████| 40/40 [00:00<00:00, 162.88it/s]\n"
     ]
    },
    {
     "name": "stdout",
     "output_type": "stream",
     "text": [
      "Test loss: 0.68593 | Test accuracy: 92.02%\n",
      "Epoch: 17\n",
      "-------\n"
     ]
    },
    {
     "name": "stderr",
     "output_type": "stream",
     "text": [
      "100%|██████████| 235/235 [00:02<00:00, 86.93it/s]\n"
     ]
    },
    {
     "name": "stdout",
     "output_type": "stream",
     "text": [
      "Train loss: 0.69136 | Train accuracy: 92.06% | lr: 0.00035309666090421266\n"
     ]
    },
    {
     "name": "stderr",
     "output_type": "stream",
     "text": [
      "100%|██████████| 40/40 [00:00<00:00, 159.22it/s]\n"
     ]
    },
    {
     "name": "stdout",
     "output_type": "stream",
     "text": [
      "Test loss: 0.68637 | Test accuracy: 92.16%\n",
      "Epoch: 18\n",
      "-------\n"
     ]
    },
    {
     "name": "stderr",
     "output_type": "stream",
     "text": [
      "100%|██████████| 235/235 [00:02<00:00, 86.36it/s]\n"
     ]
    },
    {
     "name": "stdout",
     "output_type": "stream",
     "text": [
      "Train loss: 0.69013 | Train accuracy: 92.11% | lr: 0.0001764465881477953\n"
     ]
    },
    {
     "name": "stderr",
     "output_type": "stream",
     "text": [
      "100%|██████████| 40/40 [00:00<00:00, 160.20it/s]\n"
     ]
    },
    {
     "name": "stdout",
     "output_type": "stream",
     "text": [
      "Test loss: 0.68851 | Test accuracy: 92.17%\n",
      "Epoch: 19\n",
      "-------\n"
     ]
    },
    {
     "name": "stderr",
     "output_type": "stream",
     "text": [
      "100%|██████████| 235/235 [00:02<00:00, 89.35it/s]\n"
     ]
    },
    {
     "name": "stdout",
     "output_type": "stream",
     "text": [
      "Train loss: 0.68839 | Train accuracy: 92.25% | lr: 6.691717277393429e-05\n"
     ]
    },
    {
     "name": "stderr",
     "output_type": "stream",
     "text": [
      "100%|██████████| 40/40 [00:00<00:00, 162.20it/s]\n"
     ]
    },
    {
     "name": "stdout",
     "output_type": "stream",
     "text": [
      "Test loss: 0.69145 | Test accuracy: 91.85%\n",
      "Epoch: 20\n",
      "-------\n"
     ]
    },
    {
     "name": "stderr",
     "output_type": "stream",
     "text": [
      "100%|██████████| 235/235 [00:02<00:00, 87.24it/s]\n"
     ]
    },
    {
     "name": "stdout",
     "output_type": "stream",
     "text": [
      "Train loss: 0.68664 | Train accuracy: 92.29% | lr: 3.0000677024483493e-05\n"
     ]
    },
    {
     "name": "stderr",
     "output_type": "stream",
     "text": [
      "100%|██████████| 40/40 [00:00<00:00, 159.20it/s]"
     ]
    },
    {
     "name": "stdout",
     "output_type": "stream",
     "text": [
      "Test loss: 0.68701 | Test accuracy: 92.11%\n",
      "Training finished in 59.12s. Logs saved to: csv\\history_model.csv\n",
      "    epoch  train_loss  train_acc  val_loss  val_acc        lr  elapsed_s\n",
      "17     18    0.690134   0.921117  0.688510   0.9217  0.000176  53.277613\n",
      "18     19    0.688386   0.922483  0.691453   0.9185  0.000067  56.162445\n",
      "19     20    0.686637   0.922917  0.687007   0.9211  0.000030  59.116277\n",
      "\n",
      "Saved final training history to C:\\Users\\Altuk\\OneDrive\\repos\\skill-builder-process\\ml_basics\\notebooks\\DL\\csv\\history_model3_3.csv\n"
     ]
    },
    {
     "name": "stderr",
     "output_type": "stream",
     "text": [
      "\n"
     ]
    }
   ],
   "source": [
    "# Initialize\n",
    "history = []\n",
    "EPOCHS = 20\n",
    "\n",
    "# Run train/eval loop\n",
    "train_test_loop(\n",
    "    history=history,\n",
    "    model=model_3,\n",
    "    train_data_loader=train_dataloader,\n",
    "    test_data_loader=test_dataloader,\n",
    "    loss_fn=loss_fn3,\n",
    "    optimizer=optimizer3,\n",
    "    device=device,\n",
    "    num_classes=NUM_CLASSES,\n",
    "    epochs=EPOCHS,\n",
    "    scheduler=scheduler3\n",
    ")\n",
    "\n",
    "# Convert once after training (the function already appends per epoch)\n",
    "hist_df = pd.DataFrame(history)\n",
    "\n",
    "# Quick sanity check\n",
    "print(hist_df.tail(3))\n",
    "\n",
    "# Save once at the end (more efficient than re-writing each epoch)\n",
    "out_path = Path(\"csv/history_model3_3.csv\")\n",
    "out_path.parent.mkdir(parents=True, exist_ok=True)\n",
    "hist_df.to_csv(out_path, index=False)\n",
    "\n",
    "print(f\"\\nSaved final training history to {out_path.resolve()}\")"
   ]
  }
 ],
 "metadata": {
  "kernelspec": {
   "display_name": ".venv",
   "language": "python",
   "name": "python3"
  },
  "language_info": {
   "codemirror_mode": {
    "name": "ipython",
    "version": 3
   },
   "file_extension": ".py",
   "mimetype": "text/x-python",
   "name": "python",
   "nbconvert_exporter": "python",
   "pygments_lexer": "ipython3",
   "version": "3.13.6"
  }
 },
 "nbformat": 4,
 "nbformat_minor": 5
}
