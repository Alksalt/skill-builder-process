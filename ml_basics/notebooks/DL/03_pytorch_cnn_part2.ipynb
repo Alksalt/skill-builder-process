{
 "cells": [
  {
   "cell_type": "code",
   "execution_count": 1,
   "id": "c8476d00",
   "metadata": {},
   "outputs": [
    {
     "name": "stdout",
     "output_type": "stream",
     "text": [
      "2.8.0\n",
      "0.23.0\n"
     ]
    },
    {
     "name": "stderr",
     "output_type": "stream",
     "text": [
      "/Users/alt/Library/CloudStorage/OneDrive-Personal/Portfolio/skill-builder-process/ml_basics/.venv/lib/python3.13/site-packages/tqdm/auto.py:21: TqdmWarning: IProgress not found. Please update jupyter and ipywidgets. See https://ipywidgets.readthedocs.io/en/stable/user_install.html\n",
      "  from .autonotebook import tqdm as notebook_tqdm\n"
     ]
    }
   ],
   "source": [
    "import torch\n",
    "from torch import nn\n",
    "\n",
    "import torchvision\n",
    "from torchvision import datasets\n",
    "from torchvision import transforms\n",
    "from torchvision.transforms import ToTensor\n",
    "\n",
    "from torch.utils.data import DataLoader\n",
    "\n",
    "import matplotlib.pyplot as plt\n",
    "from torchmetrics import Accuracy, F1Score, Recall, Precision, ConfusionMatrix\n",
    "import requests\n",
    "from pathlib import Path\n",
    "from timeit import default_timer as timer\n",
    "from tqdm.auto import tqdm\n",
    "print(torch.__version__)\n",
    "print(torchvision.__version__)"
   ]
  },
  {
   "cell_type": "code",
   "execution_count": 3,
   "id": "168e31b3",
   "metadata": {},
   "outputs": [],
   "source": [
    "device = \"cpu\""
   ]
  },
  {
   "cell_type": "code",
   "execution_count": 4,
   "id": "a470e294",
   "metadata": {},
   "outputs": [],
   "source": [
    "#Training func\n",
    "def train_step(model:torch.nn.Module,\n",
    "               data_loader: torch.utils.data.DataLoader,\n",
    "               loss_fn: torch.nn.Module,\n",
    "               optimizer: torch.optim.Optimizer,\n",
    "               device: torch.device = device,\n",
    "               task=\"multiclass\",\n",
    "               num_classes=None) -> tuple:\n",
    "    \"\"\"Performs a training with model trying to learn on data_loader\"\"\"\n",
    "    #Creating training and test loop\n",
    "    model.train()\n",
    "    acc_metric = Accuracy(task=task, num_classes=num_classes).to(device)\n",
    "    total_loss, total_n  = 0, 0\n",
    "    for X, y in tqdm(data_loader):\n",
    "        X, y = X.to(device), y.to(device)\n",
    "        #1. Forward pass\n",
    "        logits = model(X)\n",
    "\n",
    "        #2. Calculate loss (per batch)\n",
    "        batch_loss = loss_fn(logits, y)\n",
    "\n",
    "        #Calc total loss and n(number of sample(batch))\n",
    "        n = y.size(0)\n",
    "        total_loss += batch_loss.item() * n # accumulate train loss\n",
    "        total_n += n\n",
    "\n",
    "        #acc\n",
    "        acc_metric.update(logits, y)\n",
    "\n",
    "        #3 three steps\n",
    "        optimizer.zero_grad(set_to_none=True); batch_loss.backward(); optimizer.step()\n",
    "\n",
    "\n",
    "\n",
    "    # Scale loss and acc to find the average loss/acc per batch\n",
    "    avg_loss = total_loss / total_n\n",
    "    avg_acc = acc_metric.compute().item()\n",
    "    print(f\"Train loss: {avg_loss:.5f} | Train accuracy: {avg_acc * 100:.2f}%\")\n",
    "    return avg_loss, avg_acc\n"
   ]
  },
  {
   "cell_type": "code",
   "execution_count": 5,
   "id": "bb0f04e1",
   "metadata": {},
   "outputs": [],
   "source": [
    "#Testing func\n",
    "def test_step(model: torch.nn.Module,\n",
    "              loss_fn: torch.nn.Module,\n",
    "              data_loader: torch.utils.data.DataLoader,\n",
    "              device: torch.device = 'cpu',\n",
    "              task=\"multiclass\",\n",
    "              num_classes=None) -> tuple:\n",
    "    \"\"\"Returns a tuple that contains avg_loss, avg_acc\"\"\"\n",
    "    acc_metric = Accuracy(task=task, num_classes=num_classes).to(device)\n",
    "\n",
    "    total_loss = 0.0\n",
    "    total_n = 0\n",
    "\n",
    "    model.eval()\n",
    "    with torch.inference_mode():\n",
    "        for X, y in tqdm(data_loader):\n",
    "            X, y = X.to(device), y.to(device)\n",
    "\n",
    "            # Make predictions\n",
    "            logits = model(X)\n",
    "            batch_loss = loss_fn(logits, y)\n",
    "\n",
    "            n = y.size(0)\n",
    "            total_loss += batch_loss.item() * n\n",
    "            total_n += n\n",
    "\n",
    "            acc_metric.update(logits, y)\n",
    "    # Scale loss and acc to find the average loss/acc per batch\n",
    "    avg_loss = total_loss / total_n\n",
    "    avg_acc = acc_metric.compute().item()\n",
    "    print(f\"Test loss: {avg_loss:.5f} | Test accuracy: {avg_acc * 100:.2f}%\")\n",
    "    return avg_loss, avg_acc"
   ]
  },
  {
   "cell_type": "markdown",
   "id": "72199cf5",
   "metadata": {},
   "source": [
    "### Model 2: Builing a Convolutional NN "
   ]
  },
  {
   "cell_type": "code",
   "execution_count": 7,
   "id": "c3daa4ee",
   "metadata": {},
   "outputs": [],
   "source": [
    "class FashionMNISTModelV2(nn.Module):\n",
    "    \"\"\"\n",
    "    Model architecture that replicates the TinyVGG\n",
    "    model from CNN explainer website\n",
    "    \"\"\"\n",
    "    def __init__(self, input_shade:int,\n",
    "                 hidden_units: int,\n",
    "                 output_shape: int):\n",
    "        super().__init__()\n",
    "        self.conv_block_1 = nn.Sequential(\n",
    "            nn.Conv2d(in_channels=input_shade,\n",
    "                      out_channels=hidden_units,\n",
    "                      kernel_size=3,\n",
    "                      stride=1,\n",
    "                      padding=1),\n",
    "            nn.ReLU(),\n",
    "            nn.Conv2d(in_channels=hidden_units,\n",
    "                      out_channels=hidden_units,\n",
    "                      kernel_size=3,\n",
    "                      stride=1,\n",
    "                      padding=1),\n",
    "            nn.ReLU(),\n",
    "            nn.MaxPool2d(kernel_size=2)\n",
    "        )\n",
    "        self.conv_block_2 = nn.Sequential(\n",
    "            nn.Conv2d(in_channels=hidden_units,\n",
    "                      out_channels=hidden_units,\n",
    "                      kernel_size=3,\n",
    "                      stride=1,\n",
    "                      padding=1),\n",
    "            nn.ReLU(),\n",
    "            nn.Conv2d(in_channels=hidden_units,\n",
    "                      out_channels=hidden_units,\n",
    "                      kernel_size=3,\n",
    "                      stride=1,\n",
    "                      padding=1),\n",
    "            nn.MaxPool2d(kernel_size=2)\n",
    "        )\n",
    "        self.classifier = nn.Sequential(\n",
    "            nn.Flatten(),\n",
    "            nn.Linear(in_features=hidden_units, out_features=hidden_units)\n",
    "        )\n",
    "\n",
    "    def forward(self, x):\n",
    "        x = self.conv_block_1(x)\n",
    "        print(x.shape)\n",
    "        x = self.conv_block_2(x),\n",
    "        print(x.shape)\n",
    "        x = self.classifier(x)\n",
    "        return x"
   ]
  },
  {
   "cell_type": "code",
   "execution_count": 8,
   "id": "90104de5",
   "metadata": {},
   "outputs": [],
   "source": [
    "model_2  = FashionMNISTModelV2(input_shade=1,\n",
    "                               hidden_units=10,\n",
    "                               output_shape=1).to(device)"
   ]
  },
  {
   "cell_type": "code",
   "execution_count": null,
   "id": "1449c704",
   "metadata": {},
   "outputs": [],
   "source": []
  }
 ],
 "metadata": {
  "kernelspec": {
   "display_name": "Python (ml-env)",
   "language": "python",
   "name": "ml-env"
  },
  "language_info": {
   "codemirror_mode": {
    "name": "ipython",
    "version": 3
   },
   "file_extension": ".py",
   "mimetype": "text/x-python",
   "name": "python",
   "nbconvert_exporter": "python",
   "pygments_lexer": "ipython3",
   "version": "3.13.4"
  }
 },
 "nbformat": 4,
 "nbformat_minor": 5
}
