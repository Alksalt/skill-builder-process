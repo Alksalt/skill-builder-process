{
 "cells": [
  {
   "cell_type": "code",
   "execution_count": null,
   "id": "131b1457",
   "metadata": {},
   "outputs": [],
   "source": [
    "import numpy as np\n",
    "from sklearn.datasets import make_classification\n",
    "from sklearn.model_selection import train_test_split, GridSearchCV\n",
    "from sklearn.feature_selection import mutual_info_classif, SelectKBest\n",
    "from sklearn.preprocessing import StandardScaler\n",
    "from sklearn.linear_model import LogisticRegression\n",
    "from sklearn.pipeline import make_pipeline, Pipeline\n",
    "from sklearn.metrics import classification_report, roc_auc_score"
   ]
  },
  {
   "cell_type": "code",
   "execution_count": 2,
   "id": "eb771186",
   "metadata": {},
   "outputs": [
    {
     "name": "stdout",
     "output_type": "stream",
     "text": [
      "              precision    recall  f1-score   support\n",
      "\n",
      "           0       0.89      0.93      0.91       499\n",
      "           1       0.92      0.88      0.90       501\n",
      "\n",
      "    accuracy                           0.91      1000\n",
      "   macro avg       0.91      0.91      0.91      1000\n",
      "weighted avg       0.91      0.91      0.91      1000\n",
      "\n"
     ]
    }
   ],
   "source": [
    "\n",
    "# Toy binary dataset (all numeric for simplicity)\n",
    "X, y = make_classification(n_samples=4000, n_features=40, n_informative=8,\n",
    "                           n_redundant=8, random_state=0)\n",
    "\n",
    "# 1) Split FIRST  → prevents leakage\n",
    "X_train, X_test, y_train, y_test = train_test_split(\n",
    "    X, y, test_size=0.25, stratify=y, random_state=0\n",
    ")\n",
    "\n",
    "# 2) Fit MI feature selector on TRAIN only\n",
    "k = 15  # number of features to keep (tune this)\n",
    "selector = SelectKBest(score_func=mutual_info_classif, k=k)\n",
    "X_train_sel = selector.fit_transform(X_train, y_train)\n",
    "\n",
    "# 3) Apply SAME mask to test (no refitting on test)\n",
    "X_test_sel = selector.transform(X_test)\n",
    "\n",
    "# 4) Train model on reduced features\n",
    "clf = make_pipeline(StandardScaler(), LogisticRegression(max_iter=2000))\n",
    "clf.fit(X_train_sel, y_train)\n",
    "\n",
    "# 5) Evaluate\n",
    "y_pred = clf.predict(X_test_sel)\n",
    "print(classification_report(y_test, y_pred))"
   ]
  },
  {
   "cell_type": "code",
   "execution_count": 8,
   "id": "709ce9ed",
   "metadata": {},
   "outputs": [
    {
     "name": "stdout",
     "output_type": "stream",
     "text": [
      "Best params: {'clf__C': 1, 'select__k': 20}\n",
      "CV score: 0.8949999999999999\n",
      "Test ROC AUC: 0.9635798543194174\n"
     ]
    }
   ],
   "source": [
    "pipe = Pipeline(steps=[\n",
    "    (\"select\", SelectKBest(score_func=mutual_info_classif, k=10)),\n",
    "    (\"scale\", StandardScaler()),\n",
    "    (\"clf\", LogisticRegression(max_iter=2000))\n",
    "])\n",
    "param_grid = {\n",
    "    \"select__k\": [5, 10, 15, 20],\n",
    "    \"clf__C\": [0.01, 0.1, 1, 10, 100]\n",
    "}\n",
    "gs = GridSearchCV(pipe, param_grid, cv=5, n_jobs=-1)\n",
    "\n",
    "# Fit the grid search on training data\n",
    "gs.fit(X_train, y_train)\n",
    "\n",
    "print(\"Best params:\", gs.best_params_)\n",
    "print(\"CV score:\", gs.best_score_)\n",
    "\n",
    "y_proba = gs.predict_proba(X_test)[:, 1]\n",
    "print(\"Test ROC AUC:\", roc_auc_score(y_test, y_proba))"
   ]
  },
  {
   "cell_type": "code",
   "execution_count": null,
   "id": "c41361ba",
   "metadata": {},
   "outputs": [],
   "source": []
  }
 ],
 "metadata": {
  "kernelspec": {
   "display_name": "Python 3",
   "language": "python",
   "name": "python3"
  },
  "language_info": {
   "codemirror_mode": {
    "name": "ipython",
    "version": 3
   },
   "file_extension": ".py",
   "mimetype": "text/x-python",
   "name": "python",
   "nbconvert_exporter": "python",
   "pygments_lexer": "ipython3",
   "version": "3.12.2"
  }
 },
 "nbformat": 4,
 "nbformat_minor": 5
}
